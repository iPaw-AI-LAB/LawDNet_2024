{
 "cells": [
  {
   "cell_type": "markdown",
   "metadata": {},
   "source": [
    "使用 Python 脚本遍历源目录中的所有子文件夹，找到所有的 .mp4 文件并将它们复制到目标目录。"
   ]
  },
  {
   "cell_type": "code",
   "execution_count": null,
   "metadata": {},
   "outputs": [],
   "source": [
    "import os\n",
    "import shutil\n",
    "import glob\n",
    "from tqdm import tqdm\n",
    "\n",
    "def copy_all_mp4_files(source_root, destination_root):\n",
    "    # 检查源目录是否存在\n",
    "    if not os.path.exists(source_root):\n",
    "        raise ValueError('Source directory does not exist')\n",
    "    \n",
    "    # 如果目标目录不存在，则创建\n",
    "    if not os.path.exists(destination_root):\n",
    "        os.makedirs(destination_root)\n",
    "\n",
    "    # 获取所有 mp4 文件列表\n",
    "    mp4_files = [os.path.join(root, file)\n",
    "                 for root, dirs, files in os.walk(source_root)\n",
    "                 for file in files if file.endswith('.mp4')]\n",
    "\n",
    "    # 使用 tqdm 显示进度条\n",
    "    for source_file in tqdm(mp4_files, desc=\"Copying mp4 files\", unit=\"file\"):\n",
    "        # 构建目标文件路径\n",
    "        destination_file = os.path.join(destination_root, os.path.basename(source_file))\n",
    "        # 复制文件\n",
    "        shutil.copy2(source_file, destination_file)\n",
    "        print(f\"Copied {source_file} to {destination_file}\")\n",
    "\n",
    "if __name__ == '__main__':\n",
    "    source_root = '/pfs/mt-1oY5F7/luoyihao/project/DJL/dataset_raw/B站视频数据'\n",
    "    destination_root = '/pfs/mt-1oY5F7/luoyihao/project/DJL/dataset/dataset_from_bilibili'\n",
    "    copy_all_mp4_files(source_root, destination_root)\n",
    "    print(\"All mp4 files have been copied successfully.\")\n"
   ]
  },
  {
   "cell_type": "code",
   "execution_count": null,
   "metadata": {},
   "outputs": [],
   "source": []
  }
 ],
 "metadata": {
  "kernelspec": {
   "display_name": "DJL_sync",
   "language": "python",
   "name": "python3"
  },
  "language_info": {
   "codemirror_mode": {
    "name": "ipython",
    "version": 3
   },
   "file_extension": ".py",
   "mimetype": "text/x-python",
   "name": "python",
   "nbconvert_exporter": "python",
   "pygments_lexer": "ipython3",
   "version": "3.9.19"
  }
 },
 "nbformat": 4,
 "nbformat_minor": 2
}

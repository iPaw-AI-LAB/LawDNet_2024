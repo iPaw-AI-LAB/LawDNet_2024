{
 "cells": [
  {
   "cell_type": "markdown",
   "metadata": {},
   "source": [
    "使用 Python 脚本遍历源目录中的所有子文件夹，找到所有的 .mp4 文件并将它们复制到目标目录。"
   ]
  },
  {
   "cell_type": "code",
   "execution_count": 1,
   "metadata": {},
   "outputs": [
    {
     "name": "stderr",
     "output_type": "stream",
     "text": [
      "Copying mp4 files:   0%|          | 2/584 [00:00<01:13,  7.93file/s]"
     ]
    },
    {
     "name": "stdout",
     "output_type": "stream",
     "text": [
      "Copied /pfs/mt-1oY5F7/luoyihao/project/DJL/dataset_raw/B站视频数据/最终视频  尾部无水印/丽娟质检-25.mp4 to /pfs/mt-1oY5F7/luoyihao/project/DJL/dataset/dataset_from_bilibili/丽娟质检-25.mp4\n",
      "Copied /pfs/mt-1oY5F7/luoyihao/project/DJL/dataset_raw/B站视频数据/最终视频  尾部无水印/丽娟质检-小县城女教师，利用信息差，一年多挣20万！.mp4 to /pfs/mt-1oY5F7/luoyihao/project/DJL/dataset/dataset_from_bilibili/丽娟质检-小县城女教师，利用信息差，一年多挣20万！.mp4\n"
     ]
    },
    {
     "name": "stderr",
     "output_type": "stream",
     "text": [
      "Copying mp4 files:   1%|          | 4/584 [00:00<01:08,  8.52file/s]"
     ]
    },
    {
     "name": "stdout",
     "output_type": "stream",
     "text": [
      "Copied /pfs/mt-1oY5F7/luoyihao/project/DJL/dataset_raw/B站视频数据/最终视频  尾部无水印/丽娟质检-3.mp4 to /pfs/mt-1oY5F7/luoyihao/project/DJL/dataset/dataset_from_bilibili/丽娟质检-3.mp4\n",
      "Copied /pfs/mt-1oY5F7/luoyihao/project/DJL/dataset_raw/B站视频数据/最终视频  尾部无水印/丽娟质检-中考视频火了，粉丝说我赚够了学费，晒收益给大家看看 - Join.mp4 to /pfs/mt-1oY5F7/luoyihao/project/DJL/dataset/dataset_from_bilibili/丽娟质检-中考视频火了，粉丝说我赚够了学费，晒收益给大家看看 - Join.mp4\n"
     ]
    },
    {
     "name": "stderr",
     "output_type": "stream",
     "text": [
      "Copying mp4 files:   1%|▏         | 8/584 [00:00<00:43, 13.34file/s]"
     ]
    },
    {
     "name": "stdout",
     "output_type": "stream",
     "text": [
      "Copied /pfs/mt-1oY5F7/luoyihao/project/DJL/dataset_raw/B站视频数据/最终视频  尾部无水印/丽娟质检-年轻人如何投资.mp4 to /pfs/mt-1oY5F7/luoyihao/project/DJL/dataset/dataset_from_bilibili/丽娟质检-年轻人如何投资.mp4\n",
      "Copied /pfs/mt-1oY5F7/luoyihao/project/DJL/dataset_raw/B站视频数据/最终视频  尾部无水印/丽娟质检-自我介绍｜三组akaDying戴颖.mp4 to /pfs/mt-1oY5F7/luoyihao/project/DJL/dataset/dataset_from_bilibili/丽娟质检-自我介绍｜三组akaDying戴颖.mp4\n",
      "Copied /pfs/mt-1oY5F7/luoyihao/project/DJL/dataset_raw/B站视频数据/最终视频  尾部无水印/丽娟质检-有没有跟我一样受不了不遵守规则的人。.mp4 to /pfs/mt-1oY5F7/luoyihao/project/DJL/dataset/dataset_from_bilibili/丽娟质检-有没有跟我一样受不了不遵守规则的人。.mp4\n",
      "Copied /pfs/mt-1oY5F7/luoyihao/project/DJL/dataset_raw/B站视频数据/最终视频  尾部无水印/丽娟质检-9.mp4 to /pfs/mt-1oY5F7/luoyihao/project/DJL/dataset/dataset_from_bilibili/丽娟质检-9.mp4\n",
      "Copied /pfs/mt-1oY5F7/luoyihao/project/DJL/dataset_raw/B站视频数据/最终视频  尾部无水印/丽娟质检-希拉里演讲片段背诵.mp4 to /pfs/mt-1oY5F7/luoyihao/project/DJL/dataset/dataset_from_bilibili/丽娟质检-希拉里演讲片段背诵.mp4\n"
     ]
    },
    {
     "name": "stderr",
     "output_type": "stream",
     "text": [
      "Copying mp4 files:   2%|▏         | 12/584 [00:01<00:45, 12.48file/s]"
     ]
    },
    {
     "name": "stdout",
     "output_type": "stream",
     "text": [
      "Copied /pfs/mt-1oY5F7/luoyihao/project/DJL/dataset_raw/B站视频数据/最终视频  尾部无水印/丽娟质检-小时候告诉我金钱可耻，长大了又嫌我穷 - Join.mp4 to /pfs/mt-1oY5F7/luoyihao/project/DJL/dataset/dataset_from_bilibili/丽娟质检-小时候告诉我金钱可耻，长大了又嫌我穷 - Join.mp4\n",
      "Copied /pfs/mt-1oY5F7/luoyihao/project/DJL/dataset_raw/B站视频数据/最终视频  尾部无水印/丽娟质检-18.mp4 to /pfs/mt-1oY5F7/luoyihao/project/DJL/dataset/dataset_from_bilibili/丽娟质检-18.mp4\n",
      "Copied /pfs/mt-1oY5F7/luoyihao/project/DJL/dataset_raw/B站视频数据/最终视频  尾部无水印/丽娟质检-徐晔-科普秀演讲完整版!徐医生真的太有魅力啦! 他真的好优秀啊！ 决赛-徐晔医生获得特等奖.mp4 to /pfs/mt-1oY5F7/luoyihao/project/DJL/dataset/dataset_from_bilibili/丽娟质检-徐晔-科普秀演讲完整版!徐医生真的太有魅力啦! 他真的好优秀啊！ 决赛-徐晔医生获得特等奖.mp4\n"
     ]
    },
    {
     "name": "stderr",
     "output_type": "stream",
     "text": [
      "Copying mp4 files:   2%|▏         | 14/584 [00:01<00:51, 11.01file/s]"
     ]
    },
    {
     "name": "stdout",
     "output_type": "stream",
     "text": [
      "Copied /pfs/mt-1oY5F7/luoyihao/project/DJL/dataset_raw/B站视频数据/最终视频  尾部无水印/丽娟质检-中国移动怎么能跟茅台比呢？一家公用事业公司而已。没有什么太大的投资价值。一旦被套有可能是下一个中国石油。要特别注意风险。.mp4 to /pfs/mt-1oY5F7/luoyihao/project/DJL/dataset/dataset_from_bilibili/丽娟质检-中国移动怎么能跟茅台比呢？一家公用事业公司而已。没有什么太大的投资价值。一旦被套有可能是下一个中国石油。要特别注意风险。.mp4\n",
      "Copied /pfs/mt-1oY5F7/luoyihao/project/DJL/dataset_raw/B站视频数据/最终视频  尾部无水印/丽娟质检-主持人下班后竟被演播课作业逼疯.mp4 to /pfs/mt-1oY5F7/luoyihao/project/DJL/dataset/dataset_from_bilibili/丽娟质检-主持人下班后竟被演播课作业逼疯.mp4\n",
      "Copied /pfs/mt-1oY5F7/luoyihao/project/DJL/dataset_raw/B站视频数据/最终视频  尾部无水印/丽娟质检-越南人想要嫁到中国，是非常难的，.mp4 to /pfs/mt-1oY5F7/luoyihao/project/DJL/dataset/dataset_from_bilibili/丽娟质检-越南人想要嫁到中国，是非常难的，.mp4\n"
     ]
    },
    {
     "name": "stderr",
     "output_type": "stream",
     "text": [
      "Copying mp4 files:   3%|▎         | 17/584 [00:02<01:29,  6.33file/s]"
     ]
    },
    {
     "name": "stdout",
     "output_type": "stream",
     "text": [
      "Copied /pfs/mt-1oY5F7/luoyihao/project/DJL/dataset_raw/B站视频数据/最终视频  尾部无水印/丽娟质检-薪酬管理 第二章 第二节.mp4 to /pfs/mt-1oY5F7/luoyihao/project/DJL/dataset/dataset_from_bilibili/丽娟质检-薪酬管理 第二章 第二节.mp4\n",
      "Copied /pfs/mt-1oY5F7/luoyihao/project/DJL/dataset_raw/B站视频数据/最终视频  尾部无水印/丽娟质检-在阿里工作10年35岁被裁，拿到30多万补偿金，现在找不到工作突然慌了.mp4 to /pfs/mt-1oY5F7/luoyihao/project/DJL/dataset/dataset_from_bilibili/丽娟质检-在阿里工作10年35岁被裁，拿到30多万补偿金，现在找不到工作突然慌了.mp4\n"
     ]
    },
    {
     "name": "stderr",
     "output_type": "stream",
     "text": [
      "Copying mp4 files:   4%|▎         | 21/584 [00:02<00:58,  9.68file/s]"
     ]
    },
    {
     "name": "stdout",
     "output_type": "stream",
     "text": [
      "Copied /pfs/mt-1oY5F7/luoyihao/project/DJL/dataset_raw/B站视频数据/最终视频  尾部无水印/丽娟质检-找不到工作的大学生偷着乐吧！ - Join.mp4 to /pfs/mt-1oY5F7/luoyihao/project/DJL/dataset/dataset_from_bilibili/丽娟质检-找不到工作的大学生偷着乐吧！ - Join.mp4\n",
      "Copied /pfs/mt-1oY5F7/luoyihao/project/DJL/dataset_raw/B站视频数据/最终视频  尾部无水印/丽娟质检-自我介绍｜三组aka黑土赵墨奇.mp4 to /pfs/mt-1oY5F7/luoyihao/project/DJL/dataset/dataset_from_bilibili/丽娟质检-自我介绍｜三组aka黑土赵墨奇.mp4\n",
      "Copied /pfs/mt-1oY5F7/luoyihao/project/DJL/dataset_raw/B站视频数据/最终视频  尾部无水印/丽娟质检-新闻播报 ｜ 刘润琪.mp4 to /pfs/mt-1oY5F7/luoyihao/project/DJL/dataset/dataset_from_bilibili/丽娟质检-新闻播报 ｜ 刘润琪.mp4\n",
      "Copied /pfs/mt-1oY5F7/luoyihao/project/DJL/dataset_raw/B站视频数据/最终视频  尾部无水印/丽娟质检-4.mp4 to /pfs/mt-1oY5F7/luoyihao/project/DJL/dataset/dataset_from_bilibili/丽娟质检-4.mp4\n",
      "Copied /pfs/mt-1oY5F7/luoyihao/project/DJL/dataset_raw/B站视频数据/最终视频  尾部无水印/丽娟质检-为什么你的新能源基金涨不过别人 - Join.mp4 to /pfs/mt-1oY5F7/luoyihao/project/DJL/dataset/dataset_from_bilibili/丽娟质检-为什么你的新能源基金涨不过别人 - Join.mp4\n"
     ]
    },
    {
     "name": "stderr",
     "output_type": "stream",
     "text": [
      "Copying mp4 files:   4%|▍         | 25/584 [00:02<00:56,  9.89file/s]"
     ]
    },
    {
     "name": "stdout",
     "output_type": "stream",
     "text": [
      "Copied /pfs/mt-1oY5F7/luoyihao/project/DJL/dataset_raw/B站视频数据/最终视频  尾部无水印/丽娟质检-新闻播报 坐播单人.mp4 to /pfs/mt-1oY5F7/luoyihao/project/DJL/dataset/dataset_from_bilibili/丽娟质检-新闻播报 坐播单人.mp4\n",
      "Copied /pfs/mt-1oY5F7/luoyihao/project/DJL/dataset_raw/B站视频数据/最终视频  尾部无水印/丽娟质检-这是我四年来一直做的梦.mp4 to /pfs/mt-1oY5F7/luoyihao/project/DJL/dataset/dataset_from_bilibili/丽娟质检-这是我四年来一直做的梦.mp4\n",
      "Copied /pfs/mt-1oY5F7/luoyihao/project/DJL/dataset_raw/B站视频数据/最终视频  尾部无水印/丽娟质检-12.mp4 to /pfs/mt-1oY5F7/luoyihao/project/DJL/dataset/dataset_from_bilibili/丽娟质检-12.mp4\n"
     ]
    },
    {
     "name": "stderr",
     "output_type": "stream",
     "text": [
      "Copying mp4 files:   5%|▍         | 27/584 [00:02<00:50, 11.00file/s]"
     ]
    },
    {
     "name": "stdout",
     "output_type": "stream",
     "text": [
      "Copied /pfs/mt-1oY5F7/luoyihao/project/DJL/dataset_raw/B站视频数据/最终视频  尾部无水印/丽娟质检-28.mp4 to /pfs/mt-1oY5F7/luoyihao/project/DJL/dataset/dataset_from_bilibili/丽娟质检-28.mp4\n",
      "Copied /pfs/mt-1oY5F7/luoyihao/project/DJL/dataset_raw/B站视频数据/最终视频  尾部无水印/丽娟质检-全职投资？聊聊我的看法.mp4 to /pfs/mt-1oY5F7/luoyihao/project/DJL/dataset/dataset_from_bilibili/丽娟质检-全职投资？聊聊我的看法.mp4\n"
     ]
    },
    {
     "name": "stderr",
     "output_type": "stream",
     "text": [
      "Copying mp4 files:   5%|▍         | 29/584 [00:03<01:02,  8.94file/s]"
     ]
    },
    {
     "name": "stdout",
     "output_type": "stream",
     "text": [
      "Copied /pfs/mt-1oY5F7/luoyihao/project/DJL/dataset_raw/B站视频数据/最终视频  尾部无水印/丽娟质检-【无干货】投资就要选择穿越牛熊的行业，未来三十年我只看好这两个行业！.mp4 to /pfs/mt-1oY5F7/luoyihao/project/DJL/dataset/dataset_from_bilibili/丽娟质检-【无干货】投资就要选择穿越牛熊的行业，未来三十年我只看好这两个行业！.mp4\n",
      "Copied /pfs/mt-1oY5F7/luoyihao/project/DJL/dataset_raw/B站视频数据/最终视频  尾部无水印/丽娟质检-22.mp4 to /pfs/mt-1oY5F7/luoyihao/project/DJL/dataset/dataset_from_bilibili/丽娟质检-22.mp4\n",
      "Copied /pfs/mt-1oY5F7/luoyihao/project/DJL/dataset_raw/B站视频数据/最终视频  尾部无水印/丽娟质检-越南小姐姐告诉你，为啥现在她们都在学中文！.mp4 to /pfs/mt-1oY5F7/luoyihao/project/DJL/dataset/dataset_from_bilibili/丽娟质检-越南小姐姐告诉你，为啥现在她们都在学中文！.mp4\n"
     ]
    },
    {
     "name": "stderr",
     "output_type": "stream",
     "text": [
      "Copying mp4 files:   6%|▌         | 35/584 [00:03<00:56,  9.69file/s]"
     ]
    },
    {
     "name": "stdout",
     "output_type": "stream",
     "text": [
      "Copied /pfs/mt-1oY5F7/luoyihao/project/DJL/dataset_raw/B站视频数据/最终视频  尾部无水印/丽娟质检-越南媳妇：自从嫁来中国，越南亲戚每次打视频都这样盯着我看.mp4 to /pfs/mt-1oY5F7/luoyihao/project/DJL/dataset/dataset_from_bilibili/丽娟质检-越南媳妇：自从嫁来中国，越南亲戚每次打视频都这样盯着我看.mp4\n",
      "Copied /pfs/mt-1oY5F7/luoyihao/project/DJL/dataset_raw/B站视频数据/最终视频  尾部无水印/丽娟质检-7.mp4 to /pfs/mt-1oY5F7/luoyihao/project/DJL/dataset/dataset_from_bilibili/丽娟质检-7.mp4\n",
      "Copied /pfs/mt-1oY5F7/luoyihao/project/DJL/dataset_raw/B站视频数据/最终视频  尾部无水印/丽娟质检-中传播音作品片段展示（含中英新闻播报／模拟主持）.mp4 to /pfs/mt-1oY5F7/luoyihao/project/DJL/dataset/dataset_from_bilibili/丽娟质检-中传播音作品片段展示（含中英新闻播报／模拟主持）.mp4\n",
      "Copied /pfs/mt-1oY5F7/luoyihao/project/DJL/dataset_raw/B站视频数据/最终视频  尾部无水印/丽娟质检-自我介绍｜三组aka假拽姐李维真.mp4 to /pfs/mt-1oY5F7/luoyihao/project/DJL/dataset/dataset_from_bilibili/丽娟质检-自我介绍｜三组aka假拽姐李维真.mp4\n",
      "Copied /pfs/mt-1oY5F7/luoyihao/project/DJL/dataset_raw/B站视频数据/最终视频  尾部无水印/丽娟质检-在高铁上， 被小孩的父母教育了.mp4 to /pfs/mt-1oY5F7/luoyihao/project/DJL/dataset/dataset_from_bilibili/丽娟质检-在高铁上， 被小孩的父母教育了.mp4\n"
     ]
    },
    {
     "name": "stderr",
     "output_type": "stream",
     "text": [
      "Copying mp4 files:   6%|▋         | 37/584 [00:04<01:43,  5.27file/s]"
     ]
    },
    {
     "name": "stdout",
     "output_type": "stream",
     "text": [
      "Copied /pfs/mt-1oY5F7/luoyihao/project/DJL/dataset_raw/B站视频数据/最终视频  尾部无水印/丽娟质检-数据分析报告的撰写.mp4 to /pfs/mt-1oY5F7/luoyihao/project/DJL/dataset/dataset_from_bilibili/丽娟质检-数据分析报告的撰写.mp4\n",
      "Copied /pfs/mt-1oY5F7/luoyihao/project/DJL/dataset_raw/B站视频数据/最终视频  尾部无水印/丽娟质检-小伙投资三年，两万美金变成两百万，他的方法普通人也能学会 - Join.mp4 to /pfs/mt-1oY5F7/luoyihao/project/DJL/dataset/dataset_from_bilibili/丽娟质检-小伙投资三年，两万美金变成两百万，他的方法普通人也能学会 - Join.mp4\n"
     ]
    },
    {
     "name": "stderr",
     "output_type": "stream",
     "text": [
      "Copying mp4 files:   7%|▋         | 39/584 [00:05<02:00,  4.54file/s]"
     ]
    },
    {
     "name": "stdout",
     "output_type": "stream",
     "text": [
      "Copied /pfs/mt-1oY5F7/luoyihao/project/DJL/dataset_raw/B站视频数据/最终视频  尾部无水印/丽娟质检-14.mp4 to /pfs/mt-1oY5F7/luoyihao/project/DJL/dataset/dataset_from_bilibili/丽娟质检-14.mp4\n",
      "Copied /pfs/mt-1oY5F7/luoyihao/project/DJL/dataset_raw/B站视频数据/最终视频  尾部无水印/丽娟质检-烟草，月薪13000，年终奖10万，公积金4400，钱多事少离家近.mp4 to /pfs/mt-1oY5F7/luoyihao/project/DJL/dataset/dataset_from_bilibili/丽娟质检-烟草，月薪13000，年终奖10万，公积金4400，钱多事少离家近.mp4\n",
      "Copied /pfs/mt-1oY5F7/luoyihao/project/DJL/dataset_raw/B站视频数据/最终视频  尾部无水印/丽娟质检-15.mp4 to /pfs/mt-1oY5F7/luoyihao/project/DJL/dataset/dataset_from_bilibili/丽娟质检-15.mp4\n",
      "Copied /pfs/mt-1oY5F7/luoyihao/project/DJL/dataset_raw/B站视频数据/最终视频  尾部无水印/丽娟质检-19.mp4 to /pfs/mt-1oY5F7/luoyihao/project/DJL/dataset/dataset_from_bilibili/丽娟质检-19.mp4\n"
     ]
    },
    {
     "name": "stderr",
     "output_type": "stream",
     "text": [
      "Copying mp4 files:   7%|▋         | 42/584 [00:05<01:32,  5.84file/s]"
     ]
    },
    {
     "name": "stdout",
     "output_type": "stream",
     "text": [
      "Copied /pfs/mt-1oY5F7/luoyihao/project/DJL/dataset_raw/B站视频数据/最终视频  尾部无水印/丽娟质检-研究了100个ETF组合，我发现了一个悲剧.mp4 to /pfs/mt-1oY5F7/luoyihao/project/DJL/dataset/dataset_from_bilibili/丽娟质检-研究了100个ETF组合，我发现了一个悲剧.mp4\n",
      "Copied /pfs/mt-1oY5F7/luoyihao/project/DJL/dataset_raw/B站视频数据/最终视频  尾部无水印/丽娟质检-13.mp4 to /pfs/mt-1oY5F7/luoyihao/project/DJL/dataset/dataset_from_bilibili/丽娟质检-13.mp4\n",
      "Copied /pfs/mt-1oY5F7/luoyihao/project/DJL/dataset_raw/B站视频数据/最终视频  尾部无水印/丽娟质检-薪酬管理 第二章 第三节.mp4 to /pfs/mt-1oY5F7/luoyihao/project/DJL/dataset/dataset_from_bilibili/丽娟质检-薪酬管理 第二章 第三节.mp4\n"
     ]
    },
    {
     "name": "stderr",
     "output_type": "stream",
     "text": [
      "Copying mp4 files:   8%|▊         | 47/584 [00:06<01:22,  6.49file/s]"
     ]
    },
    {
     "name": "stdout",
     "output_type": "stream",
     "text": [
      "Copied /pfs/mt-1oY5F7/luoyihao/project/DJL/dataset_raw/B站视频数据/最终视频  尾部无水印/丽娟质检-24.mp4 to /pfs/mt-1oY5F7/luoyihao/project/DJL/dataset/dataset_from_bilibili/丽娟质检-24.mp4\n",
      "Copied /pfs/mt-1oY5F7/luoyihao/project/DJL/dataset_raw/B站视频数据/最终视频  尾部无水印/丽娟质检-新闻联播：爱国爱港是正道.mp4 to /pfs/mt-1oY5F7/luoyihao/project/DJL/dataset/dataset_from_bilibili/丽娟质检-新闻联播：爱国爱港是正道.mp4\n",
      "Copied /pfs/mt-1oY5F7/luoyihao/project/DJL/dataset_raw/B站视频数据/最终视频  尾部无水印/丽娟质检-10.mp4 to /pfs/mt-1oY5F7/luoyihao/project/DJL/dataset/dataset_from_bilibili/丽娟质检-10.mp4\n",
      "Copied /pfs/mt-1oY5F7/luoyihao/project/DJL/dataset_raw/B站视频数据/最终视频  尾部无水印/丽娟质检-中欧医疗被踢出了蚂蚁金选…… - Join.mp4 to /pfs/mt-1oY5F7/luoyihao/project/DJL/dataset/dataset_from_bilibili/丽娟质检-中欧医疗被踢出了蚂蚁金选…… - Join.mp4\n"
     ]
    },
    {
     "name": "stderr",
     "output_type": "stream",
     "text": [
      "Copying mp4 files:   8%|▊         | 49/584 [00:06<01:25,  6.29file/s]"
     ]
    },
    {
     "name": "stdout",
     "output_type": "stream",
     "text": [
      "Copied /pfs/mt-1oY5F7/luoyihao/project/DJL/dataset_raw/B站视频数据/最终视频  尾部无水印/丽娟质检-5.mp4 to /pfs/mt-1oY5F7/luoyihao/project/DJL/dataset/dataset_from_bilibili/丽娟质检-5.mp4\n",
      "Copied /pfs/mt-1oY5F7/luoyihao/project/DJL/dataset_raw/B站视频数据/最终视频  尾部无水印/丽娟质检-20年摸爬滚打，我是怎么寻找到适合自己得投资策略的！希望对所有迷茫的投资者，有一点帮助。.mp4 to /pfs/mt-1oY5F7/luoyihao/project/DJL/dataset/dataset_from_bilibili/丽娟质检-20年摸爬滚打，我是怎么寻找到适合自己得投资策略的！希望对所有迷茫的投资者，有一点帮助。.mp4\n"
     ]
    },
    {
     "name": "stderr",
     "output_type": "stream",
     "text": [
      "Copying mp4 files:   9%|▉         | 53/584 [00:07<01:20,  6.62file/s]"
     ]
    },
    {
     "name": "stdout",
     "output_type": "stream",
     "text": [
      "Copied /pfs/mt-1oY5F7/luoyihao/project/DJL/dataset_raw/B站视频数据/最终视频  尾部无水印/丽娟质检-专业课背诵经验分享.mp4 to /pfs/mt-1oY5F7/luoyihao/project/DJL/dataset/dataset_from_bilibili/丽娟质检-专业课背诵经验分享.mp4\n",
      "Copied /pfs/mt-1oY5F7/luoyihao/project/DJL/dataset_raw/B站视频数据/最终视频  尾部无水印/丽娟质检-还是投资行业挣钱，街上捡瓶子一天才挣7块，连吃饭钱都挣不到.mp4 to /pfs/mt-1oY5F7/luoyihao/project/DJL/dataset/dataset_from_bilibili/丽娟质检-还是投资行业挣钱，街上捡瓶子一天才挣7块，连吃饭钱都挣不到.mp4\n",
      "Copied /pfs/mt-1oY5F7/luoyihao/project/DJL/dataset_raw/B站视频数据/最终视频  尾部无水印/丽娟质检-央视国家宪法日精彩演讲录屏 - Join.mp4 to /pfs/mt-1oY5F7/luoyihao/project/DJL/dataset/dataset_from_bilibili/丽娟质检-央视国家宪法日精彩演讲录屏 - Join.mp4\n"
     ]
    },
    {
     "name": "stderr",
     "output_type": "stream",
     "text": [
      "Copying mp4 files:  10%|▉         | 56/584 [00:07<01:02,  8.42file/s]"
     ]
    },
    {
     "name": "stdout",
     "output_type": "stream",
     "text": [
      "Copied /pfs/mt-1oY5F7/luoyihao/project/DJL/dataset_raw/B站视频数据/最终视频  尾部无水印/丽娟质检-16.mp4 to /pfs/mt-1oY5F7/luoyihao/project/DJL/dataset/dataset_from_bilibili/丽娟质检-16.mp4\n",
      "Copied /pfs/mt-1oY5F7/luoyihao/project/DJL/dataset_raw/B站视频数据/最终视频  尾部无水印/丽娟质检-赵墨奇｜黑土新鲜事.mp4 to /pfs/mt-1oY5F7/luoyihao/project/DJL/dataset/dataset_from_bilibili/丽娟质检-赵墨奇｜黑土新鲜事.mp4\n",
      "Copied /pfs/mt-1oY5F7/luoyihao/project/DJL/dataset_raw/B站视频数据/最终视频  尾部无水印/丽娟质检-自学编程半年，入行3个月就辞职，送你2个建议，不再做无用功！.mp4 to /pfs/mt-1oY5F7/luoyihao/project/DJL/dataset/dataset_from_bilibili/丽娟质检-自学编程半年，入行3个月就辞职，送你2个建议，不再做无用功！.mp4\n",
      "Copied /pfs/mt-1oY5F7/luoyihao/project/DJL/dataset_raw/B站视频数据/最终视频  尾部无水印/丽娟质检-徐晔-科普秀演讲完整版!徐医生真的太有魅力啦! 他真的好优秀啊！ 徐晔医生 科普秀演讲完整版! 徐医生真的太有魅力啦! 他真的好优秀啊 - Join.mp4 to /pfs/mt-1oY5F7/luoyihao/project/DJL/dataset/dataset_from_bilibili/丽娟质检-徐晔-科普秀演讲完整版!徐医生真的太有魅力啦! 他真的好优秀啊！ 徐晔医生 科普秀演讲完整版! 徐医生真的太有魅力啦! 他真的好优秀啊 - Join.mp4\n"
     ]
    },
    {
     "name": "stderr",
     "output_type": "stream",
     "text": [
      "Copying mp4 files:  10%|▉         | 58/584 [00:07<00:58,  8.95file/s]"
     ]
    },
    {
     "name": "stdout",
     "output_type": "stream",
     "text": [
      "Copied /pfs/mt-1oY5F7/luoyihao/project/DJL/dataset_raw/B站视频数据/最终视频  尾部无水印/丽娟质检-我签了私立学校，分享公立和私立合同对比 - Join.mp4 to /pfs/mt-1oY5F7/luoyihao/project/DJL/dataset/dataset_from_bilibili/丽娟质检-我签了私立学校，分享公立和私立合同对比 - Join.mp4\n",
      "Copied /pfs/mt-1oY5F7/luoyihao/project/DJL/dataset_raw/B站视频数据/最终视频  尾部无水印/丽娟质检-8.mp4 to /pfs/mt-1oY5F7/luoyihao/project/DJL/dataset/dataset_from_bilibili/丽娟质检-8.mp4\n"
     ]
    },
    {
     "name": "stderr",
     "output_type": "stream",
     "text": [
      "Copying mp4 files:  10%|█         | 60/584 [00:08<00:58,  8.89file/s]"
     ]
    },
    {
     "name": "stdout",
     "output_type": "stream",
     "text": [
      "Copied /pfs/mt-1oY5F7/luoyihao/project/DJL/dataset_raw/B站视频数据/最终视频  尾部无水印/丽娟质检-决定投资回报的有三点： 1、审慎深入的研究 2、对本金安全保障的策略 3、合理的预期回报.mp4 to /pfs/mt-1oY5F7/luoyihao/project/DJL/dataset/dataset_from_bilibili/丽娟质检-决定投资回报的有三点： 1、审慎深入的研究 2、对本金安全保障的策略 3、合理的预期回报.mp4\n",
      "Copied /pfs/mt-1oY5F7/luoyihao/project/DJL/dataset_raw/B站视频数据/最终视频  尾部无水印/丽娟质检-原面试考官告诉你面试试讲说课评委如何打分.mp4 to /pfs/mt-1oY5F7/luoyihao/project/DJL/dataset/dataset_from_bilibili/丽娟质检-原面试考官告诉你面试试讲说课评委如何打分.mp4\n"
     ]
    },
    {
     "name": "stderr",
     "output_type": "stream",
     "text": [
      "Copying mp4 files:  11%|█         | 64/584 [00:08<00:52,  9.83file/s]"
     ]
    },
    {
     "name": "stdout",
     "output_type": "stream",
     "text": [
      "Copied /pfs/mt-1oY5F7/luoyihao/project/DJL/dataset_raw/B站视频数据/最终视频  尾部无水印/丽娟质检-现在的男人能有多硬气.mp4 to /pfs/mt-1oY5F7/luoyihao/project/DJL/dataset/dataset_from_bilibili/丽娟质检-现在的男人能有多硬气.mp4\n",
      "Copied /pfs/mt-1oY5F7/luoyihao/project/DJL/dataset_raw/B站视频数据/最终视频  尾部无水印/丽娟质检-自我介绍｜三组aka晚安飞飞鱼刘锎宇.mp4 to /pfs/mt-1oY5F7/luoyihao/project/DJL/dataset/dataset_from_bilibili/丽娟质检-自我介绍｜三组aka晚安飞飞鱼刘锎宇.mp4\n",
      "Copied /pfs/mt-1oY5F7/luoyihao/project/DJL/dataset_raw/B站视频数据/最终视频  尾部无水印/丽娟质检-培训机构为什么很少培训C++，特别爱Java.mp4 to /pfs/mt-1oY5F7/luoyihao/project/DJL/dataset/dataset_from_bilibili/丽娟质检-培训机构为什么很少培训C++，特别爱Java.mp4\n"
     ]
    },
    {
     "name": "stderr",
     "output_type": "stream",
     "text": [
      "Copying mp4 files:  11%|█▏        | 66/584 [00:08<00:54,  9.57file/s]"
     ]
    },
    {
     "name": "stdout",
     "output_type": "stream",
     "text": [
      "Copied /pfs/mt-1oY5F7/luoyihao/project/DJL/dataset_raw/B站视频数据/最终视频  尾部无水印/丽娟质检-越南，越来越难.mp4 to /pfs/mt-1oY5F7/luoyihao/project/DJL/dataset/dataset_from_bilibili/丽娟质检-越南，越来越难.mp4\n",
      "Copied /pfs/mt-1oY5F7/luoyihao/project/DJL/dataset_raw/B站视频数据/最终视频  尾部无水印/丽娟质检-新闻播报 ｜ 王磊.mp4 to /pfs/mt-1oY5F7/luoyihao/project/DJL/dataset/dataset_from_bilibili/丽娟质检-新闻播报 ｜ 王磊.mp4\n",
      "Copied /pfs/mt-1oY5F7/luoyihao/project/DJL/dataset_raw/B站视频数据/最终视频  尾部无水印/丽娟质检-终于拿到50万元投资，刚好够和你一起做AR游戏了... - Join.mp4 to /pfs/mt-1oY5F7/luoyihao/project/DJL/dataset/dataset_from_bilibili/丽娟质检-终于拿到50万元投资，刚好够和你一起做AR游戏了... - Join.mp4\n"
     ]
    },
    {
     "name": "stderr",
     "output_type": "stream",
     "text": [
      "Copying mp4 files:  12%|█▏        | 68/584 [00:08<00:49, 10.47file/s]"
     ]
    },
    {
     "name": "stdout",
     "output_type": "stream",
     "text": [
      "Copied /pfs/mt-1oY5F7/luoyihao/project/DJL/dataset_raw/B站视频数据/最终视频  尾部无水印/丽娟质检-6.mp4 to /pfs/mt-1oY5F7/luoyihao/project/DJL/dataset/dataset_from_bilibili/丽娟质检-6.mp4\n"
     ]
    },
    {
     "name": "stderr",
     "output_type": "stream",
     "text": [
      "Copying mp4 files:  12%|█▏        | 70/584 [00:10<02:45,  3.10file/s]"
     ]
    },
    {
     "name": "stdout",
     "output_type": "stream",
     "text": [
      "Copied /pfs/mt-1oY5F7/luoyihao/project/DJL/dataset_raw/B站视频数据/最终视频  尾部无水印/丽娟质检-11.mp4 to /pfs/mt-1oY5F7/luoyihao/project/DJL/dataset/dataset_from_bilibili/丽娟质检-11.mp4\n",
      "Copied /pfs/mt-1oY5F7/luoyihao/project/DJL/dataset_raw/B站视频数据/最终视频  尾部无水印/丽娟质检-真正的居间费详细解法（网上讲的看不下去）.mp4 to /pfs/mt-1oY5F7/luoyihao/project/DJL/dataset/dataset_from_bilibili/丽娟质检-真正的居间费详细解法（网上讲的看不下去）.mp4\n"
     ]
    },
    {
     "name": "stderr",
     "output_type": "stream",
     "text": [
      "Copying mp4 files:  12%|█▏        | 72/584 [00:10<02:07,  4.02file/s]"
     ]
    },
    {
     "name": "stdout",
     "output_type": "stream",
     "text": [
      "Copied /pfs/mt-1oY5F7/luoyihao/project/DJL/dataset_raw/B站视频数据/最终视频  尾部无水印/丽娟质检-一个真实的案件，组织动物卖淫，构成组织卖淫罪吗？.mp4 to /pfs/mt-1oY5F7/luoyihao/project/DJL/dataset/dataset_from_bilibili/丽娟质检-一个真实的案件，组织动物卖淫，构成组织卖淫罪吗？.mp4\n",
      "Copied /pfs/mt-1oY5F7/luoyihao/project/DJL/dataset_raw/B站视频数据/最终视频  尾部无水印/丽娟质检-17.mp4 to /pfs/mt-1oY5F7/luoyihao/project/DJL/dataset/dataset_from_bilibili/丽娟质检-17.mp4\n"
     ]
    },
    {
     "name": "stderr",
     "output_type": "stream",
     "text": [
      "Copying mp4 files:  13%|█▎        | 76/584 [00:10<01:21,  6.26file/s]"
     ]
    },
    {
     "name": "stdout",
     "output_type": "stream",
     "text": [
      "Copied /pfs/mt-1oY5F7/luoyihao/project/DJL/dataset_raw/B站视频数据/最终视频  尾部无水印/丽娟质检-投资闲聊，汇报一下海康业绩说明会.mp4 to /pfs/mt-1oY5F7/luoyihao/project/DJL/dataset/dataset_from_bilibili/丽娟质检-投资闲聊，汇报一下海康业绩说明会.mp4\n",
      "Copied /pfs/mt-1oY5F7/luoyihao/project/DJL/dataset_raw/B站视频数据/最终视频  尾部无水印/丽娟质检-现在的公司是招聘呢还是许愿呢？两千的工资也是真敢提需求啊！ - Join.mp4 to /pfs/mt-1oY5F7/luoyihao/project/DJL/dataset/dataset_from_bilibili/丽娟质检-现在的公司是招聘呢还是许愿呢？两千的工资也是真敢提需求啊！ - Join.mp4\n",
      "Copied /pfs/mt-1oY5F7/luoyihao/project/DJL/dataset_raw/B站视频数据/最终视频  尾部无水印/丽娟质检-2023走完了一季度，我们经济走向了何处？ - Join.mp4 to /pfs/mt-1oY5F7/luoyihao/project/DJL/dataset/dataset_from_bilibili/丽娟质检-2023走完了一季度，我们经济走向了何处？ - Join.mp4\n",
      "Copied /pfs/mt-1oY5F7/luoyihao/project/DJL/dataset_raw/B站视频数据/最终视频  尾部无水印/丽娟质检-亲身经历，谈谈培训机构、私立学校、公立学校老师的区别！.mp4 to /pfs/mt-1oY5F7/luoyihao/project/DJL/dataset/dataset_from_bilibili/丽娟质检-亲身经历，谈谈培训机构、私立学校、公立学校老师的区别！.mp4\n"
     ]
    },
    {
     "name": "stderr",
     "output_type": "stream",
     "text": [
      "Copying mp4 files:  13%|█▎        | 78/584 [00:11<01:10,  7.17file/s]"
     ]
    },
    {
     "name": "stdout",
     "output_type": "stream",
     "text": [
      "Copied /pfs/mt-1oY5F7/luoyihao/project/DJL/dataset_raw/B站视频数据/最终视频  尾部无水印/丽娟质检-财务bp如何搞定经营分析报告？.mp4 to /pfs/mt-1oY5F7/luoyihao/project/DJL/dataset/dataset_from_bilibili/丽娟质检-财务bp如何搞定经营分析报告？.mp4\n",
      "Copied /pfs/mt-1oY5F7/luoyihao/project/DJL/dataset_raw/B站视频数据/最终视频  尾部无水印/丽娟质检-新闻联播：中国反制，说到做到！.mp4 to /pfs/mt-1oY5F7/luoyihao/project/DJL/dataset/dataset_from_bilibili/丽娟质检-新闻联播：中国反制，说到做到！.mp4\n",
      "Copied /pfs/mt-1oY5F7/luoyihao/project/DJL/dataset_raw/B站视频数据/最终视频  尾部无水印/丽娟质检-20.mp4 to /pfs/mt-1oY5F7/luoyihao/project/DJL/dataset/dataset_from_bilibili/丽娟质检-20.mp4\n",
      "Copied /pfs/mt-1oY5F7/luoyihao/project/DJL/dataset_raw/B站视频数据/最终视频  尾部无水印/丽娟质检-闫润安｜《你就说这凉拌豆腐好不好吃》.mp4 to /pfs/mt-1oY5F7/luoyihao/project/DJL/dataset/dataset_from_bilibili/丽娟质检-闫润安｜《你就说这凉拌豆腐好不好吃》.mp4\n"
     ]
    },
    {
     "name": "stderr",
     "output_type": "stream",
     "text": [
      "Copying mp4 files:  14%|█▍        | 84/584 [00:11<00:48, 10.31file/s]"
     ]
    },
    {
     "name": "stdout",
     "output_type": "stream",
     "text": [
      "Copied /pfs/mt-1oY5F7/luoyihao/project/DJL/dataset_raw/B站视频数据/最终视频  尾部无水印/丽娟质检-1.mp4 to /pfs/mt-1oY5F7/luoyihao/project/DJL/dataset/dataset_from_bilibili/丽娟质检-1.mp4\n",
      "Copied /pfs/mt-1oY5F7/luoyihao/project/DJL/dataset_raw/B站视频数据/最终视频  尾部无水印/丽娟质检-朋友的券商又赚麻了，一招鲜吃遍天.mp4 to /pfs/mt-1oY5F7/luoyihao/project/DJL/dataset/dataset_from_bilibili/丽娟质检-朋友的券商又赚麻了，一招鲜吃遍天.mp4\n",
      "Copied /pfs/mt-1oY5F7/luoyihao/project/DJL/dataset_raw/B站视频数据/最终视频  尾部无水印/丽娟质检-新闻播报 ｜ 小杨的新闻频道.mp4 to /pfs/mt-1oY5F7/luoyihao/project/DJL/dataset/dataset_from_bilibili/丽娟质检-新闻播报 ｜ 小杨的新闻频道.mp4\n",
      "Copied /pfs/mt-1oY5F7/luoyihao/project/DJL/dataset_raw/B站视频数据/最终视频  尾部无水印/丽娟质检-一下班苟经理就被大聪明给拦了，这些年要不是有人拦着估计坟头草都有三米多高了。.mp4 to /pfs/mt-1oY5F7/luoyihao/project/DJL/dataset/dataset_from_bilibili/丽娟质检-一下班苟经理就被大聪明给拦了，这些年要不是有人拦着估计坟头草都有三米多高了。.mp4\n"
     ]
    },
    {
     "name": "stderr",
     "output_type": "stream",
     "text": [
      "Copying mp4 files:  15%|█▍        | 86/584 [00:11<00:48, 10.33file/s]"
     ]
    },
    {
     "name": "stdout",
     "output_type": "stream",
     "text": [
      "Copied /pfs/mt-1oY5F7/luoyihao/project/DJL/dataset_raw/B站视频数据/最终视频  尾部无水印/丽娟质检-26.mp4 to /pfs/mt-1oY5F7/luoyihao/project/DJL/dataset/dataset_from_bilibili/丽娟质检-26.mp4\n",
      "Copied /pfs/mt-1oY5F7/luoyihao/project/DJL/dataset_raw/B站视频数据/最终视频  尾部无水印/丽娟质检-医保局，我要吹爆他，钱多事少离家近，提拔都不愿意调走的好单位.mp4 to /pfs/mt-1oY5F7/luoyihao/project/DJL/dataset/dataset_from_bilibili/丽娟质检-医保局，我要吹爆他，钱多事少离家近，提拔都不愿意调走的好单位.mp4\n"
     ]
    },
    {
     "name": "stderr",
     "output_type": "stream",
     "text": [
      "Copying mp4 files:  15%|█▌        | 88/584 [00:12<01:01,  8.12file/s]"
     ]
    },
    {
     "name": "stdout",
     "output_type": "stream",
     "text": [
      "Copied /pfs/mt-1oY5F7/luoyihao/project/DJL/dataset_raw/B站视频数据/最终视频  尾部无水印/丽娟质检-公立校老师视角看校外培训机构整治.mp4 to /pfs/mt-1oY5F7/luoyihao/project/DJL/dataset/dataset_from_bilibili/丽娟质检-公立校老师视角看校外培训机构整治.mp4\n",
      "Copied /pfs/mt-1oY5F7/luoyihao/project/DJL/dataset_raw/B站视频数据/最终视频  尾部无水印/丽娟质检-新闻联播：中国人不是被吓大的！.mp4 to /pfs/mt-1oY5F7/luoyihao/project/DJL/dataset/dataset_from_bilibili/丽娟质检-新闻联播：中国人不是被吓大的！.mp4\n"
     ]
    },
    {
     "name": "stderr",
     "output_type": "stream",
     "text": [
      "Copying mp4 files:  16%|█▌        | 91/584 [00:13<01:37,  5.07file/s]"
     ]
    },
    {
     "name": "stdout",
     "output_type": "stream",
     "text": [
      "Copied /pfs/mt-1oY5F7/luoyihao/project/DJL/dataset_raw/B站视频数据/最终视频  尾部无水印/丽娟质检-1-3.mp4 to /pfs/mt-1oY5F7/luoyihao/project/DJL/dataset/dataset_from_bilibili/丽娟质检-1-3.mp4\n",
      "Copied /pfs/mt-1oY5F7/luoyihao/project/DJL/dataset_raw/B站视频数据/最终视频  尾部无水印/丽娟质检-自我介绍｜三组aka晚安小点点刘熳青.mp4 to /pfs/mt-1oY5F7/luoyihao/project/DJL/dataset/dataset_from_bilibili/丽娟质检-自我介绍｜三组aka晚安小点点刘熳青.mp4\n",
      "Copied /pfs/mt-1oY5F7/luoyihao/project/DJL/dataset_raw/B站视频数据/最终视频  尾部无水印/丽娟质检-不开玩笑，说点对你投资有用的。 - Join.mp4 to /pfs/mt-1oY5F7/luoyihao/project/DJL/dataset/dataset_from_bilibili/丽娟质检-不开玩笑，说点对你投资有用的。 - Join.mp4\n"
     ]
    },
    {
     "name": "stderr",
     "output_type": "stream",
     "text": [
      "Copying mp4 files:  16%|█▌        | 92/584 [00:13<01:41,  4.86file/s]"
     ]
    },
    {
     "name": "stdout",
     "output_type": "stream",
     "text": [
      "Copied /pfs/mt-1oY5F7/luoyihao/project/DJL/dataset_raw/B站视频数据/最终视频  尾部无水印/丽娟质检-在火星培训班学完后的情况.mp4 to /pfs/mt-1oY5F7/luoyihao/project/DJL/dataset/dataset_from_bilibili/丽娟质检-在火星培训班学完后的情况.mp4\n",
      "Copied /pfs/mt-1oY5F7/luoyihao/project/DJL/dataset_raw/B站视频数据/最终视频  尾部无水印/丽娟质检-21.mp4 to /pfs/mt-1oY5F7/luoyihao/project/DJL/dataset/dataset_from_bilibili/丽娟质检-21.mp4\n",
      "Copied /pfs/mt-1oY5F7/luoyihao/project/DJL/dataset_raw/B站视频数据/最终视频  尾部无水印/丽娟质检-自我介绍｜三组aka茶几闫润安.mp4 to /pfs/mt-1oY5F7/luoyihao/project/DJL/dataset/dataset_from_bilibili/丽娟质检-自我介绍｜三组aka茶几闫润安.mp4\n"
     ]
    },
    {
     "name": "stderr",
     "output_type": "stream",
     "text": [
      "Copying mp4 files:  17%|█▋        | 97/584 [00:14<01:38,  4.93file/s]"
     ]
    },
    {
     "name": "stdout",
     "output_type": "stream",
     "text": [
      "Copied /pfs/mt-1oY5F7/luoyihao/project/DJL/dataset_raw/B站视频数据/最终视频  尾部无水印/丽娟质检-【新课程】2023监理-水利控制（投资+质量+进度控制）精讲班-张老师【有讲义】 02.第02节课投资控制基本知识1.mp4 to /pfs/mt-1oY5F7/luoyihao/project/DJL/dataset/dataset_from_bilibili/丽娟质检-【新课程】2023监理-水利控制（投资+质量+进度控制）精讲班-张老师【有讲义】 02.第02节课投资控制基本知识1.mp4\n",
      "Copied /pfs/mt-1oY5F7/luoyihao/project/DJL/dataset_raw/B站视频数据/最终视频  尾部无水印/丽娟质检-投资新手必看.mp4 to /pfs/mt-1oY5F7/luoyihao/project/DJL/dataset/dataset_from_bilibili/丽娟质检-投资新手必看.mp4\n",
      "Copied /pfs/mt-1oY5F7/luoyihao/project/DJL/dataset_raw/B站视频数据/最终视频  尾部无水印/丽娟质检-我也是第一次带弟弟.mp4 to /pfs/mt-1oY5F7/luoyihao/project/DJL/dataset/dataset_from_bilibili/丽娟质检-我也是第一次带弟弟.mp4\n"
     ]
    },
    {
     "name": "stderr",
     "output_type": "stream",
     "text": [
      "Copying mp4 files:  17%|█▋        | 100/584 [00:15<01:55,  4.18file/s]"
     ]
    },
    {
     "name": "stdout",
     "output_type": "stream",
     "text": [
      "Copied /pfs/mt-1oY5F7/luoyihao/project/DJL/dataset_raw/B站视频数据/最终视频  尾部无水印/丽娟质检-1-2.mp4 to /pfs/mt-1oY5F7/luoyihao/project/DJL/dataset/dataset_from_bilibili/丽娟质检-1-2.mp4\n",
      "Copied /pfs/mt-1oY5F7/luoyihao/project/DJL/dataset_raw/B站视频数据/最终视频  尾部无水印/丽娟质检-有个投资陷阱要关注下了.mp4 to /pfs/mt-1oY5F7/luoyihao/project/DJL/dataset/dataset_from_bilibili/丽娟质检-有个投资陷阱要关注下了.mp4\n",
      "Copied /pfs/mt-1oY5F7/luoyihao/project/DJL/dataset_raw/B站视频数据/最终视频  尾部无水印/丽娟质检-有什么好的方法让朗读声音更加好听？.mp4 to /pfs/mt-1oY5F7/luoyihao/project/DJL/dataset/dataset_from_bilibili/丽娟质检-有什么好的方法让朗读声音更加好听？.mp4\n"
     ]
    },
    {
     "name": "stderr",
     "output_type": "stream",
     "text": [
      "Copying mp4 files:  18%|█▊        | 104/584 [00:15<01:09,  6.90file/s]"
     ]
    },
    {
     "name": "stdout",
     "output_type": "stream",
     "text": [
      "Copied /pfs/mt-1oY5F7/luoyihao/project/DJL/dataset_raw/B站视频数据/最终视频  尾部无水印/丽娟质检-23.mp4 to /pfs/mt-1oY5F7/luoyihao/project/DJL/dataset/dataset_from_bilibili/丽娟质检-23.mp4\n",
      "Copied /pfs/mt-1oY5F7/luoyihao/project/DJL/dataset_raw/B站视频数据/最终视频  尾部无水印/丽娟质检-27.mp4 to /pfs/mt-1oY5F7/luoyihao/project/DJL/dataset/dataset_from_bilibili/丽娟质检-27.mp4\n",
      "Copied /pfs/mt-1oY5F7/luoyihao/project/DJL/dataset_raw/B站视频数据/最终视频  尾部无水印/丽娟质检-新闻播报 ｜ 小隋的新闻频道.mp4 to /pfs/mt-1oY5F7/luoyihao/project/DJL/dataset/dataset_from_bilibili/丽娟质检-新闻播报 ｜ 小隋的新闻频道.mp4\n",
      "Copied /pfs/mt-1oY5F7/luoyihao/project/DJL/dataset_raw/B站视频数据/最终视频  尾部无水印/丽娟质检-2.mp4 to /pfs/mt-1oY5F7/luoyihao/project/DJL/dataset/dataset_from_bilibili/丽娟质检-2.mp4\n"
     ]
    },
    {
     "name": "stderr",
     "output_type": "stream",
     "text": [
      "Copying mp4 files:  18%|█▊        | 106/584 [00:15<00:56,  8.43file/s]"
     ]
    },
    {
     "name": "stdout",
     "output_type": "stream",
     "text": [
      "Copied /pfs/mt-1oY5F7/luoyihao/project/DJL/dataset_raw/B站视频数据/最终视频  尾部无水印3/昨天看到这里，这个还没有检查.mp4 to /pfs/mt-1oY5F7/luoyihao/project/DJL/dataset/dataset_from_bilibili/昨天看到这里，这个还没有检查.mp4\n",
      "Copied /pfs/mt-1oY5F7/luoyihao/project/DJL/dataset_raw/B站视频数据/最终视频  尾部无水印3/一只股票你观察多久，才会下手？.mp4 to /pfs/mt-1oY5F7/luoyihao/project/DJL/dataset/dataset_from_bilibili/一只股票你观察多久，才会下手？.mp4\n",
      "Copied /pfs/mt-1oY5F7/luoyihao/project/DJL/dataset_raw/B站视频数据/最终视频  尾部无水印3/【字幕完结版】2020法考客观题刑事诉讼法精讲课-众合左宁 刑诉精讲专题01：刑事诉讼法的概念（2） - 2of6.mp4 to /pfs/mt-1oY5F7/luoyihao/project/DJL/dataset/dataset_from_bilibili/【字幕完结版】2020法考客观题刑事诉讼法精讲课-众合左宁 刑诉精讲专题01：刑事诉讼法的概念（2） - 2of6.mp4\n",
      "Copied /pfs/mt-1oY5F7/luoyihao/project/DJL/dataset_raw/B站视频数据/最终视频  尾部无水印3/扁平疣，寻常疣，尖锐湿疣，跖疣都是由HPV引起的，我来教你如何区分！.mp4 to /pfs/mt-1oY5F7/luoyihao/project/DJL/dataset/dataset_from_bilibili/扁平疣，寻常疣，尖锐湿疣，跖疣都是由HPV引起的，我来教你如何区分！.mp4\n"
     ]
    },
    {
     "name": "stderr",
     "output_type": "stream",
     "text": [
      "Copying mp4 files:  19%|█▉        | 111/584 [00:16<00:38, 12.41file/s]"
     ]
    },
    {
     "name": "stdout",
     "output_type": "stream",
     "text": [
      "Copied /pfs/mt-1oY5F7/luoyihao/project/DJL/dataset_raw/B站视频数据/最终视频  尾部无水印3/舅读研36讲课程集锦 第2讲 - 5of6.mp4 to /pfs/mt-1oY5F7/luoyihao/project/DJL/dataset/dataset_from_bilibili/舅读研36讲课程集锦 第2讲 - 5of6.mp4\n",
      "Copied /pfs/mt-1oY5F7/luoyihao/project/DJL/dataset_raw/B站视频数据/最终视频  尾部无水印3/先别管绿不绿了，我反正已经黄了 - 2of2.mp4 to /pfs/mt-1oY5F7/luoyihao/project/DJL/dataset/dataset_from_bilibili/先别管绿不绿了，我反正已经黄了 - 2of2.mp4\n",
      "Copied /pfs/mt-1oY5F7/luoyihao/project/DJL/dataset_raw/B站视频数据/最终视频  尾部无水印3/左侧交易，该确定交易周期了！.mp4 to /pfs/mt-1oY5F7/luoyihao/project/DJL/dataset/dataset_from_bilibili/左侧交易，该确定交易周期了！.mp4\n",
      "Copied /pfs/mt-1oY5F7/luoyihao/project/DJL/dataset_raw/B站视频数据/最终视频  尾部无水印3/【字幕完结版】2020法考客观题刑事诉讼法精讲课-众合左宁 刑诉精讲专题01：刑事诉讼法的概念（1） - 11of18.mp4 to /pfs/mt-1oY5F7/luoyihao/project/DJL/dataset/dataset_from_bilibili/【字幕完结版】2020法考客观题刑事诉讼法精讲课-众合左宁 刑诉精讲专题01：刑事诉讼法的概念（1） - 11of18.mp4\n"
     ]
    },
    {
     "name": "stderr",
     "output_type": "stream",
     "text": [
      "Copying mp4 files:  20%|██        | 117/584 [00:16<00:31, 14.99file/s]"
     ]
    },
    {
     "name": "stdout",
     "output_type": "stream",
     "text": [
      "Copied /pfs/mt-1oY5F7/luoyihao/project/DJL/dataset_raw/B站视频数据/最终视频  尾部无水印3/舅读研36讲课程集锦 第1讲 - 6of10.mp4 to /pfs/mt-1oY5F7/luoyihao/project/DJL/dataset/dataset_from_bilibili/舅读研36讲课程集锦 第1讲 - 6of10.mp4\n",
      "Copied /pfs/mt-1oY5F7/luoyihao/project/DJL/dataset_raw/B站视频数据/最终视频  尾部无水印3/年报季报要来了！如何读懂基金报告？ - 2of2.mp4 to /pfs/mt-1oY5F7/luoyihao/project/DJL/dataset/dataset_from_bilibili/年报季报要来了！如何读懂基金报告？ - 2of2.mp4\n",
      "Copied /pfs/mt-1oY5F7/luoyihao/project/DJL/dataset_raw/B站视频数据/最终视频  尾部无水印3/咬定青山不放松.mp4 to /pfs/mt-1oY5F7/luoyihao/project/DJL/dataset/dataset_from_bilibili/咬定青山不放松.mp4\n",
      "Copied /pfs/mt-1oY5F7/luoyihao/project/DJL/dataset_raw/B站视频数据/最终视频  尾部无水印3/感染新冠后的常见问题，我来解答！.mp4 to /pfs/mt-1oY5F7/luoyihao/project/DJL/dataset/dataset_from_bilibili/感染新冠后的常见问题，我来解答！.mp4\n",
      "Copied /pfs/mt-1oY5F7/luoyihao/project/DJL/dataset_raw/B站视频数据/最终视频  尾部无水印3/今晚反弹！.mp4 to /pfs/mt-1oY5F7/luoyihao/project/DJL/dataset/dataset_from_bilibili/今晚反弹！.mp4\n",
      "Copied /pfs/mt-1oY5F7/luoyihao/project/DJL/dataset_raw/B站视频数据/最终视频  尾部无水印3/研报如何看？看哪些？老股民教你一招就能看懂研报.mp4 to /pfs/mt-1oY5F7/luoyihao/project/DJL/dataset/dataset_from_bilibili/研报如何看？看哪些？老股民教你一招就能看懂研报.mp4\n"
     ]
    },
    {
     "name": "stderr",
     "output_type": "stream",
     "text": [
      "Copying mp4 files:  21%|██        | 121/584 [00:17<00:37, 12.44file/s]"
     ]
    },
    {
     "name": "stdout",
     "output_type": "stream",
     "text": [
      "Copied /pfs/mt-1oY5F7/luoyihao/project/DJL/dataset_raw/B站视频数据/最终视频  尾部无水印3/A股：做好准备！惊喜随时到来，给股民3点提醒，我锁定了4个板块.mp4 to /pfs/mt-1oY5F7/luoyihao/project/DJL/dataset/dataset_from_bilibili/A股：做好准备！惊喜随时到来，给股民3点提醒，我锁定了4个板块.mp4\n",
      "Copied /pfs/mt-1oY5F7/luoyihao/project/DJL/dataset_raw/B站视频数据/最终视频  尾部无水印3/舅读研36讲课程集锦 第4讲 - 5of9.mp4 to /pfs/mt-1oY5F7/luoyihao/project/DJL/dataset/dataset_from_bilibili/舅读研36讲课程集锦 第4讲 - 5of9.mp4\n",
      "Copied /pfs/mt-1oY5F7/luoyihao/project/DJL/dataset_raw/B站视频数据/最终视频  尾部无水印3/教师面试初中数学无生试讲.模拟上课.讲课.说课.招聘 - 2of4.mp4 to /pfs/mt-1oY5F7/luoyihao/project/DJL/dataset/dataset_from_bilibili/教师面试初中数学无生试讲.模拟上课.讲课.说课.招聘 - 2of4.mp4\n",
      "Copied /pfs/mt-1oY5F7/luoyihao/project/DJL/dataset_raw/B站视频数据/最终视频  尾部无水印3/为什么集中唱多的板块，反而最容易被套？ - 1of3.mp4 to /pfs/mt-1oY5F7/luoyihao/project/DJL/dataset/dataset_from_bilibili/为什么集中唱多的板块，反而最容易被套？ - 1of3.mp4\n"
     ]
    },
    {
     "name": "stderr",
     "output_type": "stream",
     "text": [
      "Copying mp4 files:  21%|██        | 124/584 [00:17<00:30, 15.28file/s]"
     ]
    },
    {
     "name": "stdout",
     "output_type": "stream",
     "text": [
      "Copied /pfs/mt-1oY5F7/luoyihao/project/DJL/dataset_raw/B站视频数据/最终视频  尾部无水印3/【字幕完结版】2020法考客观题刑事诉讼法精讲课-众合左宁 刑诉精讲专题01：刑事诉讼法的概念（1） - 12of18.mp4 to /pfs/mt-1oY5F7/luoyihao/project/DJL/dataset/dataset_from_bilibili/【字幕完结版】2020法考客观题刑事诉讼法精讲课-众合左宁 刑诉精讲专题01：刑事诉讼法的概念（1） - 12of18.mp4\n",
      "Copied /pfs/mt-1oY5F7/luoyihao/project/DJL/dataset_raw/B站视频数据/最终视频  尾部无水印3/舅读研36讲课程集锦 第4讲 - 2of9.mp4 to /pfs/mt-1oY5F7/luoyihao/project/DJL/dataset/dataset_from_bilibili/舅读研36讲课程集锦 第4讲 - 2of9.mp4\n",
      "Copied /pfs/mt-1oY5F7/luoyihao/project/DJL/dataset_raw/B站视频数据/最终视频  尾部无水印3/【字幕完结版】2020法考客观题刑事诉讼法精讲课-众合左宁 刑诉精讲专题01：刑事诉讼法的概念（2） - 1of6.mp4 to /pfs/mt-1oY5F7/luoyihao/project/DJL/dataset/dataset_from_bilibili/【字幕完结版】2020法考客观题刑事诉讼法精讲课-众合左宁 刑诉精讲专题01：刑事诉讼法的概念（2） - 1of6.mp4\n",
      "Copied /pfs/mt-1oY5F7/luoyihao/project/DJL/dataset_raw/B站视频数据/最终视频  尾部无水印3/炒股怎么训练盘感？.mp4 to /pfs/mt-1oY5F7/luoyihao/project/DJL/dataset/dataset_from_bilibili/炒股怎么训练盘感？.mp4\n",
      "Copied /pfs/mt-1oY5F7/luoyihao/project/DJL/dataset_raw/B站视频数据/最终视频  尾部无水印3/【一盘大棋】A50来了，新加坡的A50要靠边站了？ - 2of3.mp4 to /pfs/mt-1oY5F7/luoyihao/project/DJL/dataset/dataset_from_bilibili/【一盘大棋】A50来了，新加坡的A50要靠边站了？ - 2of3.mp4\n"
     ]
    },
    {
     "name": "stderr",
     "output_type": "stream",
     "text": [
      "Copying mp4 files:  23%|██▎       | 132/584 [00:17<00:21, 21.40file/s]"
     ]
    },
    {
     "name": "stdout",
     "output_type": "stream",
     "text": [
      "Copied /pfs/mt-1oY5F7/luoyihao/project/DJL/dataset_raw/B站视频数据/最终视频  尾部无水印3/【字幕完结版】2020法考客观题刑事诉讼法精讲课-众合左宁 刑诉精讲专题03：刑事诉讼中的专门机关和诉讼参与人（2） - 1of6.mp4 to /pfs/mt-1oY5F7/luoyihao/project/DJL/dataset/dataset_from_bilibili/【字幕完结版】2020法考客观题刑事诉讼法精讲课-众合左宁 刑诉精讲专题03：刑事诉讼中的专门机关和诉讼参与人（2） - 1of6.mp4\n",
      "Copied /pfs/mt-1oY5F7/luoyihao/project/DJL/dataset_raw/B站视频数据/最终视频  尾部无水印3/【字幕完结版】2020法考客观题刑事诉讼法精讲课-众合左宁 刑诉精讲专题04：管辖 （2） - 3of5.mp4 to /pfs/mt-1oY5F7/luoyihao/project/DJL/dataset/dataset_from_bilibili/【字幕完结版】2020法考客观题刑事诉讼法精讲课-众合左宁 刑诉精讲专题04：管辖 （2） - 3of5.mp4\n",
      "Copied /pfs/mt-1oY5F7/luoyihao/project/DJL/dataset_raw/B站视频数据/最终视频  尾部无水印3/投资是一场修行！.mp4 to /pfs/mt-1oY5F7/luoyihao/project/DJL/dataset/dataset_from_bilibili/投资是一场修行！.mp4\n",
      "Copied /pfs/mt-1oY5F7/luoyihao/project/DJL/dataset_raw/B站视频数据/最终视频  尾部无水印3/守得住利润，是你挣钱的关键！.mp4 to /pfs/mt-1oY5F7/luoyihao/project/DJL/dataset/dataset_from_bilibili/守得住利润，是你挣钱的关键！.mp4\n",
      "Copied /pfs/mt-1oY5F7/luoyihao/project/DJL/dataset_raw/B站视频数据/最终视频  尾部无水印3/舅读研36讲课程集锦 第4讲 - 7of9.mp4 to /pfs/mt-1oY5F7/luoyihao/project/DJL/dataset/dataset_from_bilibili/舅读研36讲课程集锦 第4讲 - 7of9.mp4\n"
     ]
    },
    {
     "name": "stderr",
     "output_type": "stream",
     "text": [
      "Copying mp4 files:  24%|██▎       | 138/584 [00:17<00:25, 17.48file/s]"
     ]
    },
    {
     "name": "stdout",
     "output_type": "stream",
     "text": [
      "Copied /pfs/mt-1oY5F7/luoyihao/project/DJL/dataset_raw/B站视频数据/最终视频  尾部无水印3/金交所定融涉嫌非法集资？！不要碰！不要碰！.mp4 to /pfs/mt-1oY5F7/luoyihao/project/DJL/dataset/dataset_from_bilibili/金交所定融涉嫌非法集资？！不要碰！不要碰！.mp4\n",
      "Copied /pfs/mt-1oY5F7/luoyihao/project/DJL/dataset_raw/B站视频数据/最终视频  尾部无水印3/【字幕完结版】2020法考客观题刑事诉讼法精讲课-众合左宁 刑诉精讲专题05：回避 - 1of3.mp4 to /pfs/mt-1oY5F7/luoyihao/project/DJL/dataset/dataset_from_bilibili/【字幕完结版】2020法考客观题刑事诉讼法精讲课-众合左宁 刑诉精讲专题05：回避 - 1of3.mp4\n",
      "Copied /pfs/mt-1oY5F7/luoyihao/project/DJL/dataset_raw/B站视频数据/最终视频  尾部无水印3/为什么很多老股民喜欢老股票？ - 1of2.mp4 to /pfs/mt-1oY5F7/luoyihao/project/DJL/dataset/dataset_from_bilibili/为什么很多老股民喜欢老股票？ - 1of2.mp4\n",
      "Copied /pfs/mt-1oY5F7/luoyihao/project/DJL/dataset_raw/B站视频数据/最终视频  尾部无水印3/【字幕完结版】2020法考客观题刑事诉讼法精讲课-众合左宁 刑诉精讲专题04：管辖 （2） - 1of5.mp4 to /pfs/mt-1oY5F7/luoyihao/project/DJL/dataset/dataset_from_bilibili/【字幕完结版】2020法考客观题刑事诉讼法精讲课-众合左宁 刑诉精讲专题04：管辖 （2） - 1of5.mp4\n",
      "Copied /pfs/mt-1oY5F7/luoyihao/project/DJL/dataset_raw/B站视频数据/最终视频  尾部无水印3/股民炒股，等待是一种“美德”，还是傻？.mp4 to /pfs/mt-1oY5F7/luoyihao/project/DJL/dataset/dataset_from_bilibili/股民炒股，等待是一种“美德”，还是傻？.mp4\n",
      "Copied /pfs/mt-1oY5F7/luoyihao/project/DJL/dataset_raw/B站视频数据/最终视频  尾部无水印3/【基金公司测评】“神仙团队”隐藏的锋芒 - 2of3.mp4 to /pfs/mt-1oY5F7/luoyihao/project/DJL/dataset/dataset_from_bilibili/【基金公司测评】“神仙团队”隐藏的锋芒 - 2of3.mp4\n",
      "Copied /pfs/mt-1oY5F7/luoyihao/project/DJL/dataset_raw/B站视频数据/最终视频  尾部无水印3/家电通信元器件涨停潮！A股缩量上涨成交10600亿！食品领涨消费股 - 2of2.mp4 to /pfs/mt-1oY5F7/luoyihao/project/DJL/dataset/dataset_from_bilibili/家电通信元器件涨停潮！A股缩量上涨成交10600亿！食品领涨消费股 - 2of2.mp4\n",
      "Copied /pfs/mt-1oY5F7/luoyihao/project/DJL/dataset_raw/B站视频数据/最终视频  尾部无水印3/3个方法，抓住上涨的股票，老股民知道后夜不能寐，大彻大悟 - 1of4.mp4 to /pfs/mt-1oY5F7/luoyihao/project/DJL/dataset/dataset_from_bilibili/3个方法，抓住上涨的股票，老股民知道后夜不能寐，大彻大悟 - 1of4.mp4\n"
     ]
    },
    {
     "name": "stderr",
     "output_type": "stream",
     "text": [
      "Copying mp4 files:  24%|██▍       | 143/584 [00:18<00:33, 12.98file/s]"
     ]
    },
    {
     "name": "stdout",
     "output_type": "stream",
     "text": [
      "Copied /pfs/mt-1oY5F7/luoyihao/project/DJL/dataset_raw/B站视频数据/最终视频  尾部无水印3/3000点保卫战已经打响！.mp4 to /pfs/mt-1oY5F7/luoyihao/project/DJL/dataset/dataset_from_bilibili/3000点保卫战已经打响！.mp4\n",
      "Copied /pfs/mt-1oY5F7/luoyihao/project/DJL/dataset_raw/B站视频数据/最终视频  尾部无水印3/A股术语解读（七）什么是“杀估值”？、.mp4 to /pfs/mt-1oY5F7/luoyihao/project/DJL/dataset/dataset_from_bilibili/A股术语解读（七）什么是“杀估值”？、.mp4\n",
      "Copied /pfs/mt-1oY5F7/luoyihao/project/DJL/dataset_raw/B站视频数据/最终视频  尾部无水印3/舅读研36讲课程集锦 第1讲 - 10of10.mp4 to /pfs/mt-1oY5F7/luoyihao/project/DJL/dataset/dataset_from_bilibili/舅读研36讲课程集锦 第1讲 - 10of10.mp4\n",
      "Copied /pfs/mt-1oY5F7/luoyihao/project/DJL/dataset_raw/B站视频数据/最终视频  尾部无水印3/中特估.mp4 to /pfs/mt-1oY5F7/luoyihao/project/DJL/dataset/dataset_from_bilibili/中特估.mp4\n"
     ]
    },
    {
     "name": "stderr",
     "output_type": "stream",
     "text": [
      "Copying mp4 files:  25%|██▍       | 145/584 [00:18<00:33, 13.24file/s]"
     ]
    },
    {
     "name": "stdout",
     "output_type": "stream",
     "text": [
      "Copied /pfs/mt-1oY5F7/luoyihao/project/DJL/dataset_raw/B站视频数据/最终视频  尾部无水印3/【天津话】新闻来了！禁止用玄学，玩股票？.mp4 to /pfs/mt-1oY5F7/luoyihao/project/DJL/dataset/dataset_from_bilibili/【天津话】新闻来了！禁止用玄学，玩股票？.mp4\n",
      "Copied /pfs/mt-1oY5F7/luoyihao/project/DJL/dataset_raw/B站视频数据/最终视频  尾部无水印3/【字幕完结版】2020法考客观题刑事诉讼法精讲课-众合左宁 刑诉精讲专题01：刑事诉讼法的概念（1） - 7of18.mp4 to /pfs/mt-1oY5F7/luoyihao/project/DJL/dataset/dataset_from_bilibili/【字幕完结版】2020法考客观题刑事诉讼法精讲课-众合左宁 刑诉精讲专题01：刑事诉讼法的概念（1） - 7of18.mp4\n"
     ]
    },
    {
     "name": "stderr",
     "output_type": "stream",
     "text": [
      "Copying mp4 files:  25%|██▌       | 147/584 [00:18<00:35, 12.17file/s]"
     ]
    },
    {
     "name": "stdout",
     "output_type": "stream",
     "text": [
      "Copied /pfs/mt-1oY5F7/luoyihao/project/DJL/dataset_raw/B站视频数据/最终视频  尾部无水印3/舅读研36讲课程集锦 第2讲 - 6of6.mp4 to /pfs/mt-1oY5F7/luoyihao/project/DJL/dataset/dataset_from_bilibili/舅读研36讲课程集锦 第2讲 - 6of6.mp4\n",
      "Copied /pfs/mt-1oY5F7/luoyihao/project/DJL/dataset_raw/B站视频数据/最终视频  尾部无水印3/特斯拉盈利的秘密竟然是：碳交易！碳中和未来40年的大趋势 - 2of2.mp4 to /pfs/mt-1oY5F7/luoyihao/project/DJL/dataset/dataset_from_bilibili/特斯拉盈利的秘密竟然是：碳交易！碳中和未来40年的大趋势 - 2of2.mp4\n",
      "Copied /pfs/mt-1oY5F7/luoyihao/project/DJL/dataset_raw/B站视频数据/最终视频  尾部无水印3/【字幕完结版】2020法考客观题刑事诉讼法精讲课-众合左宁 刑诉精讲专题01：刑事诉讼法的概念（1） - 4of18.mp4 to /pfs/mt-1oY5F7/luoyihao/project/DJL/dataset/dataset_from_bilibili/【字幕完结版】2020法考客观题刑事诉讼法精讲课-众合左宁 刑诉精讲专题01：刑事诉讼法的概念（1） - 4of18.mp4\n"
     ]
    },
    {
     "name": "stderr",
     "output_type": "stream",
     "text": [
      "Copying mp4 files:  26%|██▌       | 152/584 [00:19<00:34, 12.60file/s]"
     ]
    },
    {
     "name": "stdout",
     "output_type": "stream",
     "text": [
      "Copied /pfs/mt-1oY5F7/luoyihao/project/DJL/dataset_raw/B站视频数据/最终视频  尾部无水印3/舅读研36讲课程集锦 第5讲 - 1of5.mp4 to /pfs/mt-1oY5F7/luoyihao/project/DJL/dataset/dataset_from_bilibili/舅读研36讲课程集锦 第5讲 - 1of5.mp4\n",
      "Copied /pfs/mt-1oY5F7/luoyihao/project/DJL/dataset_raw/B站视频数据/最终视频  尾部无水印3/【字幕完结版】2020法考客观题刑事诉讼法精讲课-众合左宁 刑诉精讲专题01：刑事诉讼法的概念（2） - 3of6.mp4 to /pfs/mt-1oY5F7/luoyihao/project/DJL/dataset/dataset_from_bilibili/【字幕完结版】2020法考客观题刑事诉讼法精讲课-众合左宁 刑诉精讲专题01：刑事诉讼法的概念（2） - 3of6.mp4\n",
      "Copied /pfs/mt-1oY5F7/luoyihao/project/DJL/dataset_raw/B站视频数据/最终视频  尾部无水印3/为什么很多老股民喜欢老股票？ - 2of2.mp4 to /pfs/mt-1oY5F7/luoyihao/project/DJL/dataset/dataset_from_bilibili/为什么很多老股民喜欢老股票？ - 2of2.mp4\n",
      "Copied /pfs/mt-1oY5F7/luoyihao/project/DJL/dataset_raw/B站视频数据/最终视频  尾部无水印3/股民应该先定一个“小目标”？.mp4 to /pfs/mt-1oY5F7/luoyihao/project/DJL/dataset/dataset_from_bilibili/股民应该先定一个“小目标”？.mp4\n"
     ]
    },
    {
     "name": "stderr",
     "output_type": "stream",
     "text": [
      "Copying mp4 files:  27%|██▋       | 156/584 [00:19<00:33, 12.85file/s]"
     ]
    },
    {
     "name": "stdout",
     "output_type": "stream",
     "text": [
      "Copied /pfs/mt-1oY5F7/luoyihao/project/DJL/dataset_raw/B站视频数据/最终视频  尾部无水印3/【字幕完结版】2020法考客观题刑事诉讼法精讲课-众合左宁 刑诉精讲专题03：刑事诉讼中的专门机关和诉讼参与人（2） - 6of6.mp4 to /pfs/mt-1oY5F7/luoyihao/project/DJL/dataset/dataset_from_bilibili/【字幕完结版】2020法考客观题刑事诉讼法精讲课-众合左宁 刑诉精讲专题03：刑事诉讼中的专门机关和诉讼参与人（2） - 6of6.mp4\n",
      "Copied /pfs/mt-1oY5F7/luoyihao/project/DJL/dataset_raw/B站视频数据/最终视频  尾部无水印3/【纯干货】现阶段，政信项目怎么选？！ - 1of3.mp4 to /pfs/mt-1oY5F7/luoyihao/project/DJL/dataset/dataset_from_bilibili/【纯干货】现阶段，政信项目怎么选？！ - 1of3.mp4\n",
      "Copied /pfs/mt-1oY5F7/luoyihao/project/DJL/dataset_raw/B站视频数据/最终视频  尾部无水印3/顶级投机大佬是如何选择股票或者期货品种的？ - 3of4.mp4 to /pfs/mt-1oY5F7/luoyihao/project/DJL/dataset/dataset_from_bilibili/顶级投机大佬是如何选择股票或者期货品种的？ - 3of4.mp4\n"
     ]
    },
    {
     "name": "stderr",
     "output_type": "stream",
     "text": [
      "Copying mp4 files:  27%|██▋       | 159/584 [00:19<00:28, 15.05file/s]"
     ]
    },
    {
     "name": "stdout",
     "output_type": "stream",
     "text": [
      "Copied /pfs/mt-1oY5F7/luoyihao/project/DJL/dataset_raw/B站视频数据/最终视频  尾部无水印3/剧烈分化.mp4 to /pfs/mt-1oY5F7/luoyihao/project/DJL/dataset/dataset_from_bilibili/剧烈分化.mp4\n",
      "Copied /pfs/mt-1oY5F7/luoyihao/project/DJL/dataset_raw/B站视频数据/最终视频  尾部无水印3/【字幕完结版】2020法考客观题刑事诉讼法精讲课-众合左宁 刑诉精讲专题02：刑事诉讼法的原则 - 4of9.mp4 to /pfs/mt-1oY5F7/luoyihao/project/DJL/dataset/dataset_from_bilibili/【字幕完结版】2020法考客观题刑事诉讼法精讲课-众合左宁 刑诉精讲专题02：刑事诉讼法的原则 - 4of9.mp4\n",
      "Copied /pfs/mt-1oY5F7/luoyihao/project/DJL/dataset_raw/B站视频数据/最终视频  尾部无水印3/股市不是一个让你勤劳致富的地方，当个懒人更合适！.mp4 to /pfs/mt-1oY5F7/luoyihao/project/DJL/dataset/dataset_from_bilibili/股市不是一个让你勤劳致富的地方，当个懒人更合适！.mp4\n",
      "Copied /pfs/mt-1oY5F7/luoyihao/project/DJL/dataset_raw/B站视频数据/最终视频  尾部无水印3/【字幕完结版】2020法考客观题刑事诉讼法精讲课-众合左宁 刑诉精讲专题03：刑事诉讼中的专门机关和诉讼参与人（2） - 2of6.mp4 to /pfs/mt-1oY5F7/luoyihao/project/DJL/dataset/dataset_from_bilibili/【字幕完结版】2020法考客观题刑事诉讼法精讲课-众合左宁 刑诉精讲专题03：刑事诉讼中的专门机关和诉讼参与人（2） - 2of6.mp4\n"
     ]
    },
    {
     "name": "stderr",
     "output_type": "stream",
     "text": [
      "Copying mp4 files:  28%|██▊       | 161/584 [00:19<00:29, 14.52file/s]"
     ]
    },
    {
     "name": "stdout",
     "output_type": "stream",
     "text": [
      "Copied /pfs/mt-1oY5F7/luoyihao/project/DJL/dataset_raw/B站视频数据/最终视频  尾部无水印3/【字幕完结版】2020法考客观题刑事诉讼法精讲课-众合左宁 刑诉精讲专题04：管辖 （2） - 2of5.mp4 to /pfs/mt-1oY5F7/luoyihao/project/DJL/dataset/dataset_from_bilibili/【字幕完结版】2020法考客观题刑事诉讼法精讲课-众合左宁 刑诉精讲专题04：管辖 （2） - 2of5.mp4\n"
     ]
    },
    {
     "name": "stderr",
     "output_type": "stream",
     "text": [
      "Copying mp4 files:  28%|██▊       | 163/584 [00:20<00:45,  9.21file/s]"
     ]
    },
    {
     "name": "stdout",
     "output_type": "stream",
     "text": [
      "Copied /pfs/mt-1oY5F7/luoyihao/project/DJL/dataset_raw/B站视频数据/最终视频  尾部无水印3/舅读研36讲课程集锦 第5讲 - 2of5.mp4 to /pfs/mt-1oY5F7/luoyihao/project/DJL/dataset/dataset_from_bilibili/舅读研36讲课程集锦 第5讲 - 2of5.mp4\n",
      "Copied /pfs/mt-1oY5F7/luoyihao/project/DJL/dataset_raw/B站视频数据/最终视频  尾部无水印3/3100.mp4 to /pfs/mt-1oY5F7/luoyihao/project/DJL/dataset/dataset_from_bilibili/3100.mp4\n",
      "Copied /pfs/mt-1oY5F7/luoyihao/project/DJL/dataset_raw/B站视频数据/最终视频  尾部无水印3/我就想问问还有谁能做到我这样的～.mp4 to /pfs/mt-1oY5F7/luoyihao/project/DJL/dataset/dataset_from_bilibili/我就想问问还有谁能做到我这样的～.mp4\n",
      "Copied /pfs/mt-1oY5F7/luoyihao/project/DJL/dataset_raw/B站视频数据/最终视频  尾部无水印3/很少人知道，早盘前的15分钟，决定了股票一天的走势，附4个案例.mp4 to /pfs/mt-1oY5F7/luoyihao/project/DJL/dataset/dataset_from_bilibili/很少人知道，早盘前的15分钟，决定了股票一天的走势，附4个案例.mp4\n"
     ]
    },
    {
     "name": "stderr",
     "output_type": "stream",
     "text": [
      "Copying mp4 files:  28%|██▊       | 166/584 [00:20<00:48,  8.58file/s]"
     ]
    },
    {
     "name": "stdout",
     "output_type": "stream",
     "text": [
      "Copied /pfs/mt-1oY5F7/luoyihao/project/DJL/dataset_raw/B站视频数据/最终视频  尾部无水印3/股票的上涨并不一定是主力希望的。用主力思维炒股，少走5年弯路.mp4 to /pfs/mt-1oY5F7/luoyihao/project/DJL/dataset/dataset_from_bilibili/股票的上涨并不一定是主力希望的。用主力思维炒股，少走5年弯路.mp4\n"
     ]
    },
    {
     "name": "stderr",
     "output_type": "stream",
     "text": [
      "Copying mp4 files:  29%|██▉       | 171/584 [00:21<00:54,  7.60file/s]"
     ]
    },
    {
     "name": "stdout",
     "output_type": "stream",
     "text": [
      "Copied /pfs/mt-1oY5F7/luoyihao/project/DJL/dataset_raw/B站视频数据/最终视频  尾部无水印3/期货大佬王凯谈从业历程爆亏到没钱吃饭到日赚968万.mp4 to /pfs/mt-1oY5F7/luoyihao/project/DJL/dataset/dataset_from_bilibili/期货大佬王凯谈从业历程爆亏到没钱吃饭到日赚968万.mp4\n",
      "Copied /pfs/mt-1oY5F7/luoyihao/project/DJL/dataset_raw/B站视频数据/最终视频  尾部无水印3/【字幕完结版】2020法考客观题刑事诉讼法精讲课-众合左宁 刑诉精讲专题01：刑事诉讼法的概念（1） - 5of18.mp4 to /pfs/mt-1oY5F7/luoyihao/project/DJL/dataset/dataset_from_bilibili/【字幕完结版】2020法考客观题刑事诉讼法精讲课-众合左宁 刑诉精讲专题01：刑事诉讼法的概念（1） - 5of18.mp4\n",
      "Copied /pfs/mt-1oY5F7/luoyihao/project/DJL/dataset_raw/B站视频数据/最终视频  尾部无水印3/这两个板块，未来或将存在不错的机会！.mp4 to /pfs/mt-1oY5F7/luoyihao/project/DJL/dataset/dataset_from_bilibili/这两个板块，未来或将存在不错的机会！.mp4\n",
      "Copied /pfs/mt-1oY5F7/luoyihao/project/DJL/dataset_raw/B站视频数据/最终视频  尾部无水印3/【字幕完结版】2020法考客观题刑事诉讼法精讲课-众合左宁 刑诉精讲专题01：刑事诉讼法的概念（2） - 6of6.mp4 to /pfs/mt-1oY5F7/luoyihao/project/DJL/dataset/dataset_from_bilibili/【字幕完结版】2020法考客观题刑事诉讼法精讲课-众合左宁 刑诉精讲专题01：刑事诉讼法的概念（2） - 6of6.mp4\n",
      "Copied /pfs/mt-1oY5F7/luoyihao/project/DJL/dataset_raw/B站视频数据/最终视频  尾部无水印3/当你交易遇到瓶颈的时候，停下交易，思考一下这个问题.mp4 to /pfs/mt-1oY5F7/luoyihao/project/DJL/dataset/dataset_from_bilibili/当你交易遇到瓶颈的时候，停下交易，思考一下这个问题.mp4\n"
     ]
    },
    {
     "name": "stderr",
     "output_type": "stream",
     "text": [
      "Copying mp4 files:  30%|██▉       | 173/584 [00:21<00:47,  8.58file/s]"
     ]
    },
    {
     "name": "stdout",
     "output_type": "stream",
     "text": [
      "Copied /pfs/mt-1oY5F7/luoyihao/project/DJL/dataset_raw/B站视频数据/最终视频  尾部无水印3/教师面试初中数学无生试讲.模拟上课.讲课.说课.招聘 - 4of4.mp4 to /pfs/mt-1oY5F7/luoyihao/project/DJL/dataset/dataset_from_bilibili/教师面试初中数学无生试讲.模拟上课.讲课.说课.招聘 - 4of4.mp4\n",
      "Copied /pfs/mt-1oY5F7/luoyihao/project/DJL/dataset_raw/B站视频数据/最终视频  尾部无水印3/十余年业内经验总结，炒股怎么少走弯路！.mp4 to /pfs/mt-1oY5F7/luoyihao/project/DJL/dataset/dataset_from_bilibili/十余年业内经验总结，炒股怎么少走弯路！.mp4\n",
      "Copied /pfs/mt-1oY5F7/luoyihao/project/DJL/dataset_raw/B站视频数据/最终视频  尾部无水印3/分析师的“暗语”（上）.mp4 to /pfs/mt-1oY5F7/luoyihao/project/DJL/dataset/dataset_from_bilibili/分析师的“暗语”（上）.mp4\n"
     ]
    },
    {
     "name": "stderr",
     "output_type": "stream",
     "text": [
      "Copying mp4 files:  30%|███       | 178/584 [00:22<00:39, 10.21file/s]"
     ]
    },
    {
     "name": "stdout",
     "output_type": "stream",
     "text": [
      "Copied /pfs/mt-1oY5F7/luoyihao/project/DJL/dataset_raw/B站视频数据/最终视频  尾部无水印3/股票涨停第二天该走还是要留？记住这4句口诀，让你游刃有余.mp4 to /pfs/mt-1oY5F7/luoyihao/project/DJL/dataset/dataset_from_bilibili/股票涨停第二天该走还是要留？记住这4句口诀，让你游刃有余.mp4\n",
      "Copied /pfs/mt-1oY5F7/luoyihao/project/DJL/dataset_raw/B站视频数据/最终视频  尾部无水印3/A股术语解读（六）集合竞价的两个“冷知识”.mp4 to /pfs/mt-1oY5F7/luoyihao/project/DJL/dataset/dataset_from_bilibili/A股术语解读（六）集合竞价的两个“冷知识”.mp4\n",
      "Copied /pfs/mt-1oY5F7/luoyihao/project/DJL/dataset_raw/B站视频数据/最终视频  尾部无水印3/今天就浅浅的赚了一个板.mp4 to /pfs/mt-1oY5F7/luoyihao/project/DJL/dataset/dataset_from_bilibili/今天就浅浅的赚了一个板.mp4\n",
      "Copied /pfs/mt-1oY5F7/luoyihao/project/DJL/dataset_raw/B站视频数据/最终视频  尾部无水印3/只是回光返照.... - 2of2.mp4 to /pfs/mt-1oY5F7/luoyihao/project/DJL/dataset/dataset_from_bilibili/只是回光返照.... - 2of2.mp4\n"
     ]
    },
    {
     "name": "stderr",
     "output_type": "stream",
     "text": [
      "Copying mp4 files:  31%|███       | 180/584 [00:22<00:42,  9.42file/s]"
     ]
    },
    {
     "name": "stdout",
     "output_type": "stream",
     "text": [
      "Copied /pfs/mt-1oY5F7/luoyihao/project/DJL/dataset_raw/B站视频数据/最终视频  尾部无水印3/A股术语解读系列（二）什么是“市盈率”（上）.mp4 to /pfs/mt-1oY5F7/luoyihao/project/DJL/dataset/dataset_from_bilibili/A股术语解读系列（二）什么是“市盈率”（上）.mp4\n",
      "Copied /pfs/mt-1oY5F7/luoyihao/project/DJL/dataset_raw/B站视频数据/最终视频  尾部无水印3/为什么专业的研报成功率往往不高，才达到40%？.mp4 to /pfs/mt-1oY5F7/luoyihao/project/DJL/dataset/dataset_from_bilibili/为什么专业的研报成功率往往不高，才达到40%？.mp4\n"
     ]
    },
    {
     "name": "stderr",
     "output_type": "stream",
     "text": [
      "Copying mp4 files:  32%|███▏      | 185/584 [00:22<00:36, 11.00file/s]"
     ]
    },
    {
     "name": "stdout",
     "output_type": "stream",
     "text": [
      "Copied /pfs/mt-1oY5F7/luoyihao/project/DJL/dataset_raw/B站视频数据/最终视频  尾部无水印3/重要的事情说三遍，低吸低吸低吸。人工智能不追高，关注2个细分.mp4 to /pfs/mt-1oY5F7/luoyihao/project/DJL/dataset/dataset_from_bilibili/重要的事情说三遍，低吸低吸低吸。人工智能不追高，关注2个细分.mp4\n",
      "Copied /pfs/mt-1oY5F7/luoyihao/project/DJL/dataset_raw/B站视频数据/最终视频  尾部无水印3/【字幕完结版】2020法考客观题刑事诉讼法精讲课-众合左宁 刑诉精讲专题01：刑事诉讼法的概念（1） - 18of18.mp4 to /pfs/mt-1oY5F7/luoyihao/project/DJL/dataset/dataset_from_bilibili/【字幕完结版】2020法考客观题刑事诉讼法精讲课-众合左宁 刑诉精讲专题01：刑事诉讼法的概念（1） - 18of18.mp4\n",
      "Copied /pfs/mt-1oY5F7/luoyihao/project/DJL/dataset_raw/B站视频数据/最终视频  尾部无水印3/【字幕完结版】2020法考客观题刑事诉讼法精讲课-众合左宁 刑诉精讲专题01：刑事诉讼法的概念（2） - 4of6.mp4 to /pfs/mt-1oY5F7/luoyihao/project/DJL/dataset/dataset_from_bilibili/【字幕完结版】2020法考客观题刑事诉讼法精讲课-众合左宁 刑诉精讲专题01：刑事诉讼法的概念（2） - 4of6.mp4\n",
      "Copied /pfs/mt-1oY5F7/luoyihao/project/DJL/dataset_raw/B站视频数据/最终视频  尾部无水印3/股市术语解读系列（五）巴菲特的最爱“ROE”指标.mp4 to /pfs/mt-1oY5F7/luoyihao/project/DJL/dataset/dataset_from_bilibili/股市术语解读系列（五）巴菲特的最爱“ROE”指标.mp4\n",
      "Copied /pfs/mt-1oY5F7/luoyihao/project/DJL/dataset_raw/B站视频数据/最终视频  尾部无水印3/舅读研36讲课程集锦 第2讲 - 3of6.mp4 to /pfs/mt-1oY5F7/luoyihao/project/DJL/dataset/dataset_from_bilibili/舅读研36讲课程集锦 第2讲 - 3of6.mp4\n"
     ]
    },
    {
     "name": "stderr",
     "output_type": "stream",
     "text": [
      "Copying mp4 files:  33%|███▎      | 191/584 [00:22<00:23, 16.80file/s]"
     ]
    },
    {
     "name": "stdout",
     "output_type": "stream",
     "text": [
      "Copied /pfs/mt-1oY5F7/luoyihao/project/DJL/dataset_raw/B站视频数据/最终视频  尾部无水印3/【纯干货】现阶段，政信项目怎么选？！ - 3of3.mp4 to /pfs/mt-1oY5F7/luoyihao/project/DJL/dataset/dataset_from_bilibili/【纯干货】现阶段，政信项目怎么选？！ - 3of3.mp4\n",
      "Copied /pfs/mt-1oY5F7/luoyihao/project/DJL/dataset_raw/B站视频数据/最终视频  尾部无水印3/不要去赌个股启动，因为只有50%的概率赌对！ - 2of2.mp4 to /pfs/mt-1oY5F7/luoyihao/project/DJL/dataset/dataset_from_bilibili/不要去赌个股启动，因为只有50%的概率赌对！ - 2of2.mp4\n",
      "Copied /pfs/mt-1oY5F7/luoyihao/project/DJL/dataset_raw/B站视频数据/最终视频  尾部无水印3/炒股是没希望了，看看电子厂能不能收留我 - 1of3.mp4 to /pfs/mt-1oY5F7/luoyihao/project/DJL/dataset/dataset_from_bilibili/炒股是没希望了，看看电子厂能不能收留我 - 1of3.mp4\n",
      "Copied /pfs/mt-1oY5F7/luoyihao/project/DJL/dataset_raw/B站视频数据/最终视频  尾部无水印3/感觉春天来了.mp4 to /pfs/mt-1oY5F7/luoyihao/project/DJL/dataset/dataset_from_bilibili/感觉春天来了.mp4\n",
      "Copied /pfs/mt-1oY5F7/luoyihao/project/DJL/dataset_raw/B站视频数据/最终视频  尾部无水印3/【字幕完结版】2020法考客观题刑事诉讼法精讲课-众合左宁 刑诉精讲专题06：辩护与代理 （1） - 2of2.mp4 to /pfs/mt-1oY5F7/luoyihao/project/DJL/dataset/dataset_from_bilibili/【字幕完结版】2020法考客观题刑事诉讼法精讲课-众合左宁 刑诉精讲专题06：辩护与代理 （1） - 2of2.mp4\n",
      "Copied /pfs/mt-1oY5F7/luoyihao/project/DJL/dataset_raw/B站视频数据/最终视频  尾部无水印3/【字幕完结版】2020法考客观题刑事诉讼法精讲课-众合左宁 刑诉精讲专题04：管辖 （1） - 4of5.mp4 to /pfs/mt-1oY5F7/luoyihao/project/DJL/dataset/dataset_from_bilibili/【字幕完结版】2020法考客观题刑事诉讼法精讲课-众合左宁 刑诉精讲专题04：管辖 （1） - 4of5.mp4\n",
      "Copied /pfs/mt-1oY5F7/luoyihao/project/DJL/dataset_raw/B站视频数据/最终视频  尾部无水印3/【基金公司测评】“神仙团队”隐藏的锋芒 - 3of3.mp4 to /pfs/mt-1oY5F7/luoyihao/project/DJL/dataset/dataset_from_bilibili/【基金公司测评】“神仙团队”隐藏的锋芒 - 3of3.mp4\n",
      "Copied /pfs/mt-1oY5F7/luoyihao/project/DJL/dataset_raw/B站视频数据/最终视频  尾部无水印3/舅读研36讲课程集锦 第1讲 - 2of10.mp4 to /pfs/mt-1oY5F7/luoyihao/project/DJL/dataset/dataset_from_bilibili/舅读研36讲课程集锦 第1讲 - 2of10.mp4\n"
     ]
    },
    {
     "name": "stderr",
     "output_type": "stream",
     "text": [
      "Copying mp4 files:  33%|███▎      | 194/584 [00:23<00:28, 13.73file/s]"
     ]
    },
    {
     "name": "stdout",
     "output_type": "stream",
     "text": [
      "Copied /pfs/mt-1oY5F7/luoyihao/project/DJL/dataset_raw/B站视频数据/最终视频  尾部无水印3/北上广房价暴涨，房子还能买吗？.mp4 to /pfs/mt-1oY5F7/luoyihao/project/DJL/dataset/dataset_from_bilibili/北上广房价暴涨，房子还能买吗？.mp4\n",
      "Copied /pfs/mt-1oY5F7/luoyihao/project/DJL/dataset_raw/B站视频数据/最终视频  尾部无水印3/左侧交易，用的人多了，会不会失灵？.mp4 to /pfs/mt-1oY5F7/luoyihao/project/DJL/dataset/dataset_from_bilibili/左侧交易，用的人多了，会不会失灵？.mp4\n",
      "Copied /pfs/mt-1oY5F7/luoyihao/project/DJL/dataset_raw/B站视频数据/最终视频  尾部无水印3/舅读研36讲课程集锦 第4讲 - 4of9.mp4 to /pfs/mt-1oY5F7/luoyihao/project/DJL/dataset/dataset_from_bilibili/舅读研36讲课程集锦 第4讲 - 4of9.mp4\n"
     ]
    },
    {
     "name": "stderr",
     "output_type": "stream",
     "text": [
      "Copying mp4 files:  34%|███▍      | 199/584 [00:23<00:26, 14.70file/s]"
     ]
    },
    {
     "name": "stdout",
     "output_type": "stream",
     "text": [
      "Copied /pfs/mt-1oY5F7/luoyihao/project/DJL/dataset_raw/B站视频数据/最终视频  尾部无水印3/仙人指路战法详细讲解，股民看完不仅明明白白，还懂得灵活运用！.mp4 to /pfs/mt-1oY5F7/luoyihao/project/DJL/dataset/dataset_from_bilibili/仙人指路战法详细讲解，股民看完不仅明明白白，还懂得灵活运用！.mp4\n",
      "Copied /pfs/mt-1oY5F7/luoyihao/project/DJL/dataset_raw/B站视频数据/最终视频  尾部无水印3/分批进场、永不满仓、确定交易周期，这3点为何如此关键？.mp4 to /pfs/mt-1oY5F7/luoyihao/project/DJL/dataset/dataset_from_bilibili/分批进场、永不满仓、确定交易周期，这3点为何如此关键？.mp4\n",
      "Copied /pfs/mt-1oY5F7/luoyihao/project/DJL/dataset_raw/B站视频数据/最终视频  尾部无水印3/【基金公司测评】“神仙团队”隐藏的锋芒 - 1of3.mp4 to /pfs/mt-1oY5F7/luoyihao/project/DJL/dataset/dataset_from_bilibili/【基金公司测评】“神仙团队”隐藏的锋芒 - 1of3.mp4\n",
      "Copied /pfs/mt-1oY5F7/luoyihao/project/DJL/dataset_raw/B站视频数据/最终视频  尾部无水印3/顶级投机大佬是如何选择股票或者期货品种的？ - 4of4.mp4 to /pfs/mt-1oY5F7/luoyihao/project/DJL/dataset/dataset_from_bilibili/顶级投机大佬是如何选择股票或者期货品种的？ - 4of4.mp4\n",
      "Copied /pfs/mt-1oY5F7/luoyihao/project/DJL/dataset_raw/B站视频数据/最终视频  尾部无水印3/顶级投机大佬是如何选择股票或者期货品种的？ - 1of4.mp4 to /pfs/mt-1oY5F7/luoyihao/project/DJL/dataset/dataset_from_bilibili/顶级投机大佬是如何选择股票或者期货品种的？ - 1of4.mp4\n"
     ]
    },
    {
     "name": "stderr",
     "output_type": "stream",
     "text": [
      "Copying mp4 files:  35%|███▌      | 205/584 [00:23<00:20, 18.75file/s]"
     ]
    },
    {
     "name": "stdout",
     "output_type": "stream",
     "text": [
      "Copied /pfs/mt-1oY5F7/luoyihao/project/DJL/dataset_raw/B站视频数据/最终视频  尾部无水印3/【字幕完结版】2020法考客观题刑事诉讼法精讲课-众合左宁 刑诉精讲专题05：回避 - 2of3.mp4 to /pfs/mt-1oY5F7/luoyihao/project/DJL/dataset/dataset_from_bilibili/【字幕完结版】2020法考客观题刑事诉讼法精讲课-众合左宁 刑诉精讲专题05：回避 - 2of3.mp4\n",
      "Copied /pfs/mt-1oY5F7/luoyihao/project/DJL/dataset_raw/B站视频数据/最终视频  尾部无水印3/好消息.mp4 to /pfs/mt-1oY5F7/luoyihao/project/DJL/dataset/dataset_from_bilibili/好消息.mp4\n",
      "Copied /pfs/mt-1oY5F7/luoyihao/project/DJL/dataset_raw/B站视频数据/最终视频  尾部无水印3/上涨质量很高！.mp4 to /pfs/mt-1oY5F7/luoyihao/project/DJL/dataset/dataset_from_bilibili/上涨质量很高！.mp4\n",
      "Copied /pfs/mt-1oY5F7/luoyihao/project/DJL/dataset_raw/B站视频数据/最终视频  尾部无水印3/【字幕完结版】2020法考客观题刑事诉讼法精讲课-众合左宁 刑诉精讲专题01：刑事诉讼法的概念（1） - 8of18.mp4 to /pfs/mt-1oY5F7/luoyihao/project/DJL/dataset/dataset_from_bilibili/【字幕完结版】2020法考客观题刑事诉讼法精讲课-众合左宁 刑诉精讲专题01：刑事诉讼法的概念（1） - 8of18.mp4\n",
      "Copied /pfs/mt-1oY5F7/luoyihao/project/DJL/dataset_raw/B站视频数据/最终视频  尾部无水印3/舅读研36讲课程集锦 第1讲 - 9of10 (2).mp4 to /pfs/mt-1oY5F7/luoyihao/project/DJL/dataset/dataset_from_bilibili/舅读研36讲课程集锦 第1讲 - 9of10 (2).mp4\n"
     ]
    },
    {
     "name": "stderr",
     "output_type": "stream",
     "text": [
      "Copying mp4 files:  36%|███▌      | 210/584 [00:24<00:20, 18.07file/s]"
     ]
    },
    {
     "name": "stdout",
     "output_type": "stream",
     "text": [
      "Copied /pfs/mt-1oY5F7/luoyihao/project/DJL/dataset_raw/B站视频数据/最终视频  尾部无水印3/美股过山车.mp4 to /pfs/mt-1oY5F7/luoyihao/project/DJL/dataset/dataset_from_bilibili/美股过山车.mp4\n",
      "Copied /pfs/mt-1oY5F7/luoyihao/project/DJL/dataset_raw/B站视频数据/最终视频  尾部无水印3/真诚的聊聊Reits，很多你不知道的秘密.mp4 to /pfs/mt-1oY5F7/luoyihao/project/DJL/dataset/dataset_from_bilibili/真诚的聊聊Reits，很多你不知道的秘密.mp4\n",
      "Copied /pfs/mt-1oY5F7/luoyihao/project/DJL/dataset_raw/B站视频数据/最终视频  尾部无水印3/港股走强.mp4 to /pfs/mt-1oY5F7/luoyihao/project/DJL/dataset/dataset_from_bilibili/港股走强.mp4\n",
      "Copied /pfs/mt-1oY5F7/luoyihao/project/DJL/dataset_raw/B站视频数据/最终视频  尾部无水印3/A股要变盘了跳水还是大涨！ - 5of5.mp4 to /pfs/mt-1oY5F7/luoyihao/project/DJL/dataset/dataset_from_bilibili/A股要变盘了跳水还是大涨！ - 5of5.mp4\n",
      "Copied /pfs/mt-1oY5F7/luoyihao/project/DJL/dataset_raw/B站视频数据/最终视频  尾部无水印3/吃陌生人剩下的菜，会不会得病？会得哪些病？.mp4 to /pfs/mt-1oY5F7/luoyihao/project/DJL/dataset/dataset_from_bilibili/吃陌生人剩下的菜，会不会得病？会得哪些病？.mp4\n"
     ]
    },
    {
     "name": "stderr",
     "output_type": "stream",
     "text": [
      "Copying mp4 files:  37%|███▋      | 214/584 [00:24<00:33, 11.13file/s]"
     ]
    },
    {
     "name": "stdout",
     "output_type": "stream",
     "text": [
      "Copied /pfs/mt-1oY5F7/luoyihao/project/DJL/dataset_raw/B站视频数据/最终视频  尾部无水印3/地摊经济，你努力生活的样子最酷！ - 1of3.mp4 to /pfs/mt-1oY5F7/luoyihao/project/DJL/dataset/dataset_from_bilibili/地摊经济，你努力生活的样子最酷！ - 1of3.mp4\n",
      "Copied /pfs/mt-1oY5F7/luoyihao/project/DJL/dataset_raw/B站视频数据/最终视频  尾部无水印3/人生，总是那么无奈.mp4 to /pfs/mt-1oY5F7/luoyihao/project/DJL/dataset/dataset_from_bilibili/人生，总是那么无奈.mp4\n",
      "Copied /pfs/mt-1oY5F7/luoyihao/project/DJL/dataset_raw/B站视频数据/最终视频  尾部无水印3/炒股第一步很关键，多数股民轻视它，而它甚至决定了结果.mp4 to /pfs/mt-1oY5F7/luoyihao/project/DJL/dataset/dataset_from_bilibili/炒股第一步很关键，多数股民轻视它，而它甚至决定了结果.mp4\n"
     ]
    },
    {
     "name": "stderr",
     "output_type": "stream",
     "text": [
      "Copying mp4 files:  37%|███▋      | 217/584 [00:24<00:27, 13.59file/s]"
     ]
    },
    {
     "name": "stdout",
     "output_type": "stream",
     "text": [
      "Copied /pfs/mt-1oY5F7/luoyihao/project/DJL/dataset_raw/B站视频数据/最终视频  尾部无水印3/【字幕完结版】2020法考客观题刑事诉讼法精讲课-众合左宁 刑诉精讲专题04：管辖 （1） - 2of5.mp4 to /pfs/mt-1oY5F7/luoyihao/project/DJL/dataset/dataset_from_bilibili/【字幕完结版】2020法考客观题刑事诉讼法精讲课-众合左宁 刑诉精讲专题04：管辖 （1） - 2of5.mp4\n",
      "Copied /pfs/mt-1oY5F7/luoyihao/project/DJL/dataset_raw/B站视频数据/最终视频  尾部无水印3/跑跑跑，我减仓了.mp4 to /pfs/mt-1oY5F7/luoyihao/project/DJL/dataset/dataset_from_bilibili/跑跑跑，我减仓了.mp4\n",
      "Copied /pfs/mt-1oY5F7/luoyihao/project/DJL/dataset_raw/B站视频数据/最终视频  尾部无水印3/A股要变盘了跳水还是大涨！ - 4of5.mp4 to /pfs/mt-1oY5F7/luoyihao/project/DJL/dataset/dataset_from_bilibili/A股要变盘了跳水还是大涨！ - 4of5.mp4\n"
     ]
    },
    {
     "name": "stderr",
     "output_type": "stream",
     "text": [
      "Copying mp4 files:  38%|███▊      | 219/584 [00:25<00:31, 11.56file/s]"
     ]
    },
    {
     "name": "stdout",
     "output_type": "stream",
     "text": [
      "Copied /pfs/mt-1oY5F7/luoyihao/project/DJL/dataset_raw/B站视频数据/最终视频  尾部无水印3/舅读研36讲课程集锦 第5讲 - 5of5.mp4 to /pfs/mt-1oY5F7/luoyihao/project/DJL/dataset/dataset_from_bilibili/舅读研36讲课程集锦 第5讲 - 5of5.mp4\n",
      "Copied /pfs/mt-1oY5F7/luoyihao/project/DJL/dataset_raw/B站视频数据/最终视频  尾部无水印3/若是持有好股票则淡定 .mp4 to /pfs/mt-1oY5F7/luoyihao/project/DJL/dataset/dataset_from_bilibili/若是持有好股票则淡定 .mp4\n"
     ]
    },
    {
     "name": "stderr",
     "output_type": "stream",
     "text": [
      "Copying mp4 files:  38%|███▊      | 221/584 [00:25<00:34, 10.47file/s]"
     ]
    },
    {
     "name": "stdout",
     "output_type": "stream",
     "text": [
      "Copied /pfs/mt-1oY5F7/luoyihao/project/DJL/dataset_raw/B站视频数据/最终视频  尾部无水印3/信托客户，1000万该如何配置？ - 2of2.mp4 to /pfs/mt-1oY5F7/luoyihao/project/DJL/dataset/dataset_from_bilibili/信托客户，1000万该如何配置？ - 2of2.mp4\n",
      "Copied /pfs/mt-1oY5F7/luoyihao/project/DJL/dataset_raw/B站视频数据/最终视频  尾部无水印3/【字幕完结版】2020法考客观题刑事诉讼法精讲课-众合左宁 刑诉精讲专题06：辩护与代理 （1） - 1of2.mp4 to /pfs/mt-1oY5F7/luoyihao/project/DJL/dataset/dataset_from_bilibili/【字幕完结版】2020法考客观题刑事诉讼法精讲课-众合左宁 刑诉精讲专题06：辩护与代理 （1） - 1of2.mp4\n",
      "Copied /pfs/mt-1oY5F7/luoyihao/project/DJL/dataset_raw/B站视频数据/最终视频  尾部无水印3/【字幕完结版】2020法考客观题刑事诉讼法精讲课-众合左宁 刑诉精讲专题04：管辖 （1） - 3of5.mp4 to /pfs/mt-1oY5F7/luoyihao/project/DJL/dataset/dataset_from_bilibili/【字幕完结版】2020法考客观题刑事诉讼法精讲课-众合左宁 刑诉精讲专题04：管辖 （1） - 3of5.mp4\n"
     ]
    },
    {
     "name": "stderr",
     "output_type": "stream",
     "text": [
      "Copying mp4 files:  39%|███▊      | 226/584 [00:25<00:30, 11.64file/s]"
     ]
    },
    {
     "name": "stdout",
     "output_type": "stream",
     "text": [
      "Copied /pfs/mt-1oY5F7/luoyihao/project/DJL/dataset_raw/B站视频数据/最终视频  尾部无水印3/私募基金最大的风险就是道德风险！（一）.mp4 to /pfs/mt-1oY5F7/luoyihao/project/DJL/dataset/dataset_from_bilibili/私募基金最大的风险就是道德风险！（一）.mp4\n",
      "Copied /pfs/mt-1oY5F7/luoyihao/project/DJL/dataset_raw/B站视频数据/最终视频  尾部无水印3/再见！融资类信托！ - 1of3.mp4 to /pfs/mt-1oY5F7/luoyihao/project/DJL/dataset/dataset_from_bilibili/再见！融资类信托！ - 1of3.mp4\n",
      "Copied /pfs/mt-1oY5F7/luoyihao/project/DJL/dataset_raw/B站视频数据/最终视频  尾部无水印3/A股步入技术性牛市？.mp4 to /pfs/mt-1oY5F7/luoyihao/project/DJL/dataset/dataset_from_bilibili/A股步入技术性牛市？.mp4\n",
      "Copied /pfs/mt-1oY5F7/luoyihao/project/DJL/dataset_raw/B站视频数据/最终视频  尾部无水印3/如何判断本轮反弹的高度？.mp4 to /pfs/mt-1oY5F7/luoyihao/project/DJL/dataset/dataset_from_bilibili/如何判断本轮反弹的高度？.mp4\n"
     ]
    },
    {
     "name": "stderr",
     "output_type": "stream",
     "text": [
      "Copying mp4 files:  39%|███▉      | 229/584 [00:25<00:24, 14.65file/s]"
     ]
    },
    {
     "name": "stdout",
     "output_type": "stream",
     "text": [
      "Copied /pfs/mt-1oY5F7/luoyihao/project/DJL/dataset_raw/B站视频数据/最终视频  尾部无水印3/专业交易员是如何把握趋势走势的？ - 1of2.mp4 to /pfs/mt-1oY5F7/luoyihao/project/DJL/dataset/dataset_from_bilibili/专业交易员是如何把握趋势走势的？ - 1of2.mp4\n",
      "Copied /pfs/mt-1oY5F7/luoyihao/project/DJL/dataset_raw/B站视频数据/最终视频  尾部无水印3/【字幕完结版】2020法考客观题刑事诉讼法精讲课-众合左宁 刑诉精讲专题04：管辖 （2） - 4of5.mp4 to /pfs/mt-1oY5F7/luoyihao/project/DJL/dataset/dataset_from_bilibili/【字幕完结版】2020法考客观题刑事诉讼法精讲课-众合左宁 刑诉精讲专题04：管辖 （2） - 4of5.mp4\n",
      "Copied /pfs/mt-1oY5F7/luoyihao/project/DJL/dataset_raw/B站视频数据/最终视频  尾部无水印3/最近很热的同业存单基金， 稳健吗？.mp4 to /pfs/mt-1oY5F7/luoyihao/project/DJL/dataset/dataset_from_bilibili/最近很热的同业存单基金， 稳健吗？.mp4\n"
     ]
    },
    {
     "name": "stderr",
     "output_type": "stream",
     "text": [
      "Copying mp4 files:  40%|███▉      | 231/584 [00:26<00:39,  8.96file/s]"
     ]
    },
    {
     "name": "stdout",
     "output_type": "stream",
     "text": [
      "Copied /pfs/mt-1oY5F7/luoyihao/project/DJL/dataset_raw/B站视频数据/最终视频  尾部无水印3/外资疯狂买入167亿，跨年行情来了吗？重点关注这个板块.mp4 to /pfs/mt-1oY5F7/luoyihao/project/DJL/dataset/dataset_from_bilibili/外资疯狂买入167亿，跨年行情来了吗？重点关注这个板块.mp4\n",
      "Copied /pfs/mt-1oY5F7/luoyihao/project/DJL/dataset_raw/B站视频数据/最终视频  尾部无水印3/为什么以前没人看好的板块或个股，后期会让你望尘莫及？.mp4 to /pfs/mt-1oY5F7/luoyihao/project/DJL/dataset/dataset_from_bilibili/为什么以前没人看好的板块或个股，后期会让你望尘莫及？.mp4\n",
      "Copied /pfs/mt-1oY5F7/luoyihao/project/DJL/dataset_raw/B站视频数据/最终视频  尾部无水印3/舅读研36讲课程集锦 第1讲 - 7of10.mp4 to /pfs/mt-1oY5F7/luoyihao/project/DJL/dataset/dataset_from_bilibili/舅读研36讲课程集锦 第1讲 - 7of10.mp4\n"
     ]
    },
    {
     "name": "stderr",
     "output_type": "stream",
     "text": [
      "Copying mp4 files:  40%|███▉      | 233/584 [00:26<00:38,  9.10file/s]"
     ]
    },
    {
     "name": "stdout",
     "output_type": "stream",
     "text": [
      "Copied /pfs/mt-1oY5F7/luoyihao/project/DJL/dataset_raw/B站视频数据/最终视频  尾部无水印3/地摊经济，你努力生活的样子最酷！ - 2of3.mp4 to /pfs/mt-1oY5F7/luoyihao/project/DJL/dataset/dataset_from_bilibili/地摊经济，你努力生活的样子最酷！ - 2of3.mp4\n",
      "Copied /pfs/mt-1oY5F7/luoyihao/project/DJL/dataset_raw/B站视频数据/最终视频  尾部无水印3/新年好！兔年大吉！.mp4 to /pfs/mt-1oY5F7/luoyihao/project/DJL/dataset/dataset_from_bilibili/新年好！兔年大吉！.mp4\n"
     ]
    },
    {
     "name": "stderr",
     "output_type": "stream",
     "text": [
      "Copying mp4 files:  41%|████      | 237/584 [00:26<00:33, 10.48file/s]"
     ]
    },
    {
     "name": "stdout",
     "output_type": "stream",
     "text": [
      "Copied /pfs/mt-1oY5F7/luoyihao/project/DJL/dataset_raw/B站视频数据/最终视频  尾部无水印3/永续债信托能不能买？这篇一定要看！.mp4 to /pfs/mt-1oY5F7/luoyihao/project/DJL/dataset/dataset_from_bilibili/永续债信托能不能买？这篇一定要看！.mp4\n",
      "Copied /pfs/mt-1oY5F7/luoyihao/project/DJL/dataset_raw/B站视频数据/最终视频  尾部无水印3/股票挣钱的时候，很容易忘了曾经赔钱的经历.mp4 to /pfs/mt-1oY5F7/luoyihao/project/DJL/dataset/dataset_from_bilibili/股票挣钱的时候，很容易忘了曾经赔钱的经历.mp4\n",
      "Copied /pfs/mt-1oY5F7/luoyihao/project/DJL/dataset_raw/B站视频数据/最终视频  尾部无水印3/总有大哥想带我飞，是我太不知好歹了嘛.mp4 to /pfs/mt-1oY5F7/luoyihao/project/DJL/dataset/dataset_from_bilibili/总有大哥想带我飞，是我太不知好歹了嘛.mp4\n",
      "Copied /pfs/mt-1oY5F7/luoyihao/project/DJL/dataset_raw/B站视频数据/最终视频  尾部无水印3/对于多数股民来说，炒股并不是一个让你挣钱的营生！.mp4 to /pfs/mt-1oY5F7/luoyihao/project/DJL/dataset/dataset_from_bilibili/对于多数股民来说，炒股并不是一个让你挣钱的营生！.mp4\n"
     ]
    },
    {
     "name": "stderr",
     "output_type": "stream",
     "text": [
      "Copying mp4 files:  42%|████▏     | 243/584 [00:27<00:35,  9.56file/s]"
     ]
    },
    {
     "name": "stdout",
     "output_type": "stream",
     "text": [
      "Copied /pfs/mt-1oY5F7/luoyihao/project/DJL/dataset_raw/B站视频数据/最终视频  尾部无水印3/一个让散户受益一辈子的炒股方法，学会将终身受益！.mp4 to /pfs/mt-1oY5F7/luoyihao/project/DJL/dataset/dataset_from_bilibili/一个让散户受益一辈子的炒股方法，学会将终身受益！.mp4\n",
      "Copied /pfs/mt-1oY5F7/luoyihao/project/DJL/dataset_raw/B站视频数据/最终视频  尾部无水印3/评论区沦陷了，杀猪盘的点赞评论呈几何式增长.mp4 to /pfs/mt-1oY5F7/luoyihao/project/DJL/dataset/dataset_from_bilibili/评论区沦陷了，杀猪盘的点赞评论呈几何式增长.mp4\n",
      "Copied /pfs/mt-1oY5F7/luoyihao/project/DJL/dataset_raw/B站视频数据/最终视频  尾部无水印3/为什么截断亏损让利润奔跑能够获利？ - 2of3.mp4 to /pfs/mt-1oY5F7/luoyihao/project/DJL/dataset/dataset_from_bilibili/为什么截断亏损让利润奔跑能够获利？ - 2of3.mp4\n",
      "Copied /pfs/mt-1oY5F7/luoyihao/project/DJL/dataset_raw/B站视频数据/最终视频  尾部无水印3/调整尾声.mp4 to /pfs/mt-1oY5F7/luoyihao/project/DJL/dataset/dataset_from_bilibili/调整尾声.mp4\n",
      "Copied /pfs/mt-1oY5F7/luoyihao/project/DJL/dataset_raw/B站视频数据/最终视频  尾部无水印3/【字幕完结版】2020法考客观题刑事诉讼法精讲课-众合左宁 刑诉精讲专题01：刑事诉讼法的概念（1） - 16of18.mp4 to /pfs/mt-1oY5F7/luoyihao/project/DJL/dataset/dataset_from_bilibili/【字幕完结版】2020法考客观题刑事诉讼法精讲课-众合左宁 刑诉精讲专题01：刑事诉讼法的概念（1） - 16of18.mp4\n",
      "Copied /pfs/mt-1oY5F7/luoyihao/project/DJL/dataset_raw/B站视频数据/最终视频  尾部无水印3/以一根涨停板为准，画出操盘线、找准介入点，看透逻辑不盲目割肉 (2).mp4 to /pfs/mt-1oY5F7/luoyihao/project/DJL/dataset/dataset_from_bilibili/以一根涨停板为准，画出操盘线、找准介入点，看透逻辑不盲目割肉 (2).mp4\n"
     ]
    },
    {
     "name": "stderr",
     "output_type": "stream",
     "text": [
      "Copying mp4 files:  42%|████▏     | 245/584 [00:27<00:33, 10.26file/s]"
     ]
    },
    {
     "name": "stdout",
     "output_type": "stream",
     "text": [
      "Copied /pfs/mt-1oY5F7/luoyihao/project/DJL/dataset_raw/B站视频数据/最终视频  尾部无水印3/以一根涨停板为准，画出操盘线、找准介入点，看透逻辑不盲目割肉.mp4 to /pfs/mt-1oY5F7/luoyihao/project/DJL/dataset/dataset_from_bilibili/以一根涨停板为准，画出操盘线、找准介入点，看透逻辑不盲目割肉.mp4\n",
      "Copied /pfs/mt-1oY5F7/luoyihao/project/DJL/dataset_raw/B站视频数据/最终视频  尾部无水印3/补短板解决掐脖子A股机遇！数字产业升级产业转移！人民币国际化 - 2of2.mp4 to /pfs/mt-1oY5F7/luoyihao/project/DJL/dataset/dataset_from_bilibili/补短板解决掐脖子A股机遇！数字产业升级产业转移！人民币国际化 - 2of2.mp4\n"
     ]
    },
    {
     "name": "stderr",
     "output_type": "stream",
     "text": [
      "Copying mp4 files:  43%|████▎     | 250/584 [00:28<00:27, 12.01file/s]"
     ]
    },
    {
     "name": "stdout",
     "output_type": "stream",
     "text": [
      "Copied /pfs/mt-1oY5F7/luoyihao/project/DJL/dataset_raw/B站视频数据/最终视频  尾部无水印3/舅读研36讲课程集锦 第1讲 - 5of10.mp4 to /pfs/mt-1oY5F7/luoyihao/project/DJL/dataset/dataset_from_bilibili/舅读研36讲课程集锦 第1讲 - 5of10.mp4\n",
      "Copied /pfs/mt-1oY5F7/luoyihao/project/DJL/dataset_raw/B站视频数据/最终视频  尾部无水印3/青岛假政信被立案，这类项目千万不要碰！.mp4 to /pfs/mt-1oY5F7/luoyihao/project/DJL/dataset/dataset_from_bilibili/青岛假政信被立案，这类项目千万不要碰！.mp4\n",
      "Copied /pfs/mt-1oY5F7/luoyihao/project/DJL/dataset_raw/B站视频数据/最终视频  尾部无水印3/白酒行业为啥大跌？何时能买？.mp4 to /pfs/mt-1oY5F7/luoyihao/project/DJL/dataset/dataset_from_bilibili/白酒行业为啥大跌？何时能买？.mp4\n",
      "Copied /pfs/mt-1oY5F7/luoyihao/project/DJL/dataset_raw/B站视频数据/最终视频  尾部无水印3/舅读研36讲课程集锦 第5讲 - 3of5.mp4 to /pfs/mt-1oY5F7/luoyihao/project/DJL/dataset/dataset_from_bilibili/舅读研36讲课程集锦 第5讲 - 3of5.mp4\n",
      "Copied /pfs/mt-1oY5F7/luoyihao/project/DJL/dataset_raw/B站视频数据/最终视频  尾部无水印3/一季度经济数据，投资出口消费都在增加，房地产投资销售下降 - 1of3.mp4 to /pfs/mt-1oY5F7/luoyihao/project/DJL/dataset/dataset_from_bilibili/一季度经济数据，投资出口消费都在增加，房地产投资销售下降 - 1of3.mp4\n",
      "Copied /pfs/mt-1oY5F7/luoyihao/project/DJL/dataset_raw/B站视频数据/最终视频  尾部无水印3/好不容易买个票，还伪造年报！！！.mp4 to /pfs/mt-1oY5F7/luoyihao/project/DJL/dataset/dataset_from_bilibili/好不容易买个票，还伪造年报！！！.mp4\n"
     ]
    },
    {
     "name": "stderr",
     "output_type": "stream",
     "text": [
      "Copying mp4 files:  44%|████▎     | 255/584 [00:28<00:21, 15.33file/s]"
     ]
    },
    {
     "name": "stdout",
     "output_type": "stream",
     "text": [
      "Copied /pfs/mt-1oY5F7/luoyihao/project/DJL/dataset_raw/B站视频数据/最终视频  尾部无水印3/捍卫3000点.mp4 to /pfs/mt-1oY5F7/luoyihao/project/DJL/dataset/dataset_from_bilibili/捍卫3000点.mp4\n",
      "Copied /pfs/mt-1oY5F7/luoyihao/project/DJL/dataset_raw/B站视频数据/最终视频  尾部无水印3/舅读研36讲课程集锦 第2讲 - 4of6.mp4 to /pfs/mt-1oY5F7/luoyihao/project/DJL/dataset/dataset_from_bilibili/舅读研36讲课程集锦 第2讲 - 4of6.mp4\n",
      "Copied /pfs/mt-1oY5F7/luoyihao/project/DJL/dataset_raw/B站视频数据/最终视频  尾部无水印3/舅读研36讲课程集锦 第4讲 - 3of9.mp4 to /pfs/mt-1oY5F7/luoyihao/project/DJL/dataset/dataset_from_bilibili/舅读研36讲课程集锦 第4讲 - 3of9.mp4\n",
      "Copied /pfs/mt-1oY5F7/luoyihao/project/DJL/dataset_raw/B站视频数据/最终视频  尾部无水印3/【字幕完结版】2020法考客观题刑事诉讼法精讲课-众合左宁 刑诉精讲专题02：刑事诉讼法的原则 - 2of9.mp4 to /pfs/mt-1oY5F7/luoyihao/project/DJL/dataset/dataset_from_bilibili/【字幕完结版】2020法考客观题刑事诉讼法精讲课-众合左宁 刑诉精讲专题02：刑事诉讼法的原则 - 2of9.mp4\n",
      "Copied /pfs/mt-1oY5F7/luoyihao/project/DJL/dataset_raw/B站视频数据/最终视频  尾部无水印3/擦粑粑小心翼翼，做交易随心所欲 - 2of2.mp4 to /pfs/mt-1oY5F7/luoyihao/project/DJL/dataset/dataset_from_bilibili/擦粑粑小心翼翼，做交易随心所欲 - 2of2.mp4\n"
     ]
    },
    {
     "name": "stderr",
     "output_type": "stream",
     "text": [
      "Copying mp4 files:  44%|████▍     | 258/584 [00:28<00:17, 18.21file/s]"
     ]
    },
    {
     "name": "stdout",
     "output_type": "stream",
     "text": [
      "Copied /pfs/mt-1oY5F7/luoyihao/project/DJL/dataset_raw/B站视频数据/最终视频  尾部无水印3/舅读研36讲课程集锦 第4讲 - 1of9.mp4 to /pfs/mt-1oY5F7/luoyihao/project/DJL/dataset/dataset_from_bilibili/舅读研36讲课程集锦 第4讲 - 1of9.mp4\n"
     ]
    },
    {
     "name": "stderr",
     "output_type": "stream",
     "text": [
      "Copying mp4 files:  45%|████▍     | 261/584 [00:28<00:26, 12.11file/s]"
     ]
    },
    {
     "name": "stdout",
     "output_type": "stream",
     "text": [
      "Copied /pfs/mt-1oY5F7/luoyihao/project/DJL/dataset_raw/B站视频数据/最终视频  尾部无水印3/补短板解决掐脖子A股机遇！数字产业升级产业转移！人民币国际化 - 1of2.mp4 to /pfs/mt-1oY5F7/luoyihao/project/DJL/dataset/dataset_from_bilibili/补短板解决掐脖子A股机遇！数字产业升级产业转移！人民币国际化 - 1of2.mp4\n",
      "Copied /pfs/mt-1oY5F7/luoyihao/project/DJL/dataset_raw/B站视频数据/最终视频  尾部无水印3/见证历史！.mp4 to /pfs/mt-1oY5F7/luoyihao/project/DJL/dataset/dataset_from_bilibili/见证历史！.mp4\n",
      "Copied /pfs/mt-1oY5F7/luoyihao/project/DJL/dataset_raw/B站视频数据/最终视频  尾部无水印3/红包徐徐而来.mp4 to /pfs/mt-1oY5F7/luoyihao/project/DJL/dataset/dataset_from_bilibili/红包徐徐而来.mp4\n",
      "Copied /pfs/mt-1oY5F7/luoyihao/project/DJL/dataset_raw/B站视频数据/最终视频  尾部无水印3/舅读研36讲课程集锦 第5讲 - 4of5.mp4 to /pfs/mt-1oY5F7/luoyihao/project/DJL/dataset/dataset_from_bilibili/舅读研36讲课程集锦 第5讲 - 4of5.mp4\n",
      "Copied /pfs/mt-1oY5F7/luoyihao/project/DJL/dataset_raw/B站视频数据/最终视频  尾部无水印3/A股要变盘了跳水还是大涨！ - 2of5 (2).mp4 to /pfs/mt-1oY5F7/luoyihao/project/DJL/dataset/dataset_from_bilibili/A股要变盘了跳水还是大涨！ - 2of5 (2).mp4\n",
      "Copied /pfs/mt-1oY5F7/luoyihao/project/DJL/dataset_raw/B站视频数据/最终视频  尾部无水印3/粉丝提问：女朋友有脚气，很嫌弃怎么办？.mp4 to /pfs/mt-1oY5F7/luoyihao/project/DJL/dataset/dataset_from_bilibili/粉丝提问：女朋友有脚气，很嫌弃怎么办？.mp4\n"
     ]
    },
    {
     "name": "stderr",
     "output_type": "stream",
     "text": [
      "Copying mp4 files:  45%|████▌     | 265/584 [00:29<00:20, 15.95file/s]"
     ]
    },
    {
     "name": "stdout",
     "output_type": "stream",
     "text": [
      "Copied /pfs/mt-1oY5F7/luoyihao/project/DJL/dataset_raw/B站视频数据/最终视频  尾部无水印3/金融圈的销售有多赚钱？.mp4 to /pfs/mt-1oY5F7/luoyihao/project/DJL/dataset/dataset_from_bilibili/金融圈的销售有多赚钱？.mp4\n",
      "Copied /pfs/mt-1oY5F7/luoyihao/project/DJL/dataset_raw/B站视频数据/最终视频  尾部无水印3/怎么看股票估值？这个方法不高端，但是很实用 - 1of2.mp4 to /pfs/mt-1oY5F7/luoyihao/project/DJL/dataset/dataset_from_bilibili/怎么看股票估值？这个方法不高端，但是很实用 - 1of2.mp4\n",
      "Copied /pfs/mt-1oY5F7/luoyihao/project/DJL/dataset_raw/B站视频数据/最终视频  尾部无水印3/股市术语解读系列（三）换手率的“三大要点”.mp4 to /pfs/mt-1oY5F7/luoyihao/project/DJL/dataset/dataset_from_bilibili/股市术语解读系列（三）换手率的“三大要点”.mp4\n"
     ]
    },
    {
     "name": "stderr",
     "output_type": "stream",
     "text": [
      "Copying mp4 files:  46%|████▌     | 268/584 [00:29<00:22, 14.32file/s]"
     ]
    },
    {
     "name": "stdout",
     "output_type": "stream",
     "text": [
      "Copied /pfs/mt-1oY5F7/luoyihao/project/DJL/dataset_raw/B站视频数据/最终视频  尾部无水印3/以一根涨停板为标志，画出高低线找介入位置，看透逻辑不盲目割肉.mp4 to /pfs/mt-1oY5F7/luoyihao/project/DJL/dataset/dataset_from_bilibili/以一根涨停板为标志，画出高低线找介入位置，看透逻辑不盲目割肉.mp4\n"
     ]
    },
    {
     "name": "stderr",
     "output_type": "stream",
     "text": [
      "Copying mp4 files:  46%|████▌     | 270/584 [00:29<00:29, 10.67file/s]"
     ]
    },
    {
     "name": "stdout",
     "output_type": "stream",
     "text": [
      "Copied /pfs/mt-1oY5F7/luoyihao/project/DJL/dataset_raw/B站视频数据/最终视频  尾部无水印3/A股：人工智能AI强分化，主力将转向，这3个板块将迎来机会.mp4 to /pfs/mt-1oY5F7/luoyihao/project/DJL/dataset/dataset_from_bilibili/A股：人工智能AI强分化，主力将转向，这3个板块将迎来机会.mp4\n",
      "Copied /pfs/mt-1oY5F7/luoyihao/project/DJL/dataset_raw/B站视频数据/最终视频  尾部无水印3/1万块可以做期货么？这个问题很正经.mp4 to /pfs/mt-1oY5F7/luoyihao/project/DJL/dataset/dataset_from_bilibili/1万块可以做期货么？这个问题很正经.mp4\n",
      "Copied /pfs/mt-1oY5F7/luoyihao/project/DJL/dataset_raw/B站视频数据/最终视频  尾部无水印3/7月5日双创基金要上市啦，攻略来了！（后面有彩蛋）.mp4 to /pfs/mt-1oY5F7/luoyihao/project/DJL/dataset/dataset_from_bilibili/7月5日双创基金要上市啦，攻略来了！（后面有彩蛋）.mp4\n",
      "Copied /pfs/mt-1oY5F7/luoyihao/project/DJL/dataset_raw/B站视频数据/最终视频  尾部无水印3/五穷六绝七翻车，2800挡不住 - 1of2.mp4 to /pfs/mt-1oY5F7/luoyihao/project/DJL/dataset/dataset_from_bilibili/五穷六绝七翻车，2800挡不住 - 1of2.mp4\n"
     ]
    },
    {
     "name": "stderr",
     "output_type": "stream",
     "text": [
      "Copying mp4 files:  47%|████▋     | 276/584 [00:30<00:21, 14.07file/s]"
     ]
    },
    {
     "name": "stdout",
     "output_type": "stream",
     "text": [
      "Copied /pfs/mt-1oY5F7/luoyihao/project/DJL/dataset_raw/B站视频数据/最终视频  尾部无水印3/舅读研36讲课程集锦 第1讲 - 4of10.mp4 to /pfs/mt-1oY5F7/luoyihao/project/DJL/dataset/dataset_from_bilibili/舅读研36讲课程集锦 第1讲 - 4of10.mp4\n",
      "Copied /pfs/mt-1oY5F7/luoyihao/project/DJL/dataset_raw/B站视频数据/最终视频  尾部无水印3/【猛男】—我反对学打板！.mp4 to /pfs/mt-1oY5F7/luoyihao/project/DJL/dataset/dataset_from_bilibili/【猛男】—我反对学打板！.mp4\n",
      "Copied /pfs/mt-1oY5F7/luoyihao/project/DJL/dataset_raw/B站视频数据/最终视频  尾部无水印3/初步成功！.mp4 to /pfs/mt-1oY5F7/luoyihao/project/DJL/dataset/dataset_from_bilibili/初步成功！.mp4\n",
      "Copied /pfs/mt-1oY5F7/luoyihao/project/DJL/dataset_raw/B站视频数据/最终视频  尾部无水印3/95后高中教师是这样讲课的…专业师范生试讲，久违的【片段试讲合集】来啦.mp4 to /pfs/mt-1oY5F7/luoyihao/project/DJL/dataset/dataset_from_bilibili/95后高中教师是这样讲课的…专业师范生试讲，久违的【片段试讲合集】来啦.mp4\n"
     ]
    },
    {
     "name": "stderr",
     "output_type": "stream",
     "text": [
      "Copying mp4 files:  48%|████▊     | 278/584 [00:30<00:21, 14.17file/s]"
     ]
    },
    {
     "name": "stdout",
     "output_type": "stream",
     "text": [
      "Copied /pfs/mt-1oY5F7/luoyihao/project/DJL/dataset_raw/B站视频数据/最终视频  尾部无水印3/【字幕完结版】2020法考客观题刑事诉讼法精讲课-众合左宁 刑诉精讲专题04：管辖 （1） - 1of5.mp4 to /pfs/mt-1oY5F7/luoyihao/project/DJL/dataset/dataset_from_bilibili/【字幕完结版】2020法考客观题刑事诉讼法精讲课-众合左宁 刑诉精讲专题04：管辖 （1） - 1of5.mp4\n",
      "Copied /pfs/mt-1oY5F7/luoyihao/project/DJL/dataset_raw/B站视频数据/最终视频  尾部无水印3/特斯拉盈利的秘密竟然是：碳交易！碳中和未来40年的大趋势 - 1of2.mp4 to /pfs/mt-1oY5F7/luoyihao/project/DJL/dataset/dataset_from_bilibili/特斯拉盈利的秘密竟然是：碳交易！碳中和未来40年的大趋势 - 1of2.mp4\n",
      "Copied /pfs/mt-1oY5F7/luoyihao/project/DJL/dataset_raw/B站视频数据/最终视频  尾部无水印3/做好人买好股得好报.mp4 to /pfs/mt-1oY5F7/luoyihao/project/DJL/dataset/dataset_from_bilibili/做好人买好股得好报.mp4\n",
      "Copied /pfs/mt-1oY5F7/luoyihao/project/DJL/dataset_raw/B站视频数据/最终视频  尾部无水印3/【纯干货】现阶段，政信项目怎么选？！ - 2of3.mp4 to /pfs/mt-1oY5F7/luoyihao/project/DJL/dataset/dataset_from_bilibili/【纯干货】现阶段，政信项目怎么选？！ - 2of3.mp4\n"
     ]
    },
    {
     "name": "stderr",
     "output_type": "stream",
     "text": [
      "Copying mp4 files:  48%|████▊     | 283/584 [00:30<00:20, 14.53file/s]"
     ]
    },
    {
     "name": "stdout",
     "output_type": "stream",
     "text": [
      "Copied /pfs/mt-1oY5F7/luoyihao/project/DJL/dataset_raw/B站视频数据/最终视频  尾部无水印3/【字幕完结版】2020法考客观题刑事诉讼法精讲课-众合左宁 刑诉精讲专题03：刑事诉讼中的专门机关和诉讼参与人（3） - 1of7.mp4 to /pfs/mt-1oY5F7/luoyihao/project/DJL/dataset/dataset_from_bilibili/【字幕完结版】2020法考客观题刑事诉讼法精讲课-众合左宁 刑诉精讲专题03：刑事诉讼中的专门机关和诉讼参与人（3） - 1of7.mp4\n",
      "Copied /pfs/mt-1oY5F7/luoyihao/project/DJL/dataset_raw/B站视频数据/最终视频  尾部无水印3/舅读研36讲课程集锦 第1讲 - 6of10 (2).mp4 to /pfs/mt-1oY5F7/luoyihao/project/DJL/dataset/dataset_from_bilibili/舅读研36讲课程集锦 第1讲 - 6of10 (2).mp4\n",
      "Copied /pfs/mt-1oY5F7/luoyihao/project/DJL/dataset_raw/B站视频数据/最终视频  尾部无水印3/【一盘大棋】A50来了，新加坡的A50要靠边站了？ - 3of3.mp4 to /pfs/mt-1oY5F7/luoyihao/project/DJL/dataset/dataset_from_bilibili/【一盘大棋】A50来了，新加坡的A50要靠边站了？ - 3of3.mp4\n"
     ]
    },
    {
     "name": "stderr",
     "output_type": "stream",
     "text": [
      "Copying mp4 files:  49%|████▉     | 288/584 [00:30<00:17, 17.03file/s]"
     ]
    },
    {
     "name": "stdout",
     "output_type": "stream",
     "text": [
      "Copied /pfs/mt-1oY5F7/luoyihao/project/DJL/dataset_raw/B站视频数据/最终视频  尾部无水印3/怎么控制回撤？回撤是你必须要面对的，现实而无法彻底解决的问题！.mp4 to /pfs/mt-1oY5F7/luoyihao/project/DJL/dataset/dataset_from_bilibili/怎么控制回撤？回撤是你必须要面对的，现实而无法彻底解决的问题！.mp4\n",
      "Copied /pfs/mt-1oY5F7/luoyihao/project/DJL/dataset_raw/B站视频数据/最终视频  尾部无水印3/【字幕完结版】2020法考客观题刑事诉讼法精讲课-众合左宁 刑诉精讲专题01：刑事诉讼法的概念（1） - 2of18.mp4 to /pfs/mt-1oY5F7/luoyihao/project/DJL/dataset/dataset_from_bilibili/【字幕完结版】2020法考客观题刑事诉讼法精讲课-众合左宁 刑诉精讲专题01：刑事诉讼法的概念（1） - 2of18.mp4\n",
      "Copied /pfs/mt-1oY5F7/luoyihao/project/DJL/dataset_raw/B站视频数据/最终视频  尾部无水印3/【字幕完结版】2020法考客观题刑事诉讼法精讲课-众合左宁 刑诉精讲专题01：刑事诉讼法的概念（1） - 9of18.mp4 to /pfs/mt-1oY5F7/luoyihao/project/DJL/dataset/dataset_from_bilibili/【字幕完结版】2020法考客观题刑事诉讼法精讲课-众合左宁 刑诉精讲专题01：刑事诉讼法的概念（1） - 9of18.mp4\n",
      "Copied /pfs/mt-1oY5F7/luoyihao/project/DJL/dataset_raw/B站视频数据/最终视频  尾部无水印3/【字幕完结版】2020法考客观题刑事诉讼法精讲课-众合左宁 刑诉精讲专题05：回避 - 3of3.mp4 to /pfs/mt-1oY5F7/luoyihao/project/DJL/dataset/dataset_from_bilibili/【字幕完结版】2020法考客观题刑事诉讼法精讲课-众合左宁 刑诉精讲专题05：回避 - 3of3.mp4\n",
      "Copied /pfs/mt-1oY5F7/luoyihao/project/DJL/dataset_raw/B站视频数据/最终视频  尾部无水印3/阅后即焚！一个高胜率的布局方法.mp4 to /pfs/mt-1oY5F7/luoyihao/project/DJL/dataset/dataset_from_bilibili/阅后即焚！一个高胜率的布局方法.mp4\n"
     ]
    },
    {
     "name": "stderr",
     "output_type": "stream",
     "text": [
      "Copying mp4 files:  50%|████▉     | 291/584 [00:30<00:14, 19.74file/s]"
     ]
    },
    {
     "name": "stdout",
     "output_type": "stream",
     "text": [
      "Copied /pfs/mt-1oY5F7/luoyihao/project/DJL/dataset_raw/B站视频数据/最终视频  尾部无水印3/【字幕完结版】2020法考客观题刑事诉讼法精讲课-众合左宁 刑诉精讲专题01：刑事诉讼法的概念（1） - 10of18.mp4 to /pfs/mt-1oY5F7/luoyihao/project/DJL/dataset/dataset_from_bilibili/【字幕完结版】2020法考客观题刑事诉讼法精讲课-众合左宁 刑诉精讲专题01：刑事诉讼法的概念（1） - 10of18.mp4\n",
      "Copied /pfs/mt-1oY5F7/luoyihao/project/DJL/dataset_raw/B站视频数据/最终视频  尾部无水印3/教师面试初中数学无生试讲.模拟上课.讲课.说课.招聘 - 1of4.mp4 to /pfs/mt-1oY5F7/luoyihao/project/DJL/dataset/dataset_from_bilibili/教师面试初中数学无生试讲.模拟上课.讲课.说课.招聘 - 1of4.mp4\n",
      "Copied /pfs/mt-1oY5F7/luoyihao/project/DJL/dataset_raw/B站视频数据/最终视频  尾部无水印3/中国股民最怕什么？ - 1of2.mp4 to /pfs/mt-1oY5F7/luoyihao/project/DJL/dataset/dataset_from_bilibili/中国股民最怕什么？ - 1of2.mp4\n",
      "Copied /pfs/mt-1oY5F7/luoyihao/project/DJL/dataset_raw/B站视频数据/最终视频  尾部无水印3/【字幕完结版】2020法考客观题刑事诉讼法精讲课-众合左宁 刑诉精讲专题04：管辖 （1） - 5of5.mp4 to /pfs/mt-1oY5F7/luoyihao/project/DJL/dataset/dataset_from_bilibili/【字幕完结版】2020法考客观题刑事诉讼法精讲课-众合左宁 刑诉精讲专题04：管辖 （1） - 5of5.mp4\n",
      "Copied /pfs/mt-1oY5F7/luoyihao/project/DJL/dataset_raw/B站视频数据/最终视频  尾部无水印3/2021年还有个赚钱的机会，附带基金经理名单哦.mp4 to /pfs/mt-1oY5F7/luoyihao/project/DJL/dataset/dataset_from_bilibili/2021年还有个赚钱的机会，附带基金经理名单哦.mp4\n"
     ]
    },
    {
     "name": "stderr",
     "output_type": "stream",
     "text": [
      "Copying mp4 files:  51%|█████     | 297/584 [00:31<00:15, 18.67file/s]"
     ]
    },
    {
     "name": "stdout",
     "output_type": "stream",
     "text": [
      "Copied /pfs/mt-1oY5F7/luoyihao/project/DJL/dataset_raw/B站视频数据/最终视频  尾部无水印3/舅读研36讲课程集锦 第1讲 - 8of10.mp4 to /pfs/mt-1oY5F7/luoyihao/project/DJL/dataset/dataset_from_bilibili/舅读研36讲课程集锦 第1讲 - 8of10.mp4\n",
      "Copied /pfs/mt-1oY5F7/luoyihao/project/DJL/dataset_raw/B站视频数据/最终视频  尾部无水印3/A股术语解读系列（二）什么是“市盈率”（下）.mp4 to /pfs/mt-1oY5F7/luoyihao/project/DJL/dataset/dataset_from_bilibili/A股术语解读系列（二）什么是“市盈率”（下）.mp4\n",
      "Copied /pfs/mt-1oY5F7/luoyihao/project/DJL/dataset_raw/B站视频数据/最终视频  尾部无水印3/【字幕完结版】2020法考客观题刑事诉讼法精讲课-众合左宁 刑诉精讲专题02：刑事诉讼法的原则 - 3of9.mp4 to /pfs/mt-1oY5F7/luoyihao/project/DJL/dataset/dataset_from_bilibili/【字幕完结版】2020法考客观题刑事诉讼法精讲课-众合左宁 刑诉精讲专题02：刑事诉讼法的原则 - 3of9.mp4\n",
      "Copied /pfs/mt-1oY5F7/luoyihao/project/DJL/dataset_raw/B站视频数据/最终视频  尾部无水印3/个人养老，我们迟早要入坑.mp4 to /pfs/mt-1oY5F7/luoyihao/project/DJL/dataset/dataset_from_bilibili/个人养老，我们迟早要入坑.mp4\n"
     ]
    },
    {
     "name": "stderr",
     "output_type": "stream",
     "text": [
      "Copying mp4 files:  51%|█████▏    | 300/584 [00:31<00:15, 18.86file/s]"
     ]
    },
    {
     "name": "stdout",
     "output_type": "stream",
     "text": [
      "Copied /pfs/mt-1oY5F7/luoyihao/project/DJL/dataset_raw/B站视频数据/最终视频  尾部无水印3/家电通信元器件涨停潮！A股缩量上涨成交10600亿！食品领涨消费股 - 1of2.mp4 to /pfs/mt-1oY5F7/luoyihao/project/DJL/dataset/dataset_from_bilibili/家电通信元器件涨停潮！A股缩量上涨成交10600亿！食品领涨消费股 - 1of2.mp4\n",
      "Copied /pfs/mt-1oY5F7/luoyihao/project/DJL/dataset_raw/B站视频数据/最终视频  尾部无水印3/为什么集中唱多的板块，反而最容易被套？ - 3of3.mp4 to /pfs/mt-1oY5F7/luoyihao/project/DJL/dataset/dataset_from_bilibili/为什么集中唱多的板块，反而最容易被套？ - 3of3.mp4\n",
      "Copied /pfs/mt-1oY5F7/luoyihao/project/DJL/dataset_raw/B站视频数据/最终视频  尾部无水印3/为什么截断亏损让利润奔跑能够获利？ - 3of3.mp4 to /pfs/mt-1oY5F7/luoyihao/project/DJL/dataset/dataset_from_bilibili/为什么截断亏损让利润奔跑能够获利？ - 3of3.mp4\n",
      "Copied /pfs/mt-1oY5F7/luoyihao/project/DJL/dataset_raw/B站视频数据/最终视频  尾部无水印3/【字幕完结版】2020法考客观题刑事诉讼法精讲课-众合左宁 刑诉精讲专题03：刑事诉讼中的专门机关和诉讼参与人（3） - 5of7.mp4 to /pfs/mt-1oY5F7/luoyihao/project/DJL/dataset/dataset_from_bilibili/【字幕完结版】2020法考客观题刑事诉讼法精讲课-众合左宁 刑诉精讲专题03：刑事诉讼中的专门机关和诉讼参与人（3） - 5of7.mp4\n"
     ]
    },
    {
     "name": "stderr",
     "output_type": "stream",
     "text": [
      "Copying mp4 files:  52%|█████▏    | 304/584 [00:31<00:16, 17.36file/s]"
     ]
    },
    {
     "name": "stdout",
     "output_type": "stream",
     "text": [
      "Copied /pfs/mt-1oY5F7/luoyihao/project/DJL/dataset_raw/B站视频数据/最终视频  尾部无水印3/股市里的“专家观点”，对你的影响有多大？.mp4 to /pfs/mt-1oY5F7/luoyihao/project/DJL/dataset/dataset_from_bilibili/股市里的“专家观点”，对你的影响有多大？.mp4\n",
      "Copied /pfs/mt-1oY5F7/luoyihao/project/DJL/dataset_raw/B站视频数据/最终视频  尾部无水印3/新韭菜基本被割完了，剩下的都是老妖怪.mp4 to /pfs/mt-1oY5F7/luoyihao/project/DJL/dataset/dataset_from_bilibili/新韭菜基本被割完了，剩下的都是老妖怪.mp4\n",
      "Copied /pfs/mt-1oY5F7/luoyihao/project/DJL/dataset_raw/B站视频数据/最终视频  尾部无水印3/A股不存在完全同化的规律表现，结构性差异始终存在！.mp4 to /pfs/mt-1oY5F7/luoyihao/project/DJL/dataset/dataset_from_bilibili/A股不存在完全同化的规律表现，结构性差异始终存在！.mp4\n",
      "Copied /pfs/mt-1oY5F7/luoyihao/project/DJL/dataset_raw/B站视频数据/最终视频  尾部无水印3/为什么集中唱多的板块，反而最容易被套？ - 2of3.mp4 to /pfs/mt-1oY5F7/luoyihao/project/DJL/dataset/dataset_from_bilibili/为什么集中唱多的板块，反而最容易被套？ - 2of3.mp4\n"
     ]
    },
    {
     "name": "stderr",
     "output_type": "stream",
     "text": [
      "Copying mp4 files:  52%|█████▏    | 306/584 [00:31<00:16, 17.37file/s]"
     ]
    },
    {
     "name": "stdout",
     "output_type": "stream",
     "text": [
      "Copied /pfs/mt-1oY5F7/luoyihao/project/DJL/dataset_raw/B站视频数据/最终视频  尾部无水印3/舅读研36讲课程集锦 第1讲 - 3of10.mp4 to /pfs/mt-1oY5F7/luoyihao/project/DJL/dataset/dataset_from_bilibili/舅读研36讲课程集锦 第1讲 - 3of10.mp4\n"
     ]
    },
    {
     "name": "stderr",
     "output_type": "stream",
     "text": [
      "Copying mp4 files:  53%|█████▎    | 308/584 [00:32<00:28,  9.64file/s]"
     ]
    },
    {
     "name": "stdout",
     "output_type": "stream",
     "text": [
      "Copied /pfs/mt-1oY5F7/luoyihao/project/DJL/dataset_raw/B站视频数据/最终视频  尾部无水印3/65万亿城投债，能还上吗？.mp4 to /pfs/mt-1oY5F7/luoyihao/project/DJL/dataset/dataset_from_bilibili/65万亿城投债，能还上吗？.mp4\n",
      "Copied /pfs/mt-1oY5F7/luoyihao/project/DJL/dataset_raw/B站视频数据/最终视频  尾部无水印3/舅读研36讲课程集锦 第4讲 - 6of9.mp4 to /pfs/mt-1oY5F7/luoyihao/project/DJL/dataset/dataset_from_bilibili/舅读研36讲课程集锦 第4讲 - 6of9.mp4\n",
      "Copied /pfs/mt-1oY5F7/luoyihao/project/DJL/dataset_raw/B站视频数据/最终视频  尾部无水印3/也无风雨也无晴.mp4 to /pfs/mt-1oY5F7/luoyihao/project/DJL/dataset/dataset_from_bilibili/也无风雨也无晴.mp4\n",
      "Copied /pfs/mt-1oY5F7/luoyihao/project/DJL/dataset_raw/B站视频数据/最终视频  尾部无水印3/舅读研36讲课程集锦 第2讲 - 2of6.mp4 to /pfs/mt-1oY5F7/luoyihao/project/DJL/dataset/dataset_from_bilibili/舅读研36讲课程集锦 第2讲 - 2of6.mp4\n"
     ]
    },
    {
     "name": "stderr",
     "output_type": "stream",
     "text": [
      "Copying mp4 files:  54%|█████▎    | 313/584 [00:32<00:21, 12.41file/s]"
     ]
    },
    {
     "name": "stdout",
     "output_type": "stream",
     "text": [
      "Copied /pfs/mt-1oY5F7/luoyihao/project/DJL/dataset_raw/B站视频数据/最终视频  尾部无水印3/美加息靴子落地强劲反弹 A股有望百万雄师过大江.mp4 to /pfs/mt-1oY5F7/luoyihao/project/DJL/dataset/dataset_from_bilibili/美加息靴子落地强劲反弹 A股有望百万雄师过大江.mp4\n",
      "Copied /pfs/mt-1oY5F7/luoyihao/project/DJL/dataset_raw/B站视频数据/最终视频  尾部无水印3/只是回光返照.... - 1of2.mp4 to /pfs/mt-1oY5F7/luoyihao/project/DJL/dataset/dataset_from_bilibili/只是回光返照.... - 1of2.mp4\n",
      "Copied /pfs/mt-1oY5F7/luoyihao/project/DJL/dataset_raw/B站视频数据/最终视频  尾部无水印3/【字幕完结版】2020法考客观题刑事诉讼法精讲课-众合左宁 刑诉精讲专题04：管辖 （2） - 5of5.mp4 to /pfs/mt-1oY5F7/luoyihao/project/DJL/dataset/dataset_from_bilibili/【字幕完结版】2020法考客观题刑事诉讼法精讲课-众合左宁 刑诉精讲专题04：管辖 （2） - 5of5.mp4\n",
      "Copied /pfs/mt-1oY5F7/luoyihao/project/DJL/dataset_raw/B站视频数据/最终视频  尾部无水印3/3个方法，抓住上涨的股票，老股民知道后夜不能寐，大彻大悟 - 3of4.mp4 to /pfs/mt-1oY5F7/luoyihao/project/DJL/dataset/dataset_from_bilibili/3个方法，抓住上涨的股票，老股民知道后夜不能寐，大彻大悟 - 3of4.mp4\n",
      "Copied /pfs/mt-1oY5F7/luoyihao/project/DJL/dataset_raw/B站视频数据/最终视频  尾部无水印3/怎么在股市里开悟？.mp4 to /pfs/mt-1oY5F7/luoyihao/project/DJL/dataset/dataset_from_bilibili/怎么在股市里开悟？.mp4\n"
     ]
    },
    {
     "name": "stderr",
     "output_type": "stream",
     "text": [
      "Copying mp4 files:  55%|█████▍    | 320/584 [00:32<00:14, 18.70file/s]"
     ]
    },
    {
     "name": "stdout",
     "output_type": "stream",
     "text": [
      "Copied /pfs/mt-1oY5F7/luoyihao/project/DJL/dataset_raw/B站视频数据/最终视频  尾部无水印3/大便总是粘马桶，是身体的哪个部位出问题了？医生告诉你答案！.mp4 to /pfs/mt-1oY5F7/luoyihao/project/DJL/dataset/dataset_from_bilibili/大便总是粘马桶，是身体的哪个部位出问题了？医生告诉你答案！.mp4\n",
      "Copied /pfs/mt-1oY5F7/luoyihao/project/DJL/dataset_raw/B站视频数据/最终视频  尾部无水印3/舅读研36讲课程集锦 第1讲 - 9of10.mp4 to /pfs/mt-1oY5F7/luoyihao/project/DJL/dataset/dataset_from_bilibili/舅读研36讲课程集锦 第1讲 - 9of10.mp4\n",
      "Copied /pfs/mt-1oY5F7/luoyihao/project/DJL/dataset_raw/B站视频数据/最终视频  尾部无水印3/害，人真的好贱.mp4 to /pfs/mt-1oY5F7/luoyihao/project/DJL/dataset/dataset_from_bilibili/害，人真的好贱.mp4\n",
      "Copied /pfs/mt-1oY5F7/luoyihao/project/DJL/dataset_raw/B站视频数据/最终视频  尾部无水印3/3300.mp4 to /pfs/mt-1oY5F7/luoyihao/project/DJL/dataset/dataset_from_bilibili/3300.mp4\n",
      "Copied /pfs/mt-1oY5F7/luoyihao/project/DJL/dataset_raw/B站视频数据/最终视频  尾部无水印3/周末利好！.mp4 to /pfs/mt-1oY5F7/luoyihao/project/DJL/dataset/dataset_from_bilibili/周末利好！.mp4\n",
      "Copied /pfs/mt-1oY5F7/luoyihao/project/DJL/dataset_raw/B站视频数据/最终视频  尾部无水印3/研报选股法（一）热门研报排行榜.mp4 to /pfs/mt-1oY5F7/luoyihao/project/DJL/dataset/dataset_from_bilibili/研报选股法（一）热门研报排行榜.mp4\n"
     ]
    },
    {
     "name": "stderr",
     "output_type": "stream",
     "text": [
      "Copying mp4 files:  56%|█████▌    | 325/584 [00:32<00:14, 17.67file/s]"
     ]
    },
    {
     "name": "stdout",
     "output_type": "stream",
     "text": [
      "Copied /pfs/mt-1oY5F7/luoyihao/project/DJL/dataset_raw/B站视频数据/最终视频  尾部无水印3/舅读研36讲课程集锦 第4讲 - 9of9.mp4 to /pfs/mt-1oY5F7/luoyihao/project/DJL/dataset/dataset_from_bilibili/舅读研36讲课程集锦 第4讲 - 9of9.mp4\n",
      "Copied /pfs/mt-1oY5F7/luoyihao/project/DJL/dataset_raw/B站视频数据/最终视频  尾部无水印3/一季度经济数据，投资出口消费都在增加，房地产投资销售下降 - 2of3.mp4 to /pfs/mt-1oY5F7/luoyihao/project/DJL/dataset/dataset_from_bilibili/一季度经济数据，投资出口消费都在增加，房地产投资销售下降 - 2of3.mp4\n",
      "Copied /pfs/mt-1oY5F7/luoyihao/project/DJL/dataset_raw/B站视频数据/最终视频  尾部无水印3/【字幕完结版】2020法考客观题刑事诉讼法精讲课-众合左宁 刑诉精讲专题02：刑事诉讼法的原则 - 5of9.mp4 to /pfs/mt-1oY5F7/luoyihao/project/DJL/dataset/dataset_from_bilibili/【字幕完结版】2020法考客观题刑事诉讼法精讲课-众合左宁 刑诉精讲专题02：刑事诉讼法的原则 - 5of9.mp4\n",
      "Copied /pfs/mt-1oY5F7/luoyihao/project/DJL/dataset_raw/B站视频数据/最终视频  尾部无水印3/【字幕完结版】2020法考客观题刑事诉讼法精讲课-众合左宁 刑诉精讲专题03：刑事诉讼中的专门机关和诉讼参与人（3） - 2of7.mp4 to /pfs/mt-1oY5F7/luoyihao/project/DJL/dataset/dataset_from_bilibili/【字幕完结版】2020法考客观题刑事诉讼法精讲课-众合左宁 刑诉精讲专题03：刑事诉讼中的专门机关和诉讼参与人（3） - 2of7.mp4\n"
     ]
    },
    {
     "name": "stderr",
     "output_type": "stream",
     "text": [
      "Copying mp4 files:  56%|█████▌    | 328/584 [00:33<00:12, 20.13file/s]"
     ]
    },
    {
     "name": "stdout",
     "output_type": "stream",
     "text": [
      "Copied /pfs/mt-1oY5F7/luoyihao/project/DJL/dataset_raw/B站视频数据/最终视频  尾部无水印3/【字幕完结版】2020法考客观题刑事诉讼法精讲课-众合左宁 刑诉精讲专题03：刑事诉讼中的专门机关和诉讼参与人（2） - 5of6.mp4 to /pfs/mt-1oY5F7/luoyihao/project/DJL/dataset/dataset_from_bilibili/【字幕完结版】2020法考客观题刑事诉讼法精讲课-众合左宁 刑诉精讲专题03：刑事诉讼中的专门机关和诉讼参与人（2） - 5of6.mp4\n",
      "Copied /pfs/mt-1oY5F7/luoyihao/project/DJL/dataset_raw/B站视频数据/最终视频  尾部无水印3/为什么截断亏损让利润奔跑能够获利？ - 1of3.mp4 to /pfs/mt-1oY5F7/luoyihao/project/DJL/dataset/dataset_from_bilibili/为什么截断亏损让利润奔跑能够获利？ - 1of3.mp4\n",
      "Copied /pfs/mt-1oY5F7/luoyihao/project/DJL/dataset_raw/B站视频数据/最终视频  尾部无水印3/擦粑粑小心翼翼，做交易随心所欲 - 1of2.mp4 to /pfs/mt-1oY5F7/luoyihao/project/DJL/dataset/dataset_from_bilibili/擦粑粑小心翼翼，做交易随心所欲 - 1of2.mp4\n",
      "Copied /pfs/mt-1oY5F7/luoyihao/project/DJL/dataset_raw/B站视频数据/最终视频  尾部无水印3/【字幕完结版】2020法考客观题刑事诉讼法精讲课-众合左宁 刑诉精讲专题03：刑事诉讼中的专门机关和诉讼参与人（3） - 6of7.mp4 to /pfs/mt-1oY5F7/luoyihao/project/DJL/dataset/dataset_from_bilibili/【字幕完结版】2020法考客观题刑事诉讼法精讲课-众合左宁 刑诉精讲专题03：刑事诉讼中的专门机关和诉讼参与人（3） - 6of7.mp4\n",
      "Copied /pfs/mt-1oY5F7/luoyihao/project/DJL/dataset_raw/B站视频数据/最终视频  尾部无水印3/专业交易员是如何把握趋势走势的？ - 2of2.mp4 to /pfs/mt-1oY5F7/luoyihao/project/DJL/dataset/dataset_from_bilibili/专业交易员是如何把握趋势走势的？ - 2of2.mp4\n"
     ]
    },
    {
     "name": "stderr",
     "output_type": "stream",
     "text": [
      "Copying mp4 files:  57%|█████▋    | 331/584 [00:33<00:18, 13.70file/s]"
     ]
    },
    {
     "name": "stdout",
     "output_type": "stream",
     "text": [
      "Copied /pfs/mt-1oY5F7/luoyihao/project/DJL/dataset_raw/B站视频数据/最终视频  尾部无水印3/地摊经济，你努力生活的样子最酷！ - 3of3.mp4 to /pfs/mt-1oY5F7/luoyihao/project/DJL/dataset/dataset_from_bilibili/地摊经济，你努力生活的样子最酷！ - 3of3.mp4\n",
      "Copied /pfs/mt-1oY5F7/luoyihao/project/DJL/dataset_raw/B站视频数据/最终视频  尾部无水印3/A股要变盘了跳水还是大涨！ - 1of5.mp4 to /pfs/mt-1oY5F7/luoyihao/project/DJL/dataset/dataset_from_bilibili/A股要变盘了跳水还是大涨！ - 1of5.mp4\n"
     ]
    },
    {
     "name": "stderr",
     "output_type": "stream",
     "text": [
      "Copying mp4 files:  57%|█████▋    | 335/584 [00:33<00:18, 13.25file/s]"
     ]
    },
    {
     "name": "stdout",
     "output_type": "stream",
     "text": [
      "Copied /pfs/mt-1oY5F7/luoyihao/project/DJL/dataset_raw/B站视频数据/最终视频  尾部无水印3/李大霄：山重水复疑无路 绝地反弹或将展开.mp4 to /pfs/mt-1oY5F7/luoyihao/project/DJL/dataset/dataset_from_bilibili/李大霄：山重水复疑无路 绝地反弹或将展开.mp4\n",
      "Copied /pfs/mt-1oY5F7/luoyihao/project/DJL/dataset_raw/B站视频数据/最终视频  尾部无水印3/信托客户，1000万该如何配置？ - 1of2.mp4 to /pfs/mt-1oY5F7/luoyihao/project/DJL/dataset/dataset_from_bilibili/信托客户，1000万该如何配置？ - 1of2.mp4\n",
      "Copied /pfs/mt-1oY5F7/luoyihao/project/DJL/dataset_raw/B站视频数据/最终视频  尾部无水印3/年报季报要来了！如何读懂基金报告？ - 1of2.mp4 to /pfs/mt-1oY5F7/luoyihao/project/DJL/dataset/dataset_from_bilibili/年报季报要来了！如何读懂基金报告？ - 1of2.mp4\n"
     ]
    },
    {
     "name": "stderr",
     "output_type": "stream",
     "text": [
      "Copying mp4 files:  58%|█████▊    | 337/584 [00:33<00:19, 12.59file/s]"
     ]
    },
    {
     "name": "stdout",
     "output_type": "stream",
     "text": [
      "Copied /pfs/mt-1oY5F7/luoyihao/project/DJL/dataset_raw/B站视频数据/最终视频  尾部无水印3/舅读研36讲课程集锦 第4讲 - 8of9.mp4 to /pfs/mt-1oY5F7/luoyihao/project/DJL/dataset/dataset_from_bilibili/舅读研36讲课程集锦 第4讲 - 8of9.mp4\n",
      "Copied /pfs/mt-1oY5F7/luoyihao/project/DJL/dataset_raw/B站视频数据/最终视频  尾部无水印3/收管理费最高的基金经理竟然是董承非，年报新发现！.mp4 to /pfs/mt-1oY5F7/luoyihao/project/DJL/dataset/dataset_from_bilibili/收管理费最高的基金经理竟然是董承非，年报新发现！.mp4\n",
      "Copied /pfs/mt-1oY5F7/luoyihao/project/DJL/dataset_raw/B站视频数据/最终视频  尾部无水印3/技术分析没用，但技术指标有用.mp4 to /pfs/mt-1oY5F7/luoyihao/project/DJL/dataset/dataset_from_bilibili/技术分析没用，但技术指标有用.mp4\n"
     ]
    },
    {
     "name": "stderr",
     "output_type": "stream",
     "text": [
      "Copying mp4 files:  58%|█████▊    | 339/584 [00:34<00:29,  8.19file/s]"
     ]
    },
    {
     "name": "stdout",
     "output_type": "stream",
     "text": [
      "Copied /pfs/mt-1oY5F7/luoyihao/project/DJL/dataset_raw/B站视频数据/最终视频  尾部无水印3/A股要变盘了跳水还是大涨！ - 3of5.mp4 to /pfs/mt-1oY5F7/luoyihao/project/DJL/dataset/dataset_from_bilibili/A股要变盘了跳水还是大涨！ - 3of5.mp4\n"
     ]
    },
    {
     "name": "stderr",
     "output_type": "stream",
     "text": [
      "Copying mp4 files:  58%|█████▊    | 341/584 [00:34<00:29,  8.21file/s]"
     ]
    },
    {
     "name": "stdout",
     "output_type": "stream",
     "text": [
      "Copied /pfs/mt-1oY5F7/luoyihao/project/DJL/dataset_raw/B站视频数据/最终视频  尾部无水印3/散户必读十大经典（二）《艾略特波浪理论》.mp4 to /pfs/mt-1oY5F7/luoyihao/project/DJL/dataset/dataset_from_bilibili/散户必读十大经典（二）《艾略特波浪理论》.mp4\n",
      "Copied /pfs/mt-1oY5F7/luoyihao/project/DJL/dataset_raw/B站视频数据/最终视频  尾部无水印3/昨天的视频看到这里，这个还没检查完毕.mp4 to /pfs/mt-1oY5F7/luoyihao/project/DJL/dataset/dataset_from_bilibili/昨天的视频看到这里，这个还没检查完毕.mp4\n",
      "Copied /pfs/mt-1oY5F7/luoyihao/project/DJL/dataset_raw/B站视频数据/最终视频  尾部无水印3/炒股是没希望了，看看电子厂能不能收留我 - 3of3.mp4 to /pfs/mt-1oY5F7/luoyihao/project/DJL/dataset/dataset_from_bilibili/炒股是没希望了，看看电子厂能不能收留我 - 3of3.mp4\n"
     ]
    },
    {
     "name": "stderr",
     "output_type": "stream",
     "text": [
      "Copying mp4 files:  59%|█████▊    | 343/584 [00:34<00:27,  8.68file/s]"
     ]
    },
    {
     "name": "stdout",
     "output_type": "stream",
     "text": [
      "Copied /pfs/mt-1oY5F7/luoyihao/project/DJL/dataset_raw/B站视频数据/最终视频  尾部无水印3/将默认坐标设置成这个参数，通过数格子做T，将成本做到负数 - 1of2.mp4 to /pfs/mt-1oY5F7/luoyihao/project/DJL/dataset/dataset_from_bilibili/将默认坐标设置成这个参数，通过数格子做T，将成本做到负数 - 1of2.mp4\n",
      "Copied /pfs/mt-1oY5F7/luoyihao/project/DJL/dataset_raw/B站视频数据/最终视频  尾部无水印3/顶级投机大佬是如何选择股票或者期货品种的？ - 2of4.mp4 to /pfs/mt-1oY5F7/luoyihao/project/DJL/dataset/dataset_from_bilibili/顶级投机大佬是如何选择股票或者期货品种的？ - 2of4.mp4\n"
     ]
    },
    {
     "name": "stderr",
     "output_type": "stream",
     "text": [
      "Copying mp4 files:  59%|█████▉    | 345/584 [00:35<00:32,  7.28file/s]"
     ]
    },
    {
     "name": "stdout",
     "output_type": "stream",
     "text": [
      "Copied /pfs/mt-1oY5F7/luoyihao/project/DJL/dataset_raw/B站视频数据/最终视频  尾部无水印3/张兰境外家族信托被穿透！如果这么设，国内也会被穿透！.mp4 to /pfs/mt-1oY5F7/luoyihao/project/DJL/dataset/dataset_from_bilibili/张兰境外家族信托被穿透！如果这么设，国内也会被穿透！.mp4\n",
      "Copied /pfs/mt-1oY5F7/luoyihao/project/DJL/dataset_raw/B站视频数据/最终视频  尾部无水印3/在交易中，你的预测能力可能仅是幻觉 - 1of3.mp4 to /pfs/mt-1oY5F7/luoyihao/project/DJL/dataset/dataset_from_bilibili/在交易中，你的预测能力可能仅是幻觉 - 1of3.mp4\n",
      "Copied /pfs/mt-1oY5F7/luoyihao/project/DJL/dataset_raw/B站视频数据/最终视频  尾部无水印3/去掉股市噪音，让自己去思考！.mp4 to /pfs/mt-1oY5F7/luoyihao/project/DJL/dataset/dataset_from_bilibili/去掉股市噪音，让自己去思考！.mp4\n"
     ]
    },
    {
     "name": "stderr",
     "output_type": "stream",
     "text": [
      "Copying mp4 files:  60%|█████▉    | 349/584 [00:35<00:27,  8.48file/s]"
     ]
    },
    {
     "name": "stdout",
     "output_type": "stream",
     "text": [
      "Copied /pfs/mt-1oY5F7/luoyihao/project/DJL/dataset_raw/B站视频数据/最终视频  尾部无水印3/A股：4月如期开启吃饭行情，3大板块将迎来丰收，千万不要踏空了.mp4 to /pfs/mt-1oY5F7/luoyihao/project/DJL/dataset/dataset_from_bilibili/A股：4月如期开启吃饭行情，3大板块将迎来丰收，千万不要踏空了.mp4\n",
      "Copied /pfs/mt-1oY5F7/luoyihao/project/DJL/dataset_raw/B站视频数据/最终视频  尾部无水印3/如果大便也有选美，冠军一定要满足这8点！.mp4 to /pfs/mt-1oY5F7/luoyihao/project/DJL/dataset/dataset_from_bilibili/如果大便也有选美，冠军一定要满足这8点！.mp4\n",
      "Copied /pfs/mt-1oY5F7/luoyihao/project/DJL/dataset_raw/B站视频数据/最终视频  尾部无水印3/舅读研36讲课程集锦 第5讲 - 4of5 (2).mp4 to /pfs/mt-1oY5F7/luoyihao/project/DJL/dataset/dataset_from_bilibili/舅读研36讲课程集锦 第5讲 - 4of5 (2).mp4\n",
      "Copied /pfs/mt-1oY5F7/luoyihao/project/DJL/dataset_raw/B站视频数据/最终视频  尾部无水印3/再见！融资类信托！ - 2of3.mp4 to /pfs/mt-1oY5F7/luoyihao/project/DJL/dataset/dataset_from_bilibili/再见！融资类信托！ - 2of3.mp4\n",
      "Copied /pfs/mt-1oY5F7/luoyihao/project/DJL/dataset_raw/B站视频数据/最终视频  尾部无水印3/再见！融资类信托！ - 3of3.mp4 to /pfs/mt-1oY5F7/luoyihao/project/DJL/dataset/dataset_from_bilibili/再见！融资类信托！ - 3of3.mp4\n"
     ]
    },
    {
     "name": "stderr",
     "output_type": "stream",
     "text": [
      "Copying mp4 files:  61%|██████    | 356/584 [00:35<00:15, 14.69file/s]"
     ]
    },
    {
     "name": "stdout",
     "output_type": "stream",
     "text": [
      "Copied /pfs/mt-1oY5F7/luoyihao/project/DJL/dataset_raw/B站视频数据/最终视频  尾部无水印3/A股要变盘了跳水还是大涨！ - 2of5.mp4 to /pfs/mt-1oY5F7/luoyihao/project/DJL/dataset/dataset_from_bilibili/A股要变盘了跳水还是大涨！ - 2of5.mp4\n",
      "Copied /pfs/mt-1oY5F7/luoyihao/project/DJL/dataset_raw/B站视频数据/最终视频  尾部无水印3/舅读研36讲课程集锦 第1讲 - 1of10.mp4 to /pfs/mt-1oY5F7/luoyihao/project/DJL/dataset/dataset_from_bilibili/舅读研36讲课程集锦 第1讲 - 1of10.mp4\n",
      "Copied /pfs/mt-1oY5F7/luoyihao/project/DJL/dataset_raw/B站视频数据/最终视频  尾部无水印3/小牛才露尖尖角.mp4 to /pfs/mt-1oY5F7/luoyihao/project/DJL/dataset/dataset_from_bilibili/小牛才露尖尖角.mp4\n",
      "Copied /pfs/mt-1oY5F7/luoyihao/project/DJL/dataset_raw/B站视频数据/最终视频  尾部无水印3/【字幕完结版】2020法考客观题刑事诉讼法精讲课-众合左宁 刑诉精讲专题02：刑事诉讼法的原则 - 1of9.mp4 to /pfs/mt-1oY5F7/luoyihao/project/DJL/dataset/dataset_from_bilibili/【字幕完结版】2020法考客观题刑事诉讼法精讲课-众合左宁 刑诉精讲专题02：刑事诉讼法的原则 - 1of9.mp4\n",
      "Copied /pfs/mt-1oY5F7/luoyihao/project/DJL/dataset_raw/B站视频数据/最终视频  尾部无水印3/大盘如期跌破3400！基金经理董承非踩雷白马股 公募调仓动向暴露 基金如何应对？.mp4 to /pfs/mt-1oY5F7/luoyihao/project/DJL/dataset/dataset_from_bilibili/大盘如期跌破3400！基金经理董承非踩雷白马股 公募调仓动向暴露 基金如何应对？.mp4\n"
     ]
    },
    {
     "name": "stderr",
     "output_type": "stream",
     "text": [
      "Copying mp4 files:  62%|██████▏   | 360/584 [00:36<00:25,  8.93file/s]"
     ]
    },
    {
     "name": "stdout",
     "output_type": "stream",
     "text": [
      "Copied /pfs/mt-1oY5F7/luoyihao/project/DJL/dataset_raw/B站视频数据/最终视频  尾部无水印3/舅读研36讲课程集锦 第2讲 - 1of6.mp4 to /pfs/mt-1oY5F7/luoyihao/project/DJL/dataset/dataset_from_bilibili/舅读研36讲课程集锦 第2讲 - 1of6.mp4\n",
      "Copied /pfs/mt-1oY5F7/luoyihao/project/DJL/dataset_raw/B站视频数据/最终视频  尾部无水印3/重大利好！.mp4 to /pfs/mt-1oY5F7/luoyihao/project/DJL/dataset/dataset_from_bilibili/重大利好！.mp4\n",
      "Copied /pfs/mt-1oY5F7/luoyihao/project/DJL/dataset_raw/B站视频数据/最终视频  尾部无水印3/【纯债信托】避坑指南.mp4 to /pfs/mt-1oY5F7/luoyihao/project/DJL/dataset/dataset_from_bilibili/【纯债信托】避坑指南.mp4\n"
     ]
    },
    {
     "name": "stderr",
     "output_type": "stream",
     "text": [
      "Copying mp4 files:  62%|██████▏   | 364/584 [00:37<00:21, 10.22file/s]"
     ]
    },
    {
     "name": "stdout",
     "output_type": "stream",
     "text": [
      "Copied /pfs/mt-1oY5F7/luoyihao/project/DJL/dataset_raw/B站视频数据/最终视频  尾部无水印3/【字幕完结版】2020法考客观题刑事诉讼法精讲课-众合左宁 刑诉精讲专题03：刑事诉讼中的专门机关和诉讼参与人（2） - 3of6.mp4 to /pfs/mt-1oY5F7/luoyihao/project/DJL/dataset/dataset_from_bilibili/【字幕完结版】2020法考客观题刑事诉讼法精讲课-众合左宁 刑诉精讲专题03：刑事诉讼中的专门机关和诉讼参与人（2） - 3of6.mp4\n",
      "Copied /pfs/mt-1oY5F7/luoyihao/project/DJL/dataset_raw/B站视频数据/最终视频  尾部无水印3/先别管绿不绿了，我反正已经黄了 - 1of2.mp4 to /pfs/mt-1oY5F7/luoyihao/project/DJL/dataset/dataset_from_bilibili/先别管绿不绿了，我反正已经黄了 - 1of2.mp4\n",
      "Copied /pfs/mt-1oY5F7/luoyihao/project/DJL/dataset_raw/B站视频数据/最终视频  尾部无水印3/有人问我如何股票复盘，我的回答自己都无语了！.mp4 to /pfs/mt-1oY5F7/luoyihao/project/DJL/dataset/dataset_from_bilibili/有人问我如何股票复盘，我的回答自己都无语了！.mp4\n",
      "Copied /pfs/mt-1oY5F7/luoyihao/project/DJL/dataset_raw/B站视频数据/最终视频  尾部无水印3/炒股炒的不是股，而是人！.mp4 to /pfs/mt-1oY5F7/luoyihao/project/DJL/dataset/dataset_from_bilibili/炒股炒的不是股，而是人！.mp4\n",
      "Copied /pfs/mt-1oY5F7/luoyihao/project/DJL/dataset_raw/B站视频数据/最终视频  尾部无水印3/股票解禁后是涨还是跌？.mp4 to /pfs/mt-1oY5F7/luoyihao/project/DJL/dataset/dataset_from_bilibili/股票解禁后是涨还是跌？.mp4\n"
     ]
    },
    {
     "name": "stderr",
     "output_type": "stream",
     "text": [
      "Copying mp4 files:  63%|██████▎   | 370/584 [00:37<00:13, 15.32file/s]"
     ]
    },
    {
     "name": "stdout",
     "output_type": "stream",
     "text": [
      "Copied /pfs/mt-1oY5F7/luoyihao/project/DJL/dataset_raw/B站视频数据/最终视频  尾部无水印3/3个方法，抓住上涨的股票，老股民知道后夜不能寐，大彻大悟 - 2of4.mp4 to /pfs/mt-1oY5F7/luoyihao/project/DJL/dataset/dataset_from_bilibili/3个方法，抓住上涨的股票，老股民知道后夜不能寐，大彻大悟 - 2of4.mp4\n",
      "Copied /pfs/mt-1oY5F7/luoyihao/project/DJL/dataset_raw/B站视频数据/最终视频  尾部无水印3/炒股想要做好中长线，首要解决这三个问题！.mp4 to /pfs/mt-1oY5F7/luoyihao/project/DJL/dataset/dataset_from_bilibili/炒股想要做好中长线，首要解决这三个问题！.mp4\n",
      "Copied /pfs/mt-1oY5F7/luoyihao/project/DJL/dataset_raw/B站视频数据/最终视频  尾部无水印3/一季度经济数据，投资出口消费都在增加，房地产投资销售下降 - 3of3.mp4 to /pfs/mt-1oY5F7/luoyihao/project/DJL/dataset/dataset_from_bilibili/一季度经济数据，投资出口消费都在增加，房地产投资销售下降 - 3of3.mp4\n",
      "Copied /pfs/mt-1oY5F7/luoyihao/project/DJL/dataset_raw/B站视频数据/最终视频  尾部无水印3/在交易中，你的预测能力可能仅是幻觉 - 2of3.mp4 to /pfs/mt-1oY5F7/luoyihao/project/DJL/dataset/dataset_from_bilibili/在交易中，你的预测能力可能仅是幻觉 - 2of3.mp4\n",
      "Copied /pfs/mt-1oY5F7/luoyihao/project/DJL/dataset_raw/B站视频数据/最终视频  尾部无水印3/股指创短期新高，权重制造的繁荣会持续多久？.mp4 to /pfs/mt-1oY5F7/luoyihao/project/DJL/dataset/dataset_from_bilibili/股指创短期新高，权重制造的繁荣会持续多久？.mp4\n"
     ]
    },
    {
     "name": "stderr",
     "output_type": "stream",
     "text": [
      "Copying mp4 files:  64%|██████▎   | 372/584 [00:37<00:13, 15.95file/s]"
     ]
    },
    {
     "name": "stdout",
     "output_type": "stream",
     "text": [
      "Copied /pfs/mt-1oY5F7/luoyihao/project/DJL/dataset_raw/B站视频数据/最终视频  尾部无水印3/五穷六绝七翻车，2800挡不住 - 2of2.mp4 to /pfs/mt-1oY5F7/luoyihao/project/DJL/dataset/dataset_from_bilibili/五穷六绝七翻车，2800挡不住 - 2of2.mp4\n",
      "Copied /pfs/mt-1oY5F7/luoyihao/project/DJL/dataset_raw/B站视频数据/最终视频  尾部无水印3/【字幕完结版】2020法考客观题刑事诉讼法精讲课-众合左宁 刑诉精讲专题03：刑事诉讼中的专门机关和诉讼参与人（3） - 4of7.mp4 to /pfs/mt-1oY5F7/luoyihao/project/DJL/dataset/dataset_from_bilibili/【字幕完结版】2020法考客观题刑事诉讼法精讲课-众合左宁 刑诉精讲专题03：刑事诉讼中的专门机关和诉讼参与人（3） - 4of7.mp4\n",
      "Copied /pfs/mt-1oY5F7/luoyihao/project/DJL/dataset_raw/B站视频数据/最终视频  尾部无水印3/【字幕完结版】2020法考客观题刑事诉讼法精讲课-众合左宁 刑诉精讲专题03：刑事诉讼中的专门机关和诉讼参与人（2） - 4of6.mp4 to /pfs/mt-1oY5F7/luoyihao/project/DJL/dataset/dataset_from_bilibili/【字幕完结版】2020法考客观题刑事诉讼法精讲课-众合左宁 刑诉精讲专题03：刑事诉讼中的专门机关和诉讼参与人（2） - 4of6.mp4\n"
     ]
    },
    {
     "name": "stderr",
     "output_type": "stream",
     "text": [
      "Copying mp4 files:  65%|██████▍   | 377/584 [00:37<00:11, 18.74file/s]"
     ]
    },
    {
     "name": "stdout",
     "output_type": "stream",
     "text": [
      "Copied /pfs/mt-1oY5F7/luoyihao/project/DJL/dataset_raw/B站视频数据/最终视频  尾部无水印3/新股决定未来.mp4 to /pfs/mt-1oY5F7/luoyihao/project/DJL/dataset/dataset_from_bilibili/新股决定未来.mp4\n",
      "Copied /pfs/mt-1oY5F7/luoyihao/project/DJL/dataset_raw/B站视频数据/最终视频  尾部无水印3/选股，先选行业再选个股，还是先选个股再看行业？ - 1of2.mp4 to /pfs/mt-1oY5F7/luoyihao/project/DJL/dataset/dataset_from_bilibili/选股，先选行业再选个股，还是先选个股再看行业？ - 1of2.mp4\n",
      "Copied /pfs/mt-1oY5F7/luoyihao/project/DJL/dataset_raw/B站视频数据/最终视频  尾部无水印3/【字幕完结版】2020法考客观题刑事诉讼法精讲课-众合左宁 刑诉精讲专题01：刑事诉讼法的概念（1） - 3of18.mp4 to /pfs/mt-1oY5F7/luoyihao/project/DJL/dataset/dataset_from_bilibili/【字幕完结版】2020法考客观题刑事诉讼法精讲课-众合左宁 刑诉精讲专题01：刑事诉讼法的概念（1） - 3of18.mp4\n",
      "Copied /pfs/mt-1oY5F7/luoyihao/project/DJL/dataset_raw/B站视频数据/最终视频  尾部无水印3/反攻日.mp4 to /pfs/mt-1oY5F7/luoyihao/project/DJL/dataset/dataset_from_bilibili/反攻日.mp4\n",
      "Copied /pfs/mt-1oY5F7/luoyihao/project/DJL/dataset_raw/B站视频数据/最终视频  尾部无水印3/太过分了之二.mp4 to /pfs/mt-1oY5F7/luoyihao/project/DJL/dataset/dataset_from_bilibili/太过分了之二.mp4\n",
      "Copied /pfs/mt-1oY5F7/luoyihao/project/DJL/dataset_raw/B站视频数据/最终视频  尾部无水印3/不要去赌个股启动，因为只有50%的概率赌对！ - 1of2.mp4 to /pfs/mt-1oY5F7/luoyihao/project/DJL/dataset/dataset_from_bilibili/不要去赌个股启动，因为只有50%的概率赌对！ - 1of2.mp4\n"
     ]
    },
    {
     "name": "stderr",
     "output_type": "stream",
     "text": [
      "Copying mp4 files:  66%|██████▌   | 383/584 [00:37<00:10, 18.31file/s]"
     ]
    },
    {
     "name": "stdout",
     "output_type": "stream",
     "text": [
      "Copied /pfs/mt-1oY5F7/luoyihao/project/DJL/dataset_raw/B站视频数据/最终视频  尾部无水印3/今天，泼一丢丢冷水.mp4 to /pfs/mt-1oY5F7/luoyihao/project/DJL/dataset/dataset_from_bilibili/今天，泼一丢丢冷水.mp4\n",
      "Copied /pfs/mt-1oY5F7/luoyihao/project/DJL/dataset_raw/B站视频数据/最终视频  尾部无水印3/我已经在写律师函了.mp4 to /pfs/mt-1oY5F7/luoyihao/project/DJL/dataset/dataset_from_bilibili/我已经在写律师函了.mp4\n",
      "Copied /pfs/mt-1oY5F7/luoyihao/project/DJL/dataset_raw/B站视频数据/最终视频  尾部无水印3/选股，先选行业再选个股，还是先选个股再看行业？ - 2of2.mp4 to /pfs/mt-1oY5F7/luoyihao/project/DJL/dataset/dataset_from_bilibili/选股，先选行业再选个股，还是先选个股再看行业？ - 2of2.mp4\n",
      "Copied /pfs/mt-1oY5F7/luoyihao/project/DJL/dataset_raw/B站视频数据/最终视频  尾部无水印3/【字幕完结版】2020法考客观题刑事诉讼法精讲课-众合左宁 刑诉精讲专题03：刑事诉讼中的专门机关和诉讼参与人（3） - 7of7.mp4 to /pfs/mt-1oY5F7/luoyihao/project/DJL/dataset/dataset_from_bilibili/【字幕完结版】2020法考客观题刑事诉讼法精讲课-众合左宁 刑诉精讲专题03：刑事诉讼中的专门机关和诉讼参与人（3） - 7of7.mp4\n"
     ]
    },
    {
     "name": "stderr",
     "output_type": "stream",
     "text": [
      "Copying mp4 files:  66%|██████▌   | 385/584 [00:38<00:12, 16.51file/s]"
     ]
    },
    {
     "name": "stdout",
     "output_type": "stream",
     "text": [
      "Copied /pfs/mt-1oY5F7/luoyihao/project/DJL/dataset_raw/B站视频数据/最终视频  尾部无水印2/19-【教师编】面试时一开口就是资深老教师的评价语和过渡语，你学废了吗？.mp4 to /pfs/mt-1oY5F7/luoyihao/project/DJL/dataset/dataset_from_bilibili/19-【教师编】面试时一开口就是资深老教师的评价语和过渡语，你学废了吗？.mp4\n",
      "Copied /pfs/mt-1oY5F7/luoyihao/project/DJL/dataset_raw/B站视频数据/最终视频  尾部无水印2/47-省考岗位解析第6集，县纪委监委怎么样？.mp4 to /pfs/mt-1oY5F7/luoyihao/project/DJL/dataset/dataset_from_bilibili/47-省考岗位解析第6集，县纪委监委怎么样？.mp4\n"
     ]
    },
    {
     "name": "stderr",
     "output_type": "stream",
     "text": [
      "Copying mp4 files:  66%|██████▋   | 387/584 [00:38<00:19, 10.19file/s]"
     ]
    },
    {
     "name": "stdout",
     "output_type": "stream",
     "text": [
      "Copied /pfs/mt-1oY5F7/luoyihao/project/DJL/dataset_raw/B站视频数据/最终视频  尾部无水印2/79-在证券公司营业部，工作了一年，你猜我攒到了多少钱？.mp4 to /pfs/mt-1oY5F7/luoyihao/project/DJL/dataset/dataset_from_bilibili/79-在证券公司营业部，工作了一年，你猜我攒到了多少钱？.mp4\n",
      "Copied /pfs/mt-1oY5F7/luoyihao/project/DJL/dataset_raw/B站视频数据/最终视频  尾部无水印2/43-省考岗位解析第2集，县政府办怎么样？ (2).mp4 to /pfs/mt-1oY5F7/luoyihao/project/DJL/dataset/dataset_from_bilibili/43-省考岗位解析第2集，县政府办怎么样？ (2).mp4\n",
      "Copied /pfs/mt-1oY5F7/luoyihao/project/DJL/dataset_raw/B站视频数据/最终视频  尾部无水印2/26-【主播说联播】把小事当大事干，也能通过平凡成就非凡！.mp4 to /pfs/mt-1oY5F7/luoyihao/project/DJL/dataset/dataset_from_bilibili/26-【主播说联播】把小事当大事干，也能通过平凡成就非凡！.mp4\n",
      "Copied /pfs/mt-1oY5F7/luoyihao/project/DJL/dataset_raw/B站视频数据/最终视频  尾部无水印2/78-弟弟背着我150一天干苦力活，优秀.mp4 to /pfs/mt-1oY5F7/luoyihao/project/DJL/dataset/dataset_from_bilibili/78-弟弟背着我150一天干苦力活，优秀.mp4\n",
      "Copied /pfs/mt-1oY5F7/luoyihao/project/DJL/dataset_raw/B站视频数据/最终视频  尾部无水印2/24-东北证券首席付鹏：不推荐现在的年轻人选择金融专业.mp4 to /pfs/mt-1oY5F7/luoyihao/project/DJL/dataset/dataset_from_bilibili/24-东北证券首席付鹏：不推荐现在的年轻人选择金融专业.mp4\n"
     ]
    },
    {
     "name": "stderr",
     "output_type": "stream",
     "text": [
      "Copying mp4 files:  67%|██████▋   | 394/584 [00:38<00:13, 13.86file/s]"
     ]
    },
    {
     "name": "stdout",
     "output_type": "stream",
     "text": [
      "Copied /pfs/mt-1oY5F7/luoyihao/project/DJL/dataset_raw/B站视频数据/最终视频  尾部无水印2/40-券商美女浓度最高的部门——揭秘资本市场部：DCM & ECM.mp4 to /pfs/mt-1oY5F7/luoyihao/project/DJL/dataset/dataset_from_bilibili/40-券商美女浓度最高的部门——揭秘资本市场部：DCM & ECM.mp4\n",
      "Copied /pfs/mt-1oY5F7/luoyihao/project/DJL/dataset_raw/B站视频数据/最终视频  尾部无水印2/61-投资最稳健的赚钱策略是啥？一个字“等”.mp4 to /pfs/mt-1oY5F7/luoyihao/project/DJL/dataset/dataset_from_bilibili/61-投资最稳健的赚钱策略是啥？一个字“等”.mp4\n",
      "Copied /pfs/mt-1oY5F7/luoyihao/project/DJL/dataset_raw/B站视频数据/最终视频  尾部无水印2/115-男生眼睛不瞎能看出你已经三十多岁了.mp4 to /pfs/mt-1oY5F7/luoyihao/project/DJL/dataset/dataset_from_bilibili/115-男生眼睛不瞎能看出你已经三十多岁了.mp4\n",
      "Copied /pfs/mt-1oY5F7/luoyihao/project/DJL/dataset_raw/B站视频数据/最终视频  尾部无水印2/83-这个编制在山上值夜班守公墓，上10休20，工资4500，年终奖4.9万.mp4 to /pfs/mt-1oY5F7/luoyihao/project/DJL/dataset/dataset_from_bilibili/83-这个编制在山上值夜班守公墓，上10休20，工资4500，年终奖4.9万.mp4\n"
     ]
    },
    {
     "name": "stderr",
     "output_type": "stream",
     "text": [
      "Copying mp4 files:  68%|██████▊   | 396/584 [00:39<00:13, 13.49file/s]"
     ]
    },
    {
     "name": "stdout",
     "output_type": "stream",
     "text": [
      "Copied /pfs/mt-1oY5F7/luoyihao/project/DJL/dataset_raw/B站视频数据/最终视频  尾部无水印2/25-兜里没钱的感觉真难受啊 想哭.mp4 to /pfs/mt-1oY5F7/luoyihao/project/DJL/dataset/dataset_from_bilibili/25-兜里没钱的感觉真难受啊 想哭.mp4\n",
      "Copied /pfs/mt-1oY5F7/luoyihao/project/DJL/dataset_raw/B站视频数据/最终视频  尾部无水印2/91-耗时一个月，我做了一个干净免费的编程自学网！.mp4 to /pfs/mt-1oY5F7/luoyihao/project/DJL/dataset/dataset_from_bilibili/91-耗时一个月，我做了一个干净免费的编程自学网！.mp4\n",
      "Copied /pfs/mt-1oY5F7/luoyihao/project/DJL/dataset_raw/B站视频数据/最终视频  尾部无水印2/48-GPT，GPT-2，GPT-3 论文精读【论文精读】.mp4 to /pfs/mt-1oY5F7/luoyihao/project/DJL/dataset/dataset_from_bilibili/48-GPT，GPT-2，GPT-3 论文精读【论文精读】.mp4\n"
     ]
    },
    {
     "name": "stderr",
     "output_type": "stream",
     "text": [
      "Copying mp4 files:  68%|██████▊   | 398/584 [00:39<00:17, 10.56file/s]"
     ]
    },
    {
     "name": "stdout",
     "output_type": "stream",
     "text": [
      "Copied /pfs/mt-1oY5F7/luoyihao/project/DJL/dataset_raw/B站视频数据/最终视频  尾部无水印2/102-懒人背书法！“背书机器”人大学姐背书秘籍，用完立刻变学霸！ ｜ 各年级适用.mp4 to /pfs/mt-1oY5F7/luoyihao/project/DJL/dataset/dataset_from_bilibili/102-懒人背书法！“背书机器”人大学姐背书秘籍，用完立刻变学霸！ ｜ 各年级适用.mp4\n",
      "Copied /pfs/mt-1oY5F7/luoyihao/project/DJL/dataset_raw/B站视频数据/最终视频  尾部无水印2/51-省考岗位解析第10集，县住建局怎么样？.mp4 to /pfs/mt-1oY5F7/luoyihao/project/DJL/dataset/dataset_from_bilibili/51-省考岗位解析第10集，县住建局怎么样？.mp4\n"
     ]
    },
    {
     "name": "stderr",
     "output_type": "stream",
     "text": [
      "Copying mp4 files:  69%|██████▉   | 402/584 [00:39<00:16, 11.34file/s]"
     ]
    },
    {
     "name": "stdout",
     "output_type": "stream",
     "text": [
      "Copied /pfs/mt-1oY5F7/luoyihao/project/DJL/dataset_raw/B站视频数据/最终视频  尾部无水印2/67-别花父母的钱满足你的追星虚荣心了.mp4 to /pfs/mt-1oY5F7/luoyihao/project/DJL/dataset/dataset_from_bilibili/67-别花父母的钱满足你的追星虚荣心了.mp4\n",
      "Copied /pfs/mt-1oY5F7/luoyihao/project/DJL/dataset_raw/B站视频数据/最终视频  尾部无水印2/44-CUC节目主持基础与训练期末作业 健康美食间.mp4 to /pfs/mt-1oY5F7/luoyihao/project/DJL/dataset/dataset_from_bilibili/44-CUC节目主持基础与训练期末作业 健康美食间.mp4\n",
      "Copied /pfs/mt-1oY5F7/luoyihao/project/DJL/dataset_raw/B站视频数据/最终视频  尾部无水印2/3-“说句掏心窝子的话，如果不是家里条件还行，你可能什么也不是” “说句掏心窝子的话，如果不是家里条件还行，你可能什么也不是”.mp4 to /pfs/mt-1oY5F7/luoyihao/project/DJL/dataset/dataset_from_bilibili/3-“说句掏心窝子的话，如果不是家里条件还行，你可能什么也不是” “说句掏心窝子的话，如果不是家里条件还行，你可能什么也不是”.mp4\n"
     ]
    },
    {
     "name": "stderr",
     "output_type": "stream",
     "text": [
      "Copying mp4 files:  69%|██████▉   | 404/584 [00:39<00:16, 11.14file/s]"
     ]
    },
    {
     "name": "stdout",
     "output_type": "stream",
     "text": [
      "Copied /pfs/mt-1oY5F7/luoyihao/project/DJL/dataset_raw/B站视频数据/最终视频  尾部无水印2/42-省考岗位解析第1集，县委办怎么样？.mp4 to /pfs/mt-1oY5F7/luoyihao/project/DJL/dataset/dataset_from_bilibili/42-省考岗位解析第1集，县委办怎么样？.mp4\n",
      "Copied /pfs/mt-1oY5F7/luoyihao/project/DJL/dataset_raw/B站视频数据/最终视频  尾部无水印2/80-儿童故事-狼来了.mp4 to /pfs/mt-1oY5F7/luoyihao/project/DJL/dataset/dataset_from_bilibili/80-儿童故事-狼来了.mp4\n"
     ]
    },
    {
     "name": "stderr",
     "output_type": "stream",
     "text": [
      "Copying mp4 files:  70%|██████▉   | 406/584 [00:40<00:17,  9.93file/s]"
     ]
    },
    {
     "name": "stdout",
     "output_type": "stream",
     "text": [
      "Copied /pfs/mt-1oY5F7/luoyihao/project/DJL/dataset_raw/B站视频数据/最终视频  尾部无水印2/30-干了四个月就干不下去了？券商都在做什么？为什么我不推荐毕业生来券商营业部.mp4 to /pfs/mt-1oY5F7/luoyihao/project/DJL/dataset/dataset_from_bilibili/30-干了四个月就干不下去了？券商都在做什么？为什么我不推荐毕业生来券商营业部.mp4\n",
      "Copied /pfs/mt-1oY5F7/luoyihao/project/DJL/dataset_raw/B站视频数据/最终视频  尾部无水印2/63-背诵视频.mp4 to /pfs/mt-1oY5F7/luoyihao/project/DJL/dataset/dataset_from_bilibili/63-背诵视频.mp4\n",
      "Copied /pfs/mt-1oY5F7/luoyihao/project/DJL/dataset_raw/B站视频数据/最终视频  尾部无水印2/89-证券行业发展现状和发展优势3.mp4 to /pfs/mt-1oY5F7/luoyihao/project/DJL/dataset/dataset_from_bilibili/89-证券行业发展现状和发展优势3.mp4\n"
     ]
    },
    {
     "name": "stderr",
     "output_type": "stream",
     "text": [
      "Copying mp4 files:  70%|███████   | 410/584 [00:40<00:17,  9.67file/s]"
     ]
    },
    {
     "name": "stdout",
     "output_type": "stream",
     "text": [
      "Copied /pfs/mt-1oY5F7/luoyihao/project/DJL/dataset_raw/B站视频数据/最终视频  尾部无水印2/49-GPT，GPT-2，GPT-3 论文精读【论文精读】.mp4 to /pfs/mt-1oY5F7/luoyihao/project/DJL/dataset/dataset_from_bilibili/49-GPT，GPT-2，GPT-3 论文精读【论文精读】.mp4\n",
      "Copied /pfs/mt-1oY5F7/luoyihao/project/DJL/dataset_raw/B站视频数据/最终视频  尾部无水印2/121-日系：天亡我，非战之罪也.mp4 to /pfs/mt-1oY5F7/luoyihao/project/DJL/dataset/dataset_from_bilibili/121-日系：天亡我，非战之罪也.mp4\n",
      "Copied /pfs/mt-1oY5F7/luoyihao/project/DJL/dataset_raw/B站视频数据/最终视频  尾部无水印2/92-组织部，5颗星，提拔最快，加班最狠，令人又爱又恨的单位.mp4 to /pfs/mt-1oY5F7/luoyihao/project/DJL/dataset/dataset_from_bilibili/92-组织部，5颗星，提拔最快，加班最狠，令人又爱又恨的单位.mp4\n"
     ]
    },
    {
     "name": "stderr",
     "output_type": "stream",
     "text": [
      "Copying mp4 files:  71%|███████   | 412/584 [00:40<00:16, 10.27file/s]"
     ]
    },
    {
     "name": "stdout",
     "output_type": "stream",
     "text": [
      "Copied /pfs/mt-1oY5F7/luoyihao/project/DJL/dataset_raw/B站视频数据/最终视频  尾部无水印2/17-炒G管不住自己的手，怎么办？.mp4 to /pfs/mt-1oY5F7/luoyihao/project/DJL/dataset/dataset_from_bilibili/17-炒G管不住自己的手，怎么办？.mp4\n",
      "Copied /pfs/mt-1oY5F7/luoyihao/project/DJL/dataset_raw/B站视频数据/最终视频  尾部无水印2/77-到北京上大学之后，我才明白什么叫阶层差距.mp4 to /pfs/mt-1oY5F7/luoyihao/project/DJL/dataset/dataset_from_bilibili/77-到北京上大学之后，我才明白什么叫阶层差距.mp4\n"
     ]
    },
    {
     "name": "stderr",
     "output_type": "stream",
     "text": [
      "Copying mp4 files:  71%|███████   | 414/584 [00:41<00:18,  9.43file/s]"
     ]
    },
    {
     "name": "stdout",
     "output_type": "stream",
     "text": [
      "Copied /pfs/mt-1oY5F7/luoyihao/project/DJL/dataset_raw/B站视频数据/最终视频  尾部无水印2/88-证券行业①。证券行业属垃圾行业。找工作要避开。长期价值投资也要避开。.mp4 to /pfs/mt-1oY5F7/luoyihao/project/DJL/dataset/dataset_from_bilibili/88-证券行业①。证券行业属垃圾行业。找工作要避开。长期价值投资也要避开。.mp4\n",
      "Copied /pfs/mt-1oY5F7/luoyihao/project/DJL/dataset_raw/B站视频数据/最终视频  尾部无水印2/80-找到工作了 月薪2000元.mp4 to /pfs/mt-1oY5F7/luoyihao/project/DJL/dataset/dataset_from_bilibili/80-找到工作了 月薪2000元.mp4\n",
      "Copied /pfs/mt-1oY5F7/luoyihao/project/DJL/dataset_raw/B站视频数据/最终视频  尾部无水印2/45-省考岗位解析第4集，县发改委怎么样？.mp4 to /pfs/mt-1oY5F7/luoyihao/project/DJL/dataset/dataset_from_bilibili/45-省考岗位解析第4集，县发改委怎么样？.mp4\n"
     ]
    },
    {
     "name": "stderr",
     "output_type": "stream",
     "text": [
      "Copying mp4 files:  72%|███████▏  | 418/584 [00:41<00:24,  6.91file/s]"
     ]
    },
    {
     "name": "stdout",
     "output_type": "stream",
     "text": [
      "Copied /pfs/mt-1oY5F7/luoyihao/project/DJL/dataset_raw/B站视频数据/最终视频  尾部无水印2/66-我们村好几个人，不到50岁就死了或者瘫痪了，引发了我的一些思考.mp4 to /pfs/mt-1oY5F7/luoyihao/project/DJL/dataset/dataset_from_bilibili/66-我们村好几个人，不到50岁就死了或者瘫痪了，引发了我的一些思考.mp4\n",
      "Copied /pfs/mt-1oY5F7/luoyihao/project/DJL/dataset_raw/B站视频数据/最终视频  尾部无水印2/36-美国人1年工资就能买车？没那么简单【短视频】.mp4 to /pfs/mt-1oY5F7/luoyihao/project/DJL/dataset/dataset_from_bilibili/36-美国人1年工资就能买车？没那么简单【短视频】.mp4\n",
      "Copied /pfs/mt-1oY5F7/luoyihao/project/DJL/dataset_raw/B站视频数据/最终视频  尾部无水印2/54-省考岗位解析第15集，民政局怎么样？(1).mp4 to /pfs/mt-1oY5F7/luoyihao/project/DJL/dataset/dataset_from_bilibili/54-省考岗位解析第15集，民政局怎么样？(1).mp4\n",
      "Copied /pfs/mt-1oY5F7/luoyihao/project/DJL/dataset_raw/B站视频数据/最终视频  尾部无水印2/97-教师备课丨如何免费下载音频视频.mp4 to /pfs/mt-1oY5F7/luoyihao/project/DJL/dataset/dataset_from_bilibili/97-教师备课丨如何免费下载音频视频.mp4\n"
     ]
    },
    {
     "name": "stderr",
     "output_type": "stream",
     "text": [
      "Copying mp4 files:  72%|███████▏  | 421/584 [00:42<00:20,  7.77file/s]"
     ]
    },
    {
     "name": "stdout",
     "output_type": "stream",
     "text": [
      "Copied /pfs/mt-1oY5F7/luoyihao/project/DJL/dataset_raw/B站视频数据/最终视频  尾部无水印2/79-弟弟背着我150一天干苦力活，优秀.mp4 to /pfs/mt-1oY5F7/luoyihao/project/DJL/dataset/dataset_from_bilibili/79-弟弟背着我150一天干苦力活，优秀.mp4\n",
      "Copied /pfs/mt-1oY5F7/luoyihao/project/DJL/dataset_raw/B站视频数据/最终视频  尾部无水印2/108-刘锎宇｜《家庭美食一起做》.mp4 to /pfs/mt-1oY5F7/luoyihao/project/DJL/dataset/dataset_from_bilibili/108-刘锎宇｜《家庭美食一起做》.mp4\n"
     ]
    },
    {
     "name": "stderr",
     "output_type": "stream",
     "text": [
      "Copying mp4 files:  73%|███████▎  | 424/584 [00:42<00:16,  9.56file/s]"
     ]
    },
    {
     "name": "stdout",
     "output_type": "stream",
     "text": [
      "Copied /pfs/mt-1oY5F7/luoyihao/project/DJL/dataset_raw/B站视频数据/最终视频  尾部无水印2/26-方法篇：现在买格力电器，岂不是割高领的“韭菜”！.mp4 to /pfs/mt-1oY5F7/luoyihao/project/DJL/dataset/dataset_from_bilibili/26-方法篇：现在买格力电器，岂不是割高领的“韭菜”！.mp4\n",
      "Copied /pfs/mt-1oY5F7/luoyihao/project/DJL/dataset_raw/B站视频数据/最终视频  尾部无水印2/33-＜大学＞背诵.mp4 to /pfs/mt-1oY5F7/luoyihao/project/DJL/dataset/dataset_from_bilibili/33-＜大学＞背诵.mp4\n",
      "Copied /pfs/mt-1oY5F7/luoyihao/project/DJL/dataset_raw/B站视频数据/最终视频  尾部无水印2/116-你今天受的苦，吃的亏，担的责，扛的罪，忍的痛，到最后都会变成光照亮你的路。.mp4 to /pfs/mt-1oY5F7/luoyihao/project/DJL/dataset/dataset_from_bilibili/116-你今天受的苦，吃的亏，担的责，扛的罪，忍的痛，到最后都会变成光照亮你的路。.mp4\n",
      "Copied /pfs/mt-1oY5F7/luoyihao/project/DJL/dataset_raw/B站视频数据/最终视频  尾部无水印2/98-教育部：对“课上不讲课下讲”零容忍！.mp4 to /pfs/mt-1oY5F7/luoyihao/project/DJL/dataset/dataset_from_bilibili/98-教育部：对“课上不讲课下讲”零容忍！.mp4\n"
     ]
    },
    {
     "name": "stderr",
     "output_type": "stream",
     "text": [
      "Copying mp4 files:  74%|███████▎  | 430/584 [00:43<00:14, 10.37file/s]"
     ]
    },
    {
     "name": "stdout",
     "output_type": "stream",
     "text": [
      "Copied /pfs/mt-1oY5F7/luoyihao/project/DJL/dataset_raw/B站视频数据/最终视频  尾部无水印2/35-林毅夫最新演讲：设立北京证券交易所是具有战略意义的决策.mp4 to /pfs/mt-1oY5F7/luoyihao/project/DJL/dataset/dataset_from_bilibili/35-林毅夫最新演讲：设立北京证券交易所是具有战略意义的决策.mp4\n",
      "Copied /pfs/mt-1oY5F7/luoyihao/project/DJL/dataset_raw/B站视频数据/最终视频  尾部无水印2/75-从双一流考研调剂到双非的感受.mp4 to /pfs/mt-1oY5F7/luoyihao/project/DJL/dataset/dataset_from_bilibili/75-从双一流考研调剂到双非的感受.mp4\n",
      "Copied /pfs/mt-1oY5F7/luoyihao/project/DJL/dataset_raw/B站视频数据/最终视频  尾部无水印2/9-《生活帮帮忙》——听中传播音系姐姐分享生活小妙招！.mp4 to /pfs/mt-1oY5F7/luoyihao/project/DJL/dataset/dataset_from_bilibili/9-《生活帮帮忙》——听中传播音系姐姐分享生活小妙招！.mp4\n",
      "Copied /pfs/mt-1oY5F7/luoyihao/project/DJL/dataset_raw/B站视频数据/最终视频  尾部无水印2/23-【排面】我们在新闻联播演播室打广告！.mp4 to /pfs/mt-1oY5F7/luoyihao/project/DJL/dataset/dataset_from_bilibili/23-【排面】我们在新闻联播演播室打广告！.mp4\n",
      "Copied /pfs/mt-1oY5F7/luoyihao/project/DJL/dataset_raw/B站视频数据/最终视频  尾部无水印2/113-“说句掏心窝子的话，如果不是家里条件还行，你可能什么也不是” “如果哪天被北漂们淘汰了，我也会骂一万遍，但我认，这就是优胜劣汰” - 2of2.mp4 to /pfs/mt-1oY5F7/luoyihao/project/DJL/dataset/dataset_from_bilibili/113-“说句掏心窝子的话，如果不是家里条件还行，你可能什么也不是” “如果哪天被北漂们淘汰了，我也会骂一万遍，但我认，这就是优胜劣汰” - 2of2.mp4\n"
     ]
    },
    {
     "name": "stderr",
     "output_type": "stream",
     "text": [
      "Copying mp4 files:  74%|███████▍  | 432/584 [00:43<00:16,  9.03file/s]"
     ]
    },
    {
     "name": "stdout",
     "output_type": "stream",
     "text": [
      "Copied /pfs/mt-1oY5F7/luoyihao/project/DJL/dataset_raw/B站视频数据/最终视频  尾部无水印2/9-艾跃进谈8小时工作制：资本家为什么要保持大量失业人口.mp4 to /pfs/mt-1oY5F7/luoyihao/project/DJL/dataset/dataset_from_bilibili/9-艾跃进谈8小时工作制：资本家为什么要保持大量失业人口.mp4\n",
      "Copied /pfs/mt-1oY5F7/luoyihao/project/DJL/dataset_raw/B站视频数据/最终视频  尾部无水印2/39-漂亮国找我做间谍，我可以故意骗他间谍费上缴国家吗？.mp4 to /pfs/mt-1oY5F7/luoyihao/project/DJL/dataset/dataset_from_bilibili/39-漂亮国找我做间谍，我可以故意骗他间谍费上缴国家吗？.mp4\n",
      "Copied /pfs/mt-1oY5F7/luoyihao/project/DJL/dataset_raw/B站视频数据/最终视频  尾部无水印2/29-【主播说联播】推进共同富裕不搞杀富济贫，但以富带贫必须有 (2).mp4 to /pfs/mt-1oY5F7/luoyihao/project/DJL/dataset/dataset_from_bilibili/29-【主播说联播】推进共同富裕不搞杀富济贫，但以富带贫必须有 (2).mp4\n",
      "Copied /pfs/mt-1oY5F7/luoyihao/project/DJL/dataset_raw/B站视频数据/最终视频  尾部无水印2/76-在监狱里不花钱，能吃饱肚子吗？.mp4 to /pfs/mt-1oY5F7/luoyihao/project/DJL/dataset/dataset_from_bilibili/76-在监狱里不花钱，能吃饱肚子吗？.mp4\n"
     ]
    },
    {
     "name": "stderr",
     "output_type": "stream",
     "text": [
      "Copying mp4 files:  75%|███████▌  | 438/584 [00:44<00:17,  8.50file/s]"
     ]
    },
    {
     "name": "stdout",
     "output_type": "stream",
     "text": [
      "Copied /pfs/mt-1oY5F7/luoyihao/project/DJL/dataset_raw/B站视频数据/最终视频  尾部无水印2/120-浅谈教师行业的优缺点(收入？初中还是高中？培训机构还是公立学校？).mp4 to /pfs/mt-1oY5F7/luoyihao/project/DJL/dataset/dataset_from_bilibili/120-浅谈教师行业的优缺点(收入？初中还是高中？培训机构还是公立学校？).mp4\n",
      "Copied /pfs/mt-1oY5F7/luoyihao/project/DJL/dataset_raw/B站视频数据/最终视频  尾部无水印2/14-【1080p 60帧】《大独裁者》经典演讲片段.mp4 to /pfs/mt-1oY5F7/luoyihao/project/DJL/dataset/dataset_from_bilibili/14-【1080p 60帧】《大独裁者》经典演讲片段.mp4\n",
      "Copied /pfs/mt-1oY5F7/luoyihao/project/DJL/dataset_raw/B站视频数据/最终视频  尾部无水印2/5-“现在才明白，走上社会后的努力，都是在给上学时代填坑，现在过的苦逼与否，取决于读书时挖了多大的坑”.mp4 to /pfs/mt-1oY5F7/luoyihao/project/DJL/dataset/dataset_from_bilibili/5-“现在才明白，走上社会后的努力，都是在给上学时代填坑，现在过的苦逼与否，取决于读书时挖了多大的坑”.mp4\n",
      "Copied /pfs/mt-1oY5F7/luoyihao/project/DJL/dataset_raw/B站视频数据/最终视频  尾部无水印2/16-【极客大叔】改造.常熟国际人才港.mp4 to /pfs/mt-1oY5F7/luoyihao/project/DJL/dataset/dataset_from_bilibili/16-【极客大叔】改造.常熟国际人才港.mp4\n"
     ]
    },
    {
     "name": "stderr",
     "output_type": "stream",
     "text": [
      "Copying mp4 files:  75%|███████▌  | 440/584 [00:44<00:15,  9.32file/s]"
     ]
    },
    {
     "name": "stdout",
     "output_type": "stream",
     "text": [
      "Copied /pfs/mt-1oY5F7/luoyihao/project/DJL/dataset_raw/B站视频数据/最终视频  尾部无水印2/33-军队文职，月薪8500，13薪，工作稳定，值得报考吗.mp4 to /pfs/mt-1oY5F7/luoyihao/project/DJL/dataset/dataset_from_bilibili/33-军队文职，月薪8500，13薪，工作稳定，值得报考吗.mp4\n",
      "Copied /pfs/mt-1oY5F7/luoyihao/project/DJL/dataset_raw/B站视频数据/最终视频  尾部无水印2/114-那些考上了传媒大学的播音生都去哪了？.mp4 to /pfs/mt-1oY5F7/luoyihao/project/DJL/dataset/dataset_from_bilibili/114-那些考上了传媒大学的播音生都去哪了？.mp4\n",
      "Copied /pfs/mt-1oY5F7/luoyihao/project/DJL/dataset_raw/B站视频数据/最终视频  尾部无水印2/69-我注销国籍，带领一群兄弟打下非洲某小国，违法吗.mp4 to /pfs/mt-1oY5F7/luoyihao/project/DJL/dataset/dataset_from_bilibili/69-我注销国籍，带领一群兄弟打下非洲某小国，违法吗.mp4\n",
      "Copied /pfs/mt-1oY5F7/luoyihao/project/DJL/dataset_raw/B站视频数据/最终视频  尾部无水印2/34-看懂了这个，你再去炒股；股市暴跌，为啥散户炒股票总赔钱？李永乐老师用数学告诉你！.mp4 to /pfs/mt-1oY5F7/luoyihao/project/DJL/dataset/dataset_from_bilibili/34-看懂了这个，你再去炒股；股市暴跌，为啥散户炒股票总赔钱？李永乐老师用数学告诉你！.mp4\n"
     ]
    },
    {
     "name": "stderr",
     "output_type": "stream",
     "text": [
      "Copying mp4 files:  76%|███████▌  | 445/584 [00:44<00:11, 11.90file/s]"
     ]
    },
    {
     "name": "stdout",
     "output_type": "stream",
     "text": [
      "Copied /pfs/mt-1oY5F7/luoyihao/project/DJL/dataset_raw/B站视频数据/最终视频  尾部无水印2/104-朗读｜《热爱生命》食指.mp4 to /pfs/mt-1oY5F7/luoyihao/project/DJL/dataset/dataset_from_bilibili/104-朗读｜《热爱生命》食指.mp4\n",
      "Copied /pfs/mt-1oY5F7/luoyihao/project/DJL/dataset_raw/B站视频数据/最终视频  尾部无水印2/67-我也不想摆烂，可是我真的没有动力前进.mp4 to /pfs/mt-1oY5F7/luoyihao/project/DJL/dataset/dataset_from_bilibili/67-我也不想摆烂，可是我真的没有动力前进.mp4\n",
      "Copied /pfs/mt-1oY5F7/luoyihao/project/DJL/dataset_raw/B站视频数据/最终视频  尾部无水印2/3-【证券经纪人前景】谈谈本人的看法，在证券公司上班怎么样？.mp4 to /pfs/mt-1oY5F7/luoyihao/project/DJL/dataset/dataset_from_bilibili/3-【证券经纪人前景】谈谈本人的看法，在证券公司上班怎么样？.mp4\n"
     ]
    },
    {
     "name": "stderr",
     "output_type": "stream",
     "text": [
      "Copying mp4 files:  77%|███████▋  | 449/584 [00:45<00:12, 10.80file/s]"
     ]
    },
    {
     "name": "stdout",
     "output_type": "stream",
     "text": [
      "Copied /pfs/mt-1oY5F7/luoyihao/project/DJL/dataset_raw/B站视频数据/最终视频  尾部无水印2/93-昨天退税9860，粉丝说我几十万粉丝，这收入太少了，其实我已经很满足了！因为我曾经有一段惨痛的往事——我在广州当社畜的日子.mp4 to /pfs/mt-1oY5F7/luoyihao/project/DJL/dataset/dataset_from_bilibili/93-昨天退税9860，粉丝说我几十万粉丝，这收入太少了，其实我已经很满足了！因为我曾经有一段惨痛的往事——我在广州当社畜的日子.mp4\n",
      "Copied /pfs/mt-1oY5F7/luoyihao/project/DJL/dataset_raw/B站视频数据/最终视频  尾部无水印2/90-好消息❗️再也不会被催婚了.mp4 to /pfs/mt-1oY5F7/luoyihao/project/DJL/dataset/dataset_from_bilibili/90-好消息❗️再也不会被催婚了.mp4\n",
      "Copied /pfs/mt-1oY5F7/luoyihao/project/DJL/dataset_raw/B站视频数据/最终视频  尾部无水印2/2-“说句掏心窝子的话，如果不是家里条件还行，你可能什么也不是” “如果哪天被北漂们淘汰了，我也会骂一万遍，但我认，这就是优胜劣汰”.mp4 to /pfs/mt-1oY5F7/luoyihao/project/DJL/dataset/dataset_from_bilibili/2-“说句掏心窝子的话，如果不是家里条件还行，你可能什么也不是” “如果哪天被北漂们淘汰了，我也会骂一万遍，但我认，这就是优胜劣汰”.mp4\n",
      "Copied /pfs/mt-1oY5F7/luoyihao/project/DJL/dataset_raw/B站视频数据/最终视频  尾部无水印2/70-袭军和袭警，哪个更可刑？.mp4 to /pfs/mt-1oY5F7/luoyihao/project/DJL/dataset/dataset_from_bilibili/70-袭军和袭警，哪个更可刑？.mp4\n"
     ]
    },
    {
     "name": "stderr",
     "output_type": "stream",
     "text": [
      "Copying mp4 files:  77%|███████▋  | 451/584 [00:45<00:13, 10.01file/s]"
     ]
    },
    {
     "name": "stdout",
     "output_type": "stream",
     "text": [
      "Copied /pfs/mt-1oY5F7/luoyihao/project/DJL/dataset_raw/B站视频数据/最终视频  尾部无水印2/41-券商研究所，猛料真不少！.mp4 to /pfs/mt-1oY5F7/luoyihao/project/DJL/dataset/dataset_from_bilibili/41-券商研究所，猛料真不少！.mp4\n",
      "Copied /pfs/mt-1oY5F7/luoyihao/project/DJL/dataset_raw/B站视频数据/最终视频  尾部无水印2/44-省考岗位解析第3集，市场监督管理局怎么样？.mp4 to /pfs/mt-1oY5F7/luoyihao/project/DJL/dataset/dataset_from_bilibili/44-省考岗位解析第3集，市场监督管理局怎么样？.mp4\n"
     ]
    },
    {
     "name": "stderr",
     "output_type": "stream",
     "text": [
      "Copying mp4 files:  78%|███████▊  | 453/584 [00:45<00:13,  9.99file/s]"
     ]
    },
    {
     "name": "stdout",
     "output_type": "stream",
     "text": [
      "Copied /pfs/mt-1oY5F7/luoyihao/project/DJL/dataset_raw/B站视频数据/最终视频  尾部无水印2/62-微波站在高山上守电台，月薪5300，年终奖5.8万，上7天休7天.mp4 to /pfs/mt-1oY5F7/luoyihao/project/DJL/dataset/dataset_from_bilibili/62-微波站在高山上守电台，月薪5300，年终奖5.8万，上7天休7天.mp4\n",
      "Copied /pfs/mt-1oY5F7/luoyihao/project/DJL/dataset_raw/B站视频数据/最终视频  尾部无水印2/42-2022外研社·国才杯英语演讲比赛一等奖 初赛视频记录.mp4 to /pfs/mt-1oY5F7/luoyihao/project/DJL/dataset/dataset_from_bilibili/42-2022外研社·国才杯英语演讲比赛一等奖 初赛视频记录.mp4\n",
      "Copied /pfs/mt-1oY5F7/luoyihao/project/DJL/dataset_raw/B站视频数据/最终视频  尾部无水印2/60-背课文.mp4 to /pfs/mt-1oY5F7/luoyihao/project/DJL/dataset/dataset_from_bilibili/60-背课文.mp4\n"
     ]
    },
    {
     "name": "stderr",
     "output_type": "stream",
     "text": [
      "Copying mp4 files:  78%|███████▊  | 456/584 [00:45<00:10, 12.07file/s]"
     ]
    },
    {
     "name": "stdout",
     "output_type": "stream",
     "text": [
      "Copied /pfs/mt-1oY5F7/luoyihao/project/DJL/dataset_raw/B站视频数据/最终视频  尾部无水印2/58-背课文.mp4 to /pfs/mt-1oY5F7/luoyihao/project/DJL/dataset/dataset_from_bilibili/58-背课文.mp4\n",
      "Copied /pfs/mt-1oY5F7/luoyihao/project/DJL/dataset_raw/B站视频数据/最终视频  尾部无水印2/43-2023，教师脱贫大法，狠狠搞钱！.mp4 to /pfs/mt-1oY5F7/luoyihao/project/DJL/dataset/dataset_from_bilibili/43-2023，教师脱贫大法，狠狠搞钱！.mp4\n",
      "Copied /pfs/mt-1oY5F7/luoyihao/project/DJL/dataset_raw/B站视频数据/最终视频  尾部无水印2/27-方法篇：猪肉股可以买了吗？.mp4 to /pfs/mt-1oY5F7/luoyihao/project/DJL/dataset/dataset_from_bilibili/27-方法篇：猪肉股可以买了吗？.mp4\n",
      "Copied /pfs/mt-1oY5F7/luoyihao/project/DJL/dataset_raw/B站视频数据/最终视频  尾部无水印2/7-Chat GPT驯服指南，把它当作朋友交流你会收获更多。人工智能取代劳动价值和取代我们的所有价值，是两码事。.mp4 to /pfs/mt-1oY5F7/luoyihao/project/DJL/dataset/dataset_from_bilibili/7-Chat GPT驯服指南，把它当作朋友交流你会收获更多。人工智能取代劳动价值和取代我们的所有价值，是两码事。.mp4\n"
     ]
    },
    {
     "name": "stderr",
     "output_type": "stream",
     "text": [
      "Copying mp4 files:  79%|███████▉  | 461/584 [00:46<00:09, 13.42file/s]"
     ]
    },
    {
     "name": "stdout",
     "output_type": "stream",
     "text": [
      "Copied /pfs/mt-1oY5F7/luoyihao/project/DJL/dataset_raw/B站视频数据/最终视频  尾部无水印2/28-【主播说联播】推进共同富裕不搞杀富济贫，但以富带贫必须有.mp4 to /pfs/mt-1oY5F7/luoyihao/project/DJL/dataset/dataset_from_bilibili/28-【主播说联播】推进共同富裕不搞杀富济贫，但以富带贫必须有.mp4\n",
      "Copied /pfs/mt-1oY5F7/luoyihao/project/DJL/dataset_raw/B站视频数据/最终视频  尾部无水印2/117-年终总结.mp4 to /pfs/mt-1oY5F7/luoyihao/project/DJL/dataset/dataset_from_bilibili/117-年终总结.mp4\n",
      "Copied /pfs/mt-1oY5F7/luoyihao/project/DJL/dataset_raw/B站视频数据/最终视频  尾部无水印2/34-（英语）21世纪杯大学组一等奖选手王炀琨演讲：the power of ideal.mp4 to /pfs/mt-1oY5F7/luoyihao/project/DJL/dataset/dataset_from_bilibili/34-（英语）21世纪杯大学组一等奖选手王炀琨演讲：the power of ideal.mp4\n"
     ]
    },
    {
     "name": "stderr",
     "output_type": "stream",
     "text": [
      "Copying mp4 files:  79%|███████▉  | 463/584 [00:46<00:12,  9.69file/s]"
     ]
    },
    {
     "name": "stdout",
     "output_type": "stream",
     "text": [
      "Copied /pfs/mt-1oY5F7/luoyihao/project/DJL/dataset_raw/B站视频数据/最终视频  尾部无水印2/22-【罗翔】我们为什么要读书？.mp4 to /pfs/mt-1oY5F7/luoyihao/project/DJL/dataset/dataset_from_bilibili/22-【罗翔】我们为什么要读书？.mp4\n",
      "Copied /pfs/mt-1oY5F7/luoyihao/project/DJL/dataset_raw/B站视频数据/最终视频  尾部无水印2/111-买了个煎饼果子，惹了一肚子气。.mp4 to /pfs/mt-1oY5F7/luoyihao/project/DJL/dataset/dataset_from_bilibili/111-买了个煎饼果子，惹了一肚子气。.mp4\n"
     ]
    },
    {
     "name": "stderr",
     "output_type": "stream",
     "text": [
      "Copying mp4 files:  80%|███████▉  | 465/584 [00:46<00:13,  8.85file/s]"
     ]
    },
    {
     "name": "stdout",
     "output_type": "stream",
     "text": [
      "Copied /pfs/mt-1oY5F7/luoyihao/project/DJL/dataset_raw/B站视频数据/最终视频  尾部无水印2/4-9月20日，证券、半导体、基建工程.mp4 to /pfs/mt-1oY5F7/luoyihao/project/DJL/dataset/dataset_from_bilibili/4-9月20日，证券、半导体、基建工程.mp4\n",
      "Copied /pfs/mt-1oY5F7/luoyihao/project/DJL/dataset_raw/B站视频数据/最终视频  尾部无水印2/118-千万不要混成单位里必不可少的那个人.mp4 to /pfs/mt-1oY5F7/luoyihao/project/DJL/dataset/dataset_from_bilibili/118-千万不要混成单位里必不可少的那个人.mp4\n",
      "Copied /pfs/mt-1oY5F7/luoyihao/project/DJL/dataset_raw/B站视频数据/最终视频  尾部无水印2/10-半年多亏损二十多万，今天退出这个市场了.mp4 to /pfs/mt-1oY5F7/luoyihao/project/DJL/dataset/dataset_from_bilibili/10-半年多亏损二十多万，今天退出这个市场了.mp4\n"
     ]
    },
    {
     "name": "stderr",
     "output_type": "stream",
     "text": [
      "Copying mp4 files:  80%|████████  | 469/584 [00:47<00:14,  7.85file/s]"
     ]
    },
    {
     "name": "stdout",
     "output_type": "stream",
     "text": [
      "Copied /pfs/mt-1oY5F7/luoyihao/project/DJL/dataset_raw/B站视频数据/最终视频  尾部无水印2/73-程序培训班防忽悠,韭菜逆袭攻略.mp4 to /pfs/mt-1oY5F7/luoyihao/project/DJL/dataset/dataset_from_bilibili/73-程序培训班防忽悠,韭菜逆袭攻略.mp4\n",
      "Copied /pfs/mt-1oY5F7/luoyihao/project/DJL/dataset_raw/B站视频数据/最终视频  尾部无水印2/53-省考岗位解析第13集，工信局怎么样？.mp4 to /pfs/mt-1oY5F7/luoyihao/project/DJL/dataset/dataset_from_bilibili/53-省考岗位解析第13集，工信局怎么样？.mp4\n",
      "Copied /pfs/mt-1oY5F7/luoyihao/project/DJL/dataset_raw/B站视频数据/最终视频  尾部无水印2/27-【主播说联播】出 征 东 京 ！.mp4 to /pfs/mt-1oY5F7/luoyihao/project/DJL/dataset/dataset_from_bilibili/27-【主播说联播】出 征 东 京 ！.mp4\n",
      "Copied /pfs/mt-1oY5F7/luoyihao/project/DJL/dataset_raw/B站视频数据/最终视频  尾部无水印2/62-背诵金色的草地.mp4 to /pfs/mt-1oY5F7/luoyihao/project/DJL/dataset/dataset_from_bilibili/62-背诵金色的草地.mp4\n"
     ]
    },
    {
     "name": "stderr",
     "output_type": "stream",
     "text": [
      "Copying mp4 files:  81%|████████  | 473/584 [00:47<00:10, 10.18file/s]"
     ]
    },
    {
     "name": "stdout",
     "output_type": "stream",
     "text": [
      "Copied /pfs/mt-1oY5F7/luoyihao/project/DJL/dataset_raw/B站视频数据/最终视频  尾部无水印2/81-分享越南姑娘在中国二线城市的一天消费多少！.mp4 to /pfs/mt-1oY5F7/luoyihao/project/DJL/dataset/dataset_from_bilibili/81-分享越南姑娘在中国二线城市的一天消费多少！.mp4\n",
      "Copied /pfs/mt-1oY5F7/luoyihao/project/DJL/dataset_raw/B站视频数据/最终视频  尾部无水印2/77-在清闲的供销社当加班狗是什么体验？作为20年来招的唯一年轻人.mp4 to /pfs/mt-1oY5F7/luoyihao/project/DJL/dataset/dataset_from_bilibili/77-在清闲的供销社当加班狗是什么体验？作为20年来招的唯一年轻人.mp4\n",
      "Copied /pfs/mt-1oY5F7/luoyihao/project/DJL/dataset_raw/B站视频数据/最终视频  尾部无水印2/6-2021年，买G票还是买基金？.mp4 to /pfs/mt-1oY5F7/luoyihao/project/DJL/dataset/dataset_from_bilibili/6-2021年，买G票还是买基金？.mp4\n"
     ]
    },
    {
     "name": "stderr",
     "output_type": "stream",
     "text": [
      "Copying mp4 files:  81%|████████▏ | 475/584 [00:47<00:09, 11.12file/s]"
     ]
    },
    {
     "name": "stdout",
     "output_type": "stream",
     "text": [
      "Copied /pfs/mt-1oY5F7/luoyihao/project/DJL/dataset_raw/B站视频数据/最终视频  尾部无水印2/82-这个编制工作轻松，月薪6500，年终奖2万，上4休4，你愿意去吗.mp4 to /pfs/mt-1oY5F7/luoyihao/project/DJL/dataset/dataset_from_bilibili/82-这个编制工作轻松，月薪6500，年终奖2万，上4休4，你愿意去吗.mp4\n",
      "Copied /pfs/mt-1oY5F7/luoyihao/project/DJL/dataset_raw/B站视频数据/最终视频  尾部无水印2/38-面试被问“谈谈你对这个行业的了解”.mp4 to /pfs/mt-1oY5F7/luoyihao/project/DJL/dataset/dataset_from_bilibili/38-面试被问“谈谈你对这个行业的了解”.mp4\n",
      "Copied /pfs/mt-1oY5F7/luoyihao/project/DJL/dataset_raw/B站视频数据/最终视频  尾部无水印2/64-比特币币价翻倍了，以太坊突破2100美元，L2表现突出，Solana密集释放利好消息。.mp4 to /pfs/mt-1oY5F7/luoyihao/project/DJL/dataset/dataset_from_bilibili/64-比特币币价翻倍了，以太坊突破2100美元，L2表现突出，Solana密集释放利好消息。.mp4\n"
     ]
    },
    {
     "name": "stderr",
     "output_type": "stream",
     "text": [
      "Copying mp4 files:  82%|████████▏ | 479/584 [00:48<00:09, 11.57file/s]"
     ]
    },
    {
     "name": "stdout",
     "output_type": "stream",
     "text": [
      "Copied /pfs/mt-1oY5F7/luoyihao/project/DJL/dataset_raw/B站视频数据/最终视频  尾部无水印2/16-殡仪馆事业编你敢去吗？月收入5500，年终奖4.8万.mp4 to /pfs/mt-1oY5F7/luoyihao/project/DJL/dataset/dataset_from_bilibili/16-殡仪馆事业编你敢去吗？月收入5500，年终奖4.8万.mp4\n",
      "Copied /pfs/mt-1oY5F7/luoyihao/project/DJL/dataset_raw/B站视频数据/最终视频  尾部无水印2/106-老谭上门做培训，2小时收费200元，结果啥也没教好尴尬.mp4 to /pfs/mt-1oY5F7/luoyihao/project/DJL/dataset/dataset_from_bilibili/106-老谭上门做培训，2小时收费200元，结果啥也没教好尴尬.mp4\n",
      "Copied /pfs/mt-1oY5F7/luoyihao/project/DJL/dataset_raw/B站视频数据/最终视频  尾部无水印2/21-【李永乐老师】今天就讲讲课吹吹鬼畜.mp4 to /pfs/mt-1oY5F7/luoyihao/project/DJL/dataset/dataset_from_bilibili/21-【李永乐老师】今天就讲讲课吹吹鬼畜.mp4\n"
     ]
    },
    {
     "name": "stderr",
     "output_type": "stream",
     "text": [
      "Copying mp4 files:  82%|████████▏ | 481/584 [00:48<00:08, 11.49file/s]"
     ]
    },
    {
     "name": "stdout",
     "output_type": "stream",
     "text": [
      "Copied /pfs/mt-1oY5F7/luoyihao/project/DJL/dataset_raw/B站视频数据/最终视频  尾部无水印2/68-别花父母的钱满足你的追星虚荣心了.mp4 to /pfs/mt-1oY5F7/luoyihao/project/DJL/dataset/dataset_from_bilibili/68-别花父母的钱满足你的追星虚荣心了.mp4\n",
      "Copied /pfs/mt-1oY5F7/luoyihao/project/DJL/dataset_raw/B站视频数据/最终视频  尾部无水印2/14-北京证券交易所，影响有多大？新的一轮行情正在酝酿！.mp4 to /pfs/mt-1oY5F7/luoyihao/project/DJL/dataset/dataset_from_bilibili/14-北京证券交易所，影响有多大？新的一轮行情正在酝酿！.mp4\n"
     ]
    },
    {
     "name": "stderr",
     "output_type": "stream",
     "text": [
      "Copying mp4 files:  83%|████████▎ | 483/584 [00:48<00:08, 11.56file/s]"
     ]
    },
    {
     "name": "stdout",
     "output_type": "stream",
     "text": [
      "Copied /pfs/mt-1oY5F7/luoyihao/project/DJL/dataset_raw/B站视频数据/最终视频  尾部无水印2/50-省考岗位解析第9集，审计局怎么样？.mp4 to /pfs/mt-1oY5F7/luoyihao/project/DJL/dataset/dataset_from_bilibili/50-省考岗位解析第9集，审计局怎么样？.mp4\n",
      "Copied /pfs/mt-1oY5F7/luoyihao/project/DJL/dataset_raw/B站视频数据/最终视频  尾部无水印2/91-住建质监站，月薪4950，公积金1600，年终5000，高危岗位.mp4 to /pfs/mt-1oY5F7/luoyihao/project/DJL/dataset/dataset_from_bilibili/91-住建质监站，月薪4950，公积金1600，年终5000，高危岗位.mp4\n",
      "Copied /pfs/mt-1oY5F7/luoyihao/project/DJL/dataset_raw/B站视频数据/最终视频  尾部无水印2/84-这是个冤案，我去叫停死刑结果跑慢了，违法吗.mp4 to /pfs/mt-1oY5F7/luoyihao/project/DJL/dataset/dataset_from_bilibili/84-这是个冤案，我去叫停死刑结果跑慢了，违法吗.mp4\n"
     ]
    },
    {
     "name": "stderr",
     "output_type": "stream",
     "text": [
      "Copying mp4 files:  83%|████████▎ | 487/584 [00:48<00:07, 12.68file/s]"
     ]
    },
    {
     "name": "stdout",
     "output_type": "stream",
     "text": [
      "Copied /pfs/mt-1oY5F7/luoyihao/project/DJL/dataset_raw/B站视频数据/最终视频  尾部无水印2/53-省考岗位解析第12集，文旅局怎么样？.mp4 to /pfs/mt-1oY5F7/luoyihao/project/DJL/dataset/dataset_from_bilibili/53-省考岗位解析第12集，文旅局怎么样？.mp4\n",
      "Copied /pfs/mt-1oY5F7/luoyihao/project/DJL/dataset_raw/B站视频数据/最终视频  尾部无水印2/37-美国人开车不在乎油钱？.mp4 to /pfs/mt-1oY5F7/luoyihao/project/DJL/dataset/dataset_from_bilibili/37-美国人开车不在乎油钱？.mp4\n",
      "Copied /pfs/mt-1oY5F7/luoyihao/project/DJL/dataset_raw/B站视频数据/最终视频  尾部无水印2/12-报社虽然年收入10万，但工作辛苦加班多环境差，只想提桶跑路.mp4 to /pfs/mt-1oY5F7/luoyihao/project/DJL/dataset/dataset_from_bilibili/12-报社虽然年收入10万，但工作辛苦加班多环境差，只想提桶跑路.mp4\n",
      "Copied /pfs/mt-1oY5F7/luoyihao/project/DJL/dataset_raw/B站视频数据/最终视频  尾部无水印2/73-新疆乡镇，月薪6500，年底绩效9000，公积金1600.mp4 to /pfs/mt-1oY5F7/luoyihao/project/DJL/dataset/dataset_from_bilibili/73-新疆乡镇，月薪6500，年底绩效9000，公积金1600.mp4\n",
      "Copied /pfs/mt-1oY5F7/luoyihao/project/DJL/dataset_raw/B站视频数据/最终视频  尾部无水印2/20-【教师编】面试时一开口就是资深老教师的评价语和过渡语，你学废了吗？.mp4 to /pfs/mt-1oY5F7/luoyihao/project/DJL/dataset/dataset_from_bilibili/20-【教师编】面试时一开口就是资深老教师的评价语和过渡语，你学废了吗？.mp4\n"
     ]
    },
    {
     "name": "stderr",
     "output_type": "stream",
     "text": [
      "Copying mp4 files:  84%|████████▍ | 490/584 [00:48<00:06, 14.18file/s]"
     ]
    },
    {
     "name": "stdout",
     "output_type": "stream",
     "text": [
      "Copied /pfs/mt-1oY5F7/luoyihao/project/DJL/dataset_raw/B站视频数据/最终视频  尾部无水印2/21-大众CEO下台，还是大众“下台”.mp4 to /pfs/mt-1oY5F7/luoyihao/project/DJL/dataset/dataset_from_bilibili/21-大众CEO下台，还是大众“下台”.mp4\n"
     ]
    },
    {
     "name": "stderr",
     "output_type": "stream",
     "text": [
      "Copying mp4 files:  84%|████████▍ | 492/584 [00:49<00:08, 10.85file/s]"
     ]
    },
    {
     "name": "stdout",
     "output_type": "stream",
     "text": [
      "Copied /pfs/mt-1oY5F7/luoyihao/project/DJL/dataset_raw/B站视频数据/最终视频  尾部无水印2/119-浅聊关于培训班的事.mp4 to /pfs/mt-1oY5F7/luoyihao/project/DJL/dataset/dataset_from_bilibili/119-浅聊关于培训班的事.mp4\n",
      "Copied /pfs/mt-1oY5F7/luoyihao/project/DJL/dataset_raw/B站视频数据/最终视频  尾部无水印2/23-电灌站，月薪5600，年终奖3.2万，六险二金，你觉得值得去吗.mp4 to /pfs/mt-1oY5F7/luoyihao/project/DJL/dataset/dataset_from_bilibili/23-电灌站，月薪5600，年终奖3.2万，六险二金，你觉得值得去吗.mp4\n"
     ]
    },
    {
     "name": "stderr",
     "output_type": "stream",
     "text": [
      "Copying mp4 files:  85%|████████▍ | 496/584 [00:49<00:07, 12.30file/s]"
     ]
    },
    {
     "name": "stdout",
     "output_type": "stream",
     "text": [
      "Copied /pfs/mt-1oY5F7/luoyihao/project/DJL/dataset_raw/B站视频数据/最终视频  尾部无水印2/31-工厂招聘明确不要东北人，这是为什么呢.mp4 to /pfs/mt-1oY5F7/luoyihao/project/DJL/dataset/dataset_from_bilibili/31-工厂招聘明确不要东北人，这是为什么呢.mp4\n",
      "Copied /pfs/mt-1oY5F7/luoyihao/project/DJL/dataset_raw/B站视频数据/最终视频  尾部无水印2/47-CUC节目主持基础与训练期末作业 旅游快车.mp4 to /pfs/mt-1oY5F7/luoyihao/project/DJL/dataset/dataset_from_bilibili/47-CUC节目主持基础与训练期末作业 旅游快车.mp4\n",
      "Copied /pfs/mt-1oY5F7/luoyihao/project/DJL/dataset_raw/B站视频数据/最终视频  尾部无水印2/13-《乡下人家》无配乐朗诵。欢迎提出宝贵意见。.mp4 to /pfs/mt-1oY5F7/luoyihao/project/DJL/dataset/dataset_from_bilibili/13-《乡下人家》无配乐朗诵。欢迎提出宝贵意见。.mp4\n",
      "Copied /pfs/mt-1oY5F7/luoyihao/project/DJL/dataset_raw/B站视频数据/最终视频  尾部无水印2/10-《生活帮帮忙》——听中传播音系姐姐分享生活小妙招！.mp4 to /pfs/mt-1oY5F7/luoyihao/project/DJL/dataset/dataset_from_bilibili/10-《生活帮帮忙》——听中传播音系姐姐分享生活小妙招！.mp4\n"
     ]
    },
    {
     "name": "stderr",
     "output_type": "stream",
     "text": [
      "Copying mp4 files:  85%|████████▌ | 498/584 [00:49<00:08, 10.59file/s]"
     ]
    },
    {
     "name": "stdout",
     "output_type": "stream",
     "text": [
      "Copied /pfs/mt-1oY5F7/luoyihao/project/DJL/dataset_raw/B站视频数据/最终视频  尾部无水印2/49-省考岗位解析第8集，县财政局怎么样？.mp4 to /pfs/mt-1oY5F7/luoyihao/project/DJL/dataset/dataset_from_bilibili/49-省考岗位解析第8集，县财政局怎么样？.mp4\n",
      "Copied /pfs/mt-1oY5F7/luoyihao/project/DJL/dataset_raw/B站视频数据/最终视频  尾部无水印2/75-又作妖！地方债的尽头是“摆烂”？.mp4 to /pfs/mt-1oY5F7/luoyihao/project/DJL/dataset/dataset_from_bilibili/75-又作妖！地方债的尽头是“摆烂”？.mp4\n",
      "Copied /pfs/mt-1oY5F7/luoyihao/project/DJL/dataset_raw/B站视频数据/最终视频  尾部无水印2/70-博士生如何经济独立？聊聊我的收入来源！全英 无字幕.mp4 to /pfs/mt-1oY5F7/luoyihao/project/DJL/dataset/dataset_from_bilibili/70-博士生如何经济独立？聊聊我的收入来源！全英 无字幕.mp4\n"
     ]
    },
    {
     "name": "stderr",
     "output_type": "stream",
     "text": [
      "Copying mp4 files:  86%|████████▌ | 500/584 [00:49<00:07, 11.21file/s]"
     ]
    },
    {
     "name": "stdout",
     "output_type": "stream",
     "text": [
      "Copied /pfs/mt-1oY5F7/luoyihao/project/DJL/dataset_raw/B站视频数据/最终视频  尾部无水印2/74-学海无涯：一个普通证券交易员的10年.mp4 to /pfs/mt-1oY5F7/luoyihao/project/DJL/dataset/dataset_from_bilibili/74-学海无涯：一个普通证券交易员的10年.mp4\n",
      "Copied /pfs/mt-1oY5F7/luoyihao/project/DJL/dataset_raw/B站视频数据/最终视频  尾部无水印2/48-省考岗位解析第7集，街道办怎么样？.mp4 to /pfs/mt-1oY5F7/luoyihao/project/DJL/dataset/dataset_from_bilibili/48-省考岗位解析第7集，街道办怎么样？.mp4\n"
     ]
    },
    {
     "name": "stderr",
     "output_type": "stream",
     "text": [
      "Copying mp4 files:  86%|████████▌ | 502/584 [00:50<00:09,  8.39file/s]"
     ]
    },
    {
     "name": "stdout",
     "output_type": "stream",
     "text": [
      "Copied /pfs/mt-1oY5F7/luoyihao/project/DJL/dataset_raw/B站视频数据/最终视频  尾部无水印2/92-很多程序员疑惑，大学本科四年计算机专业，还不如参加培训机构呢.mp4 to /pfs/mt-1oY5F7/luoyihao/project/DJL/dataset/dataset_from_bilibili/92-很多程序员疑惑，大学本科四年计算机专业，还不如参加培训机构呢.mp4\n",
      "Copied /pfs/mt-1oY5F7/luoyihao/project/DJL/dataset_raw/B站视频数据/最终视频  尾部无水印2/55-世界上真的有神仙吗？.mp4 to /pfs/mt-1oY5F7/luoyihao/project/DJL/dataset/dataset_from_bilibili/55-世界上真的有神仙吗？.mp4\n"
     ]
    },
    {
     "name": "stderr",
     "output_type": "stream",
     "text": [
      "Copying mp4 files:  86%|████████▋ | 504/584 [00:50<00:10,  7.92file/s]"
     ]
    },
    {
     "name": "stdout",
     "output_type": "stream",
     "text": [
      "Copied /pfs/mt-1oY5F7/luoyihao/project/DJL/dataset_raw/B站视频数据/最终视频  尾部无水印2/71-不脱掉长衫，你就很难挣到钱。分享我的搞钱思维，以及为什么那么爱自己！.mp4 to /pfs/mt-1oY5F7/luoyihao/project/DJL/dataset/dataset_from_bilibili/71-不脱掉长衫，你就很难挣到钱。分享我的搞钱思维，以及为什么那么爱自己！.mp4\n",
      "Copied /pfs/mt-1oY5F7/luoyihao/project/DJL/dataset_raw/B站视频数据/最终视频  尾部无水印2/99-结课作业康美欣｜光影故事.mp4 to /pfs/mt-1oY5F7/luoyihao/project/DJL/dataset/dataset_from_bilibili/99-结课作业康美欣｜光影故事.mp4\n"
     ]
    },
    {
     "name": "stderr",
     "output_type": "stream",
     "text": [
      "Copying mp4 files:  87%|████████▋ | 509/584 [00:51<00:07,  9.90file/s]"
     ]
    },
    {
     "name": "stdout",
     "output_type": "stream",
     "text": [
      "Copied /pfs/mt-1oY5F7/luoyihao/project/DJL/dataset_raw/B站视频数据/最终视频  尾部无水印2/11-帮你搜集了省考职位表中12种执法队的情况，进来避避坑吧.mp4 to /pfs/mt-1oY5F7/luoyihao/project/DJL/dataset/dataset_from_bilibili/11-帮你搜集了省考职位表中12种执法队的情况，进来避避坑吧.mp4\n",
      "Copied /pfs/mt-1oY5F7/luoyihao/project/DJL/dataset_raw/B站视频数据/最终视频  尾部无水印2/25-【主播说联播】《凉 凉》.mp4 to /pfs/mt-1oY5F7/luoyihao/project/DJL/dataset/dataset_from_bilibili/25-【主播说联播】《凉 凉》.mp4\n",
      "Copied /pfs/mt-1oY5F7/luoyihao/project/DJL/dataset_raw/B站视频数据/最终视频  尾部无水印2/24-【新闻联播】国际社会期待中国作用反对单边主义.mp4 to /pfs/mt-1oY5F7/luoyihao/project/DJL/dataset/dataset_from_bilibili/24-【新闻联播】国际社会期待中国作用反对单边主义.mp4\n",
      "Copied /pfs/mt-1oY5F7/luoyihao/project/DJL/dataset_raw/B站视频数据/最终视频  尾部无水印2/56-市场调查：跟世界上最厉害的人学用户访谈.mp4 to /pfs/mt-1oY5F7/luoyihao/project/DJL/dataset/dataset_from_bilibili/56-市场调查：跟世界上最厉害的人学用户访谈.mp4\n",
      "Copied /pfs/mt-1oY5F7/luoyihao/project/DJL/dataset_raw/B站视频数据/最终视频  尾部无水印2/43-省考岗位解析第2集，县政府办怎么样？.mp4 to /pfs/mt-1oY5F7/luoyihao/project/DJL/dataset/dataset_from_bilibili/43-省考岗位解析第2集，县政府办怎么样？.mp4\n"
     ]
    },
    {
     "name": "stderr",
     "output_type": "stream",
     "text": [
      "Copying mp4 files:  88%|████████▊ | 512/584 [00:51<00:11,  6.14file/s]"
     ]
    },
    {
     "name": "stdout",
     "output_type": "stream",
     "text": [
      "Copied /pfs/mt-1oY5F7/luoyihao/project/DJL/dataset_raw/B站视频数据/最终视频  尾部无水印2/59-泰国真有那么乱吗？我在泰国工作了两年，和你分享我真实的经历。不吹不黑，摆事实，成年人自己判断。.mp4 to /pfs/mt-1oY5F7/luoyihao/project/DJL/dataset/dataset_from_bilibili/59-泰国真有那么乱吗？我在泰国工作了两年，和你分享我真实的经历。不吹不黑，摆事实，成年人自己判断。.mp4\n",
      "Copied /pfs/mt-1oY5F7/luoyihao/project/DJL/dataset_raw/B站视频数据/最终视频  尾部无水印2/96-讲课有对象感，试讲就成功了一半.mp4 to /pfs/mt-1oY5F7/luoyihao/project/DJL/dataset/dataset_from_bilibili/96-讲课有对象感，试讲就成功了一半.mp4\n",
      "Copied /pfs/mt-1oY5F7/luoyihao/project/DJL/dataset_raw/B站视频数据/最终视频  尾部无水印2/57-市场调查3. 如何在网上扒竞争对手的数据然后了解整个市场？.mp4 to /pfs/mt-1oY5F7/luoyihao/project/DJL/dataset/dataset_from_bilibili/57-市场调查3. 如何在网上扒竞争对手的数据然后了解整个市场？.mp4\n"
     ]
    },
    {
     "name": "stderr",
     "output_type": "stream",
     "text": [
      "Copying mp4 files:  88%|████████▊ | 516/584 [00:52<00:09,  7.33file/s]"
     ]
    },
    {
     "name": "stdout",
     "output_type": "stream",
     "text": [
      "Copied /pfs/mt-1oY5F7/luoyihao/project/DJL/dataset_raw/B站视频数据/最终视频  尾部无水印2/46-CUC节目主持基础与训练期末作业 旅游快车.mp4 to /pfs/mt-1oY5F7/luoyihao/project/DJL/dataset/dataset_from_bilibili/46-CUC节目主持基础与训练期末作业 旅游快车.mp4\n",
      "Copied /pfs/mt-1oY5F7/luoyihao/project/DJL/dataset_raw/B站视频数据/最终视频  尾部无水印2/103-朗读｜《念一首诗给你听》方文山.mp4 to /pfs/mt-1oY5F7/luoyihao/project/DJL/dataset/dataset_from_bilibili/103-朗读｜《念一首诗给你听》方文山.mp4\n",
      "Copied /pfs/mt-1oY5F7/luoyihao/project/DJL/dataset_raw/B站视频数据/最终视频  尾部无水印2/89-还是干不过湖南的微辣啊.mp4 to /pfs/mt-1oY5F7/luoyihao/project/DJL/dataset/dataset_from_bilibili/89-还是干不过湖南的微辣啊.mp4\n"
     ]
    },
    {
     "name": "stderr",
     "output_type": "stream",
     "text": [
      "Copying mp4 files:  89%|████████▉ | 519/584 [00:52<00:06, 10.00file/s]"
     ]
    },
    {
     "name": "stdout",
     "output_type": "stream",
     "text": [
      "Copied /pfs/mt-1oY5F7/luoyihao/project/DJL/dataset_raw/B站视频数据/最终视频  尾部无水印2/45-CUC节目主持基础与训练期末作业 健康美食间.mp4 to /pfs/mt-1oY5F7/luoyihao/project/DJL/dataset/dataset_from_bilibili/45-CUC节目主持基础与训练期末作业 健康美食间.mp4\n",
      "Copied /pfs/mt-1oY5F7/luoyihao/project/DJL/dataset_raw/B站视频数据/最终视频  尾部无水印2/1-【官方回复】2023年证券从业考试安排，第一次考试预计何时举行？.mp4 to /pfs/mt-1oY5F7/luoyihao/project/DJL/dataset/dataset_from_bilibili/1-【官方回复】2023年证券从业考试安排，第一次考试预计何时举行？.mp4\n",
      "Copied /pfs/mt-1oY5F7/luoyihao/project/DJL/dataset_raw/B站视频数据/最终视频  尾部无水印2/1-“说句掏心窝子的话，如果不是家里条件还行，你可能什么也不是” “如果哪天被北漂们淘汰了，我也会骂一万遍，但我认，这就是优胜劣汰”.mp4 to /pfs/mt-1oY5F7/luoyihao/project/DJL/dataset/dataset_from_bilibili/1-“说句掏心窝子的话，如果不是家里条件还行，你可能什么也不是” “如果哪天被北漂们淘汰了，我也会骂一万遍，但我认，这就是优胜劣汰”.mp4\n",
      "Copied /pfs/mt-1oY5F7/luoyihao/project/DJL/dataset_raw/B站视频数据/最终视频  尾部无水印2/2-【证券经纪人前景】解码证券分析师（第五弹） 证券分析师未来有哪些职业上升路径？.mp4 to /pfs/mt-1oY5F7/luoyihao/project/DJL/dataset/dataset_from_bilibili/2-【证券经纪人前景】解码证券分析师（第五弹） 证券分析师未来有哪些职业上升路径？.mp4\n",
      "Copied /pfs/mt-1oY5F7/luoyihao/project/DJL/dataset_raw/B站视频数据/最终视频  尾部无水印2/41-985本科海归博士也在家当全职儿子？没想到找工作还挺难.mp4 to /pfs/mt-1oY5F7/luoyihao/project/DJL/dataset/dataset_from_bilibili/41-985本科海归博士也在家当全职儿子？没想到找工作还挺难.mp4\n"
     ]
    },
    {
     "name": "stderr",
     "output_type": "stream",
     "text": [
      "Copying mp4 files:  90%|████████▉ | 524/584 [00:52<00:05, 10.86file/s]"
     ]
    },
    {
     "name": "stdout",
     "output_type": "stream",
     "text": [
      "Copied /pfs/mt-1oY5F7/luoyihao/project/DJL/dataset_raw/B站视频数据/最终视频  尾部无水印2/107-李维真｜《家乡味道》.mp4 to /pfs/mt-1oY5F7/luoyihao/project/DJL/dataset/dataset_from_bilibili/107-李维真｜《家乡味道》.mp4\n",
      "Copied /pfs/mt-1oY5F7/luoyihao/project/DJL/dataset_raw/B站视频数据/最终视频  尾部无水印2/54-备课的顺序，很多人都弄反了！.mp4 to /pfs/mt-1oY5F7/luoyihao/project/DJL/dataset/dataset_from_bilibili/54-备课的顺序，很多人都弄反了！.mp4\n",
      "Copied /pfs/mt-1oY5F7/luoyihao/project/DJL/dataset_raw/B站视频数据/最终视频  尾部无水印2/60-铁路局，年收入15万，公积金3600，每月休息12天.mp4 to /pfs/mt-1oY5F7/luoyihao/project/DJL/dataset/dataset_from_bilibili/60-铁路局，年收入15万，公积金3600，每月休息12天.mp4\n"
     ]
    },
    {
     "name": "stderr",
     "output_type": "stream",
     "text": [
      "Copying mp4 files:  90%|█████████ | 527/584 [00:53<00:04, 12.69file/s]"
     ]
    },
    {
     "name": "stdout",
     "output_type": "stream",
     "text": [
      "Copied /pfs/mt-1oY5F7/luoyihao/project/DJL/dataset_raw/B站视频数据/最终视频  尾部无水印2/39-80%的教师已经很穷了，不试白不试.mp4 to /pfs/mt-1oY5F7/luoyihao/project/DJL/dataset/dataset_from_bilibili/39-80%的教师已经很穷了，不试白不试.mp4\n",
      "Copied /pfs/mt-1oY5F7/luoyihao/project/DJL/dataset_raw/B站视频数据/最终视频  尾部无水印2/61-背诵.mp4 to /pfs/mt-1oY5F7/luoyihao/project/DJL/dataset/dataset_from_bilibili/61-背诵.mp4\n",
      "Copied /pfs/mt-1oY5F7/luoyihao/project/DJL/dataset_raw/B站视频数据/最终视频  尾部无水印2/5-9月证券从业考试时间已定！9月24日开考.mp4 to /pfs/mt-1oY5F7/luoyihao/project/DJL/dataset/dataset_from_bilibili/5-9月证券从业考试时间已定！9月24日开考.mp4\n",
      "Copied /pfs/mt-1oY5F7/luoyihao/project/DJL/dataset_raw/B站视频数据/最终视频  尾部无水印2/101-康辉说：中国已经完全可以平视世界了.mp4 to /pfs/mt-1oY5F7/luoyihao/project/DJL/dataset/dataset_from_bilibili/101-康辉说：中国已经完全可以平视世界了.mp4\n"
     ]
    },
    {
     "name": "stderr",
     "output_type": "stream",
     "text": [
      "Copying mp4 files:  91%|█████████ | 529/584 [00:53<00:04, 12.51file/s]"
     ]
    },
    {
     "name": "stdout",
     "output_type": "stream",
     "text": [
      "Copied /pfs/mt-1oY5F7/luoyihao/project/DJL/dataset_raw/B站视频数据/最终视频  尾部无水印2/88-哈佛教授放言：ChatGPT三年终结程序员工作？程序员只能做两类工作？.mp4 to /pfs/mt-1oY5F7/luoyihao/project/DJL/dataset/dataset_from_bilibili/88-哈佛教授放言：ChatGPT三年终结程序员工作？程序员只能做两类工作？.mp4\n",
      "Copied /pfs/mt-1oY5F7/luoyihao/project/DJL/dataset_raw/B站视频数据/最终视频  尾部无水印2/71-县级司法局，考上后99%派到偏远乡镇司法所，建议谨慎报考.mp4 to /pfs/mt-1oY5F7/luoyihao/project/DJL/dataset/dataset_from_bilibili/71-县级司法局，考上后99%派到偏远乡镇司法所，建议谨慎报考.mp4\n"
     ]
    },
    {
     "name": "stderr",
     "output_type": "stream",
     "text": [
      "Copying mp4 files:  91%|█████████ | 531/584 [00:53<00:05, 10.54file/s]"
     ]
    },
    {
     "name": "stdout",
     "output_type": "stream",
     "text": [
      "Copied /pfs/mt-1oY5F7/luoyihao/project/DJL/dataset_raw/B站视频数据/最终视频  尾部无水印2/65-比特币市值超越特斯拉？以太坊轻舟已过？FTX还要重启？香港需要Web3？～Robert李區塊鏈日記1732.mp4 to /pfs/mt-1oY5F7/luoyihao/project/DJL/dataset/dataset_from_bilibili/65-比特币市值超越特斯拉？以太坊轻舟已过？FTX还要重启？香港需要Web3？～Robert李區塊鏈日記1732.mp4\n",
      "Copied /pfs/mt-1oY5F7/luoyihao/project/DJL/dataset_raw/B站视频数据/最终视频  尾部无水印2/58-市疾控中心，月薪5700，年底绩效1万，正常情况下朝九晚五双休.mp4 to /pfs/mt-1oY5F7/luoyihao/project/DJL/dataset/dataset_from_bilibili/58-市疾控中心，月薪5700，年底绩效1万，正常情况下朝九晚五双休.mp4\n"
     ]
    },
    {
     "name": "stderr",
     "output_type": "stream",
     "text": [
      "Copying mp4 files:  92%|█████████▏| 536/584 [00:53<00:04, 11.96file/s]"
     ]
    },
    {
     "name": "stdout",
     "output_type": "stream",
     "text": [
      "Copied /pfs/mt-1oY5F7/luoyihao/project/DJL/dataset_raw/B站视频数据/最终视频  尾部无水印2/19-大超预期！一季度GDP增长4.5%，你信吗？中特估在炒什么？.mp4 to /pfs/mt-1oY5F7/luoyihao/project/DJL/dataset/dataset_from_bilibili/19-大超预期！一季度GDP增长4.5%，你信吗？中特估在炒什么？.mp4\n",
      "Copied /pfs/mt-1oY5F7/luoyihao/project/DJL/dataset_raw/B站视频数据/最终视频  尾部无水印2/17-【极客大叔】改造.常熟国际人才港.mp4 to /pfs/mt-1oY5F7/luoyihao/project/DJL/dataset/dataset_from_bilibili/17-【极客大叔】改造.常熟国际人才港.mp4\n",
      "Copied /pfs/mt-1oY5F7/luoyihao/project/DJL/dataset_raw/B站视频数据/最终视频  尾部无水印2/30-【主播说联播】心怀国之大者 坚守为民情怀.mp4 to /pfs/mt-1oY5F7/luoyihao/project/DJL/dataset/dataset_from_bilibili/30-【主播说联播】心怀国之大者 坚守为民情怀.mp4\n",
      "Copied /pfs/mt-1oY5F7/luoyihao/project/DJL/dataset_raw/B站视频数据/最终视频  尾部无水印2/86-真实案例：我坐冤狱，越狱后抓住真凶，有罪还是有功？.mp4 to /pfs/mt-1oY5F7/luoyihao/project/DJL/dataset/dataset_from_bilibili/86-真实案例：我坐冤狱，越狱后抓住真凶，有罪还是有功？.mp4\n",
      "Copied /pfs/mt-1oY5F7/luoyihao/project/DJL/dataset_raw/B站视频数据/最终视频  尾部无水印2/12-《生活帮帮忙》——听中传播音系姐姐分享生活小妙招！.mp4 to /pfs/mt-1oY5F7/luoyihao/project/DJL/dataset/dataset_from_bilibili/12-《生活帮帮忙》——听中传播音系姐姐分享生活小妙招！.mp4\n",
      "Copied /pfs/mt-1oY5F7/luoyihao/project/DJL/dataset_raw/B站视频数据/最终视频  尾部无水印2/111-慕课《你好，中文》讲课示例.mp4 to /pfs/mt-1oY5F7/luoyihao/project/DJL/dataset/dataset_from_bilibili/111-慕课《你好，中文》讲课示例.mp4\n"
     ]
    },
    {
     "name": "stderr",
     "output_type": "stream",
     "text": [
      "Copying mp4 files:  93%|█████████▎| 541/584 [00:54<00:03, 10.96file/s]"
     ]
    },
    {
     "name": "stdout",
     "output_type": "stream",
     "text": [
      "Copied /pfs/mt-1oY5F7/luoyihao/project/DJL/dataset_raw/B站视频数据/最终视频  尾部无水印2/84-高三基础太差，听不懂老师讲课，零基础逆袭学姐带你不迷茫.mp4 to /pfs/mt-1oY5F7/luoyihao/project/DJL/dataset/dataset_from_bilibili/84-高三基础太差，听不懂老师讲课，零基础逆袭学姐带你不迷茫.mp4\n",
      "Copied /pfs/mt-1oY5F7/luoyihao/project/DJL/dataset_raw/B站视频数据/最终视频  尾部无水印2/59-背课文.mp4 to /pfs/mt-1oY5F7/luoyihao/project/DJL/dataset/dataset_from_bilibili/59-背课文.mp4\n",
      "Copied /pfs/mt-1oY5F7/luoyihao/project/DJL/dataset_raw/B站视频数据/最终视频  尾部无水印2/7-《e视界》中国教育电视台美女主持人-陈慧.mp4 to /pfs/mt-1oY5F7/luoyihao/project/DJL/dataset/dataset_from_bilibili/7-《e视界》中国教育电视台美女主持人-陈慧.mp4\n"
     ]
    },
    {
     "name": "stderr",
     "output_type": "stream",
     "text": [
      "Copying mp4 files:  93%|█████████▎| 543/584 [00:54<00:04, 10.07file/s]"
     ]
    },
    {
     "name": "stdout",
     "output_type": "stream",
     "text": [
      "Copied /pfs/mt-1oY5F7/luoyihao/project/DJL/dataset_raw/B站视频数据/最终视频  尾部无水印2/86-公司既然招我来，就要承担一定的风险，我要让老板知道便宜没好货。.mp4 to /pfs/mt-1oY5F7/luoyihao/project/DJL/dataset/dataset_from_bilibili/86-公司既然招我来，就要承担一定的风险，我要让老板知道便宜没好货。.mp4\n",
      "Copied /pfs/mt-1oY5F7/luoyihao/project/DJL/dataset_raw/B站视频数据/最终视频  尾部无水印2/46-省考岗位解析第5集，县公安局怎么样？.mp4 to /pfs/mt-1oY5F7/luoyihao/project/DJL/dataset/dataset_from_bilibili/46-省考岗位解析第5集，县公安局怎么样？.mp4\n"
     ]
    },
    {
     "name": "stderr",
     "output_type": "stream",
     "text": [
      "Copying mp4 files:  93%|█████████▎| 545/584 [00:54<00:03, 10.34file/s]"
     ]
    },
    {
     "name": "stdout",
     "output_type": "stream",
     "text": [
      "Copied /pfs/mt-1oY5F7/luoyihao/project/DJL/dataset_raw/B站视频数据/最终视频  尾部无水印2/54-省考岗位解析第15集，民政局怎么样？.mp4 to /pfs/mt-1oY5F7/luoyihao/project/DJL/dataset/dataset_from_bilibili/54-省考岗位解析第15集，民政局怎么样？.mp4\n",
      "Copied /pfs/mt-1oY5F7/luoyihao/project/DJL/dataset_raw/B站视频数据/最终视频  尾部无水印2/36-29岁的我北漂六年存款有多少呢？.mp4 to /pfs/mt-1oY5F7/luoyihao/project/DJL/dataset/dataset_from_bilibili/36-29岁的我北漂六年存款有多少呢？.mp4\n",
      "Copied /pfs/mt-1oY5F7/luoyihao/project/DJL/dataset_raw/B站视频数据/最终视频  尾部无水印2/38-80%的教师已经很穷了，不试白不试.mp4 to /pfs/mt-1oY5F7/luoyihao/project/DJL/dataset/dataset_from_bilibili/38-80%的教师已经很穷了，不试白不试.mp4\n"
     ]
    },
    {
     "name": "stderr",
     "output_type": "stream",
     "text": [
      "Copying mp4 files:  94%|█████████▎| 547/584 [00:55<00:03,  9.74file/s]"
     ]
    },
    {
     "name": "stdout",
     "output_type": "stream",
     "text": [
      "Copied /pfs/mt-1oY5F7/luoyihao/project/DJL/dataset_raw/B站视频数据/最终视频  尾部无水印2/15-别把股票当老婆，要当。。。【纯享投资】.mp4 to /pfs/mt-1oY5F7/luoyihao/project/DJL/dataset/dataset_from_bilibili/15-别把股票当老婆，要当。。。【纯享投资】.mp4\n",
      "Copied /pfs/mt-1oY5F7/luoyihao/project/DJL/dataset_raw/B站视频数据/最终视频  尾部无水印2/81-这段睡眠经历放眼全国大学生身上也是相当炸裂的.mp4 to /pfs/mt-1oY5F7/luoyihao/project/DJL/dataset/dataset_from_bilibili/81-这段睡眠经历放眼全国大学生身上也是相当炸裂的.mp4\n"
     ]
    },
    {
     "name": "stderr",
     "output_type": "stream",
     "text": [
      "Copying mp4 files:  94%|█████████▍| 549/584 [00:55<00:03,  9.63file/s]"
     ]
    },
    {
     "name": "stdout",
     "output_type": "stream",
     "text": [
      "Copied /pfs/mt-1oY5F7/luoyihao/project/DJL/dataset_raw/B站视频数据/最终视频  尾部无水印2/82-峰哥锐评程序员培训班.mp4 to /pfs/mt-1oY5F7/luoyihao/project/DJL/dataset/dataset_from_bilibili/82-峰哥锐评程序员培训班.mp4\n",
      "Copied /pfs/mt-1oY5F7/luoyihao/project/DJL/dataset_raw/B站视频数据/最终视频  尾部无水印2/85-真没见过哪个企业会把底薪标成4999元的.mp4 to /pfs/mt-1oY5F7/luoyihao/project/DJL/dataset/dataset_from_bilibili/85-真没见过哪个企业会把底薪标成4999元的.mp4\n"
     ]
    },
    {
     "name": "stderr",
     "output_type": "stream",
     "text": [
      "Copying mp4 files:  94%|█████████▍| 551/584 [00:55<00:03,  9.61file/s]"
     ]
    },
    {
     "name": "stdout",
     "output_type": "stream",
     "text": [
      "Copied /pfs/mt-1oY5F7/luoyihao/project/DJL/dataset_raw/B站视频数据/最终视频  尾部无水印2/29-分享监狱的真实工作情况和工资待遇，你心动了吗？.mp4 to /pfs/mt-1oY5F7/luoyihao/project/DJL/dataset/dataset_from_bilibili/29-分享监狱的真实工作情况和工资待遇，你心动了吗？.mp4\n",
      "Copied /pfs/mt-1oY5F7/luoyihao/project/DJL/dataset_raw/B站视频数据/最终视频  尾部无水印2/28-方法篇：做短线有抓好股的方法吗？.mp4 to /pfs/mt-1oY5F7/luoyihao/project/DJL/dataset/dataset_from_bilibili/28-方法篇：做短线有抓好股的方法吗？.mp4\n"
     ]
    },
    {
     "name": "stderr",
     "output_type": "stream",
     "text": [
      "Copying mp4 files:  95%|█████████▌| 556/584 [00:55<00:02, 12.03file/s]"
     ]
    },
    {
     "name": "stdout",
     "output_type": "stream",
     "text": [
      "Copied /pfs/mt-1oY5F7/luoyihao/project/DJL/dataset_raw/B站视频数据/最终视频  尾部无水印2/13-爆！深圳房价暴跌，投资客欲哭无泪.mp4 to /pfs/mt-1oY5F7/luoyihao/project/DJL/dataset/dataset_from_bilibili/13-爆！深圳房价暴跌，投资客欲哭无泪.mp4\n",
      "Copied /pfs/mt-1oY5F7/luoyihao/project/DJL/dataset_raw/B站视频数据/最终视频  尾部无水印2/53-luo奔c：肌肉很“发达的”--太jian.mp4 to /pfs/mt-1oY5F7/luoyihao/project/DJL/dataset/dataset_from_bilibili/53-luo奔c：肌肉很“发达的”--太jian.mp4\n",
      "Copied /pfs/mt-1oY5F7/luoyihao/project/DJL/dataset_raw/B站视频数据/最终视频  尾部无水印2/87-证券公司真的坑，来自员工的吐槽.mp4 to /pfs/mt-1oY5F7/luoyihao/project/DJL/dataset/dataset_from_bilibili/87-证券公司真的坑，来自员工的吐槽.mp4\n",
      "Copied /pfs/mt-1oY5F7/luoyihao/project/DJL/dataset_raw/B站视频数据/最终视频  尾部无水印2/110-卢敬天老师六枝一中“五爱”演讲 片段四——爱老师.mp4 to /pfs/mt-1oY5F7/luoyihao/project/DJL/dataset/dataset_from_bilibili/110-卢敬天老师六枝一中“五爱”演讲 片段四——爱老师.mp4\n"
     ]
    },
    {
     "name": "stderr",
     "output_type": "stream",
     "text": [
      "Copying mp4 files:  96%|█████████▌| 558/584 [00:56<00:02,  8.83file/s]"
     ]
    },
    {
     "name": "stdout",
     "output_type": "stream",
     "text": [
      "Copied /pfs/mt-1oY5F7/luoyihao/project/DJL/dataset_raw/B站视频数据/最终视频  尾部无水印2/90-中国的穷二代和农二代们，未来该何去何从？未来充满希望，也充满挑战.mp4 to /pfs/mt-1oY5F7/luoyihao/project/DJL/dataset/dataset_from_bilibili/90-中国的穷二代和农二代们，未来该何去何从？未来充满希望，也充满挑战.mp4\n",
      "Copied /pfs/mt-1oY5F7/luoyihao/project/DJL/dataset_raw/B站视频数据/最终视频  尾部无水印2/32-卷烟厂，月薪8000，年终奖3.2万，公积金3000，可还行？.mp4 to /pfs/mt-1oY5F7/luoyihao/project/DJL/dataset/dataset_from_bilibili/32-卷烟厂，月薪8000，年终奖3.2万，公积金3000，可还行？.mp4\n",
      "Copied /pfs/mt-1oY5F7/luoyihao/project/DJL/dataset_raw/B站视频数据/最终视频  尾部无水印2/37-35岁剩女相亲，男子饭吃到一半就走，女子直呼真的有这么重要吗.mp4 to /pfs/mt-1oY5F7/luoyihao/project/DJL/dataset/dataset_from_bilibili/37-35岁剩女相亲，男子饭吃到一半就走，女子直呼真的有这么重要吗.mp4\n"
     ]
    },
    {
     "name": "stderr",
     "output_type": "stream",
     "text": [
      "Copying mp4 files:  96%|█████████▌| 560/584 [00:56<00:02,  9.44file/s]"
     ]
    },
    {
     "name": "stdout",
     "output_type": "stream",
     "text": [
      "Copied /pfs/mt-1oY5F7/luoyihao/project/DJL/dataset_raw/B站视频数据/最终视频  尾部无水印2/32-【主播说联播】学习 才是永葆青春的密码.mp4 to /pfs/mt-1oY5F7/luoyihao/project/DJL/dataset/dataset_from_bilibili/32-【主播说联播】学习 才是永葆青春的密码.mp4\n",
      "Copied /pfs/mt-1oY5F7/luoyihao/project/DJL/dataset_raw/B站视频数据/最终视频  尾部无水印2/72-程序培训班防忽悠,韭菜逆袭攻略.mp4 to /pfs/mt-1oY5F7/luoyihao/project/DJL/dataset/dataset_from_bilibili/72-程序培训班防忽悠,韭菜逆袭攻略.mp4\n"
     ]
    },
    {
     "name": "stderr",
     "output_type": "stream",
     "text": [
      "Copying mp4 files:  96%|█████████▌| 562/584 [00:56<00:02,  9.38file/s]"
     ]
    },
    {
     "name": "stdout",
     "output_type": "stream",
     "text": [
      "Copied /pfs/mt-1oY5F7/luoyihao/project/DJL/dataset_raw/B站视频数据/最终视频  尾部无水印2/76-大众变小众，静悄悄发生.mp4 to /pfs/mt-1oY5F7/luoyihao/project/DJL/dataset/dataset_from_bilibili/76-大众变小众，静悄悄发生.mp4\n",
      "Copied /pfs/mt-1oY5F7/luoyihao/project/DJL/dataset_raw/B站视频数据/最终视频  尾部无水印2/8-《e视界》中国教育电视台美女主持人-陈慧.mp4 to /pfs/mt-1oY5F7/luoyihao/project/DJL/dataset/dataset_from_bilibili/8-《e视界》中国教育电视台美女主持人-陈慧.mp4\n"
     ]
    },
    {
     "name": "stderr",
     "output_type": "stream",
     "text": [
      "Copying mp4 files:  97%|█████████▋| 564/584 [00:57<00:03,  5.34file/s]"
     ]
    },
    {
     "name": "stdout",
     "output_type": "stream",
     "text": [
      "Copied /pfs/mt-1oY5F7/luoyihao/project/DJL/dataset_raw/B站视频数据/最终视频  尾部无水印2/64-我出身寒门，在体制内摸爬滚打11年，终究混成了人人唾弃的废物.mp4 to /pfs/mt-1oY5F7/luoyihao/project/DJL/dataset/dataset_from_bilibili/64-我出身寒门，在体制内摸爬滚打11年，终究混成了人人唾弃的废物.mp4\n",
      "Copied /pfs/mt-1oY5F7/luoyihao/project/DJL/dataset_raw/B站视频数据/最终视频  尾部无水印2/74-程序员培训6个月，月薪1.2万，入职2周就后悔了！慎重啊兄弟.mp4 to /pfs/mt-1oY5F7/luoyihao/project/DJL/dataset/dataset_from_bilibili/74-程序员培训6个月，月薪1.2万，入职2周就后悔了！慎重啊兄弟.mp4\n"
     ]
    },
    {
     "name": "stderr",
     "output_type": "stream",
     "text": [
      "Copying mp4 files:  97%|█████████▋| 567/584 [00:57<00:02,  6.36file/s]"
     ]
    },
    {
     "name": "stdout",
     "output_type": "stream",
     "text": [
      "Copied /pfs/mt-1oY5F7/luoyihao/project/DJL/dataset_raw/B站视频数据/最终视频  尾部无水印2/109-刘锎宇｜《一棵开花的树》.mp4 to /pfs/mt-1oY5F7/luoyihao/project/DJL/dataset/dataset_from_bilibili/109-刘锎宇｜《一棵开花的树》.mp4\n",
      "Copied /pfs/mt-1oY5F7/luoyihao/project/DJL/dataset_raw/B站视频数据/最终视频  尾部无水印2/63-为什么金融机构的中后台岗位千万不能去？！.mp4 to /pfs/mt-1oY5F7/luoyihao/project/DJL/dataset/dataset_from_bilibili/63-为什么金融机构的中后台岗位千万不能去？！.mp4\n",
      "Copied /pfs/mt-1oY5F7/luoyihao/project/DJL/dataset_raw/B站视频数据/最终视频  尾部无水印2/65-我的案子是个冤案，被枪毙前我反杀法警，是正当防卫吗.mp4 to /pfs/mt-1oY5F7/luoyihao/project/DJL/dataset/dataset_from_bilibili/65-我的案子是个冤案，被枪毙前我反杀法警，是正当防卫吗.mp4\n",
      "Copied /pfs/mt-1oY5F7/luoyihao/project/DJL/dataset_raw/B站视频数据/最终视频  尾部无水印2/6-《e视界》中国教育电视台美女主持人-陈慧.mp4 to /pfs/mt-1oY5F7/luoyihao/project/DJL/dataset/dataset_from_bilibili/6-《e视界》中国教育电视台美女主持人-陈慧.mp4\n"
     ]
    },
    {
     "name": "stderr",
     "output_type": "stream",
     "text": [
      "Copying mp4 files:  98%|█████████▊| 572/584 [00:58<00:01,  8.37file/s]"
     ]
    },
    {
     "name": "stdout",
     "output_type": "stream",
     "text": [
      "Copied /pfs/mt-1oY5F7/luoyihao/project/DJL/dataset_raw/B站视频数据/最终视频  尾部无水印2/18-从自身经历讲讲金融领域风控工作.mp4 to /pfs/mt-1oY5F7/luoyihao/project/DJL/dataset/dataset_from_bilibili/18-从自身经历讲讲金融领域风控工作.mp4\n",
      "Copied /pfs/mt-1oY5F7/luoyihao/project/DJL/dataset_raw/B站视频数据/最终视频  尾部无水印2/11-《生活帮帮忙》——听中传播音系姐姐分享生活小妙招！.mp4 to /pfs/mt-1oY5F7/luoyihao/project/DJL/dataset/dataset_from_bilibili/11-《生活帮帮忙》——听中传播音系姐姐分享生活小妙招！.mp4\n",
      "Copied /pfs/mt-1oY5F7/luoyihao/project/DJL/dataset_raw/B站视频数据/最终视频  尾部无水印2/52-省考岗位解析第11集，自然资源局怎么样？.mp4 to /pfs/mt-1oY5F7/luoyihao/project/DJL/dataset/dataset_from_bilibili/52-省考岗位解析第11集，自然资源局怎么样？.mp4\n",
      "Copied /pfs/mt-1oY5F7/luoyihao/project/DJL/dataset_raw/B站视频数据/最终视频  尾部无水印2/85-个人新闻播报练习.mp4 to /pfs/mt-1oY5F7/luoyihao/project/DJL/dataset/dataset_from_bilibili/85-个人新闻播报练习.mp4\n",
      "Copied /pfs/mt-1oY5F7/luoyihao/project/DJL/dataset_raw/B站视频数据/最终视频  尾部无水印2/18-【教师编】面试时一开口就是资深老教师的评价语和过渡语，你学废了吗？.mp4 to /pfs/mt-1oY5F7/luoyihao/project/DJL/dataset/dataset_from_bilibili/18-【教师编】面试时一开口就是资深老教师的评价语和过渡语，你学废了吗？.mp4\n"
     ]
    },
    {
     "name": "stderr",
     "output_type": "stream",
     "text": [
      "Copying mp4 files:  99%|█████████▊| 576/584 [00:58<00:00, 11.70file/s]"
     ]
    },
    {
     "name": "stdout",
     "output_type": "stream",
     "text": [
      "Copied /pfs/mt-1oY5F7/luoyihao/project/DJL/dataset_raw/B站视频数据/最终视频  尾部无水印2/31-【主播说联播】新疆 要“润”！.mp4 to /pfs/mt-1oY5F7/luoyihao/project/DJL/dataset/dataset_from_bilibili/31-【主播说联播】新疆 要“润”！.mp4\n",
      "Copied /pfs/mt-1oY5F7/luoyihao/project/DJL/dataset_raw/B站视频数据/最终视频  尾部无水印2/66-毕业9个月的22届大家都还好嘛,工作离职全职女儿？二战考研再度迷茫？这些都是谁的故事.mp4 to /pfs/mt-1oY5F7/luoyihao/project/DJL/dataset/dataset_from_bilibili/66-毕业9个月的22届大家都还好嘛,工作离职全职女儿？二战考研再度迷茫？这些都是谁的故事.mp4\n",
      "Copied /pfs/mt-1oY5F7/luoyihao/project/DJL/dataset_raw/B站视频数据/最终视频  尾部无水印2/112-冒险揭秘培训机构割韭菜套路，且看且珍惜.mp4 to /pfs/mt-1oY5F7/luoyihao/project/DJL/dataset/dataset_from_bilibili/112-冒险揭秘培训机构割韭菜套路，且看且珍惜.mp4\n"
     ]
    },
    {
     "name": "stderr",
     "output_type": "stream",
     "text": [
      "Copying mp4 files:  99%|█████████▉| 578/584 [00:58<00:00,  7.49file/s]"
     ]
    },
    {
     "name": "stdout",
     "output_type": "stream",
     "text": [
      "Copied /pfs/mt-1oY5F7/luoyihao/project/DJL/dataset_raw/B站视频数据/最终视频  尾部无水印2/100-今天我用ChatGPT上班，明天.....mp4 to /pfs/mt-1oY5F7/luoyihao/project/DJL/dataset/dataset_from_bilibili/100-今天我用ChatGPT上班，明天.....mp4\n",
      "Copied /pfs/mt-1oY5F7/luoyihao/project/DJL/dataset_raw/B站视频数据/最终视频  尾部无水印2/78-在应急管理局借调5个月后，我果断提桶跑路回到了偏远乡镇.mp4 to /pfs/mt-1oY5F7/luoyihao/project/DJL/dataset/dataset_from_bilibili/78-在应急管理局借调5个月后，我果断提桶跑路回到了偏远乡镇.mp4\n"
     ]
    },
    {
     "name": "stderr",
     "output_type": "stream",
     "text": [
      "Copying mp4 files: 100%|█████████▉| 582/584 [00:59<00:00,  9.00file/s]"
     ]
    },
    {
     "name": "stdout",
     "output_type": "stream",
     "text": [
      "Copied /pfs/mt-1oY5F7/luoyihao/project/DJL/dataset_raw/B站视频数据/最终视频  尾部无水印2/35-28岁3大专生，欲花费3万块钱培训编程，被我极力劝阻，我错了吗.mp4 to /pfs/mt-1oY5F7/luoyihao/project/DJL/dataset/dataset_from_bilibili/35-28岁3大专生，欲花费3万块钱培训编程，被我极力劝阻，我错了吗.mp4\n",
      "Copied /pfs/mt-1oY5F7/luoyihao/project/DJL/dataset_raw/B站视频数据/最终视频  尾部无水印2/8-SpaceX星舰推迟发射 没有炸 我很失望.mp4 to /pfs/mt-1oY5F7/luoyihao/project/DJL/dataset/dataset_from_bilibili/8-SpaceX星舰推迟发射 没有炸 我很失望.mp4\n",
      "Copied /pfs/mt-1oY5F7/luoyihao/project/DJL/dataset_raw/B站视频数据/最终视频  尾部无水印2/40-95后高中老师是这样讲课的｜教师编第一上岸，试讲分享….mp4 to /pfs/mt-1oY5F7/luoyihao/project/DJL/dataset/dataset_from_bilibili/40-95后高中老师是这样讲课的｜教师编第一上岸，试讲分享….mp4\n"
     ]
    },
    {
     "name": "stderr",
     "output_type": "stream",
     "text": [
      "Copying mp4 files: 100%|██████████| 584/584 [00:59<00:00,  9.74file/s]"
     ]
    },
    {
     "name": "stdout",
     "output_type": "stream",
     "text": [
      "Copied /pfs/mt-1oY5F7/luoyihao/project/DJL/dataset_raw/B站视频数据/最终视频  尾部无水印2/105-朗读《哀江南赋》并序——全网之最钝角.mp4 to /pfs/mt-1oY5F7/luoyihao/project/DJL/dataset/dataset_from_bilibili/105-朗读《哀江南赋》并序——全网之最钝角.mp4\n",
      "Copied /pfs/mt-1oY5F7/luoyihao/project/DJL/dataset_raw/B站视频数据/最终视频  尾部无水印2/86-真实案例：我坐冤狱，越狱后抓住真凶，有罪还是有功？(1).mp4 to /pfs/mt-1oY5F7/luoyihao/project/DJL/dataset/dataset_from_bilibili/86-真实案例：我坐冤狱，越狱后抓住真凶，有罪还是有功？(1).mp4\n",
      "All mp4 files have been copied successfully.\n"
     ]
    },
    {
     "name": "stderr",
     "output_type": "stream",
     "text": [
      "\n"
     ]
    }
   ],
   "source": [
    "import os\n",
    "import shutil\n",
    "import glob\n",
    "from tqdm import tqdm\n",
    "\n",
    "def copy_all_mp4_files(source_root, destination_root):\n",
    "    # 检查源目录是否存在\n",
    "    if not os.path.exists(source_root):\n",
    "        raise ValueError('Source directory does not exist')\n",
    "    \n",
    "    # 如果目标目录不存在，则创建\n",
    "    if not os.path.exists(destination_root):\n",
    "        os.makedirs(destination_root)\n",
    "\n",
    "    # 获取所有 mp4 文件列表\n",
    "    mp4_files = [os.path.join(root, file)\n",
    "                 for root, dirs, files in os.walk(source_root)\n",
    "                 for file in files if file.endswith('.mp4')]\n",
    "\n",
    "    # 使用 tqdm 显示进度条\n",
    "    for source_file in tqdm(mp4_files, desc=\"Copying mp4 files\", unit=\"file\"):\n",
    "        # 构建目标文件路径\n",
    "        destination_file = os.path.join(destination_root, os.path.basename(source_file))\n",
    "        # 复制文件\n",
    "        shutil.copy2(source_file, destination_file)\n",
    "        print(f\"Copied {source_file} to {destination_file}\")\n",
    "\n",
    "if __name__ == '__main__':\n",
    "    source_root = '/pfs/mt-1oY5F7/luoyihao/project/DJL/dataset_raw/B站视频数据'\n",
    "    destination_root = '/pfs/mt-1oY5F7/luoyihao/project/DJL/dataset/dataset_from_bilibili'\n",
    "    copy_all_mp4_files(source_root, destination_root)\n",
    "    print(\"All mp4 files have been copied successfully.\")\n"
   ]
  },
  {
   "cell_type": "code",
   "execution_count": null,
   "metadata": {},
   "outputs": [],
   "source": []
  }
 ],
 "metadata": {
  "kernelspec": {
   "display_name": "DJL_sync",
   "language": "python",
   "name": "python3"
  },
  "language_info": {
   "codemirror_mode": {
    "name": "ipython",
    "version": 3
   },
   "file_extension": ".py",
   "mimetype": "text/x-python",
   "name": "python",
   "nbconvert_exporter": "python",
   "pygments_lexer": "ipython3",
   "version": "3.9.19"
  }
 },
 "nbformat": 4,
 "nbformat_minor": 2
}

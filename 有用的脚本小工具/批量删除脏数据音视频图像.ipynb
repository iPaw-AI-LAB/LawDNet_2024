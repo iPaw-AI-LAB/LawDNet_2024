{
 "cells": [
  {
   "cell_type": "markdown",
   "metadata": {},
   "source": [
    "### 删除脏数据\n",
    "\n",
    "### 输入名字，删除以下文件\n",
    "\n",
    "./asserts/training_data/split_video_25fps_deepspeech/名字_deepspeech.txt\n",
    "./asserts/training_data/split_video_25fps_crop_face/名字/*\n"
   ]
  },
  {
   "cell_type": "code",
   "execution_count": null,
   "metadata": {},
   "outputs": [],
   "source": []
  }
 ],
 "metadata": {
  "language_info": {
   "name": "python"
  },
  "orig_nbformat": 4
 },
 "nbformat": 4,
 "nbformat_minor": 2
}

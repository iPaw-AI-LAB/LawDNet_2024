{
 "cells": [
  {
   "cell_type": "markdown",
   "metadata": {},
   "source": [
    "#  贪心算法 CTC decoder解码deepspeech"
   ]
  },
  {
   "cell_type": "code",
   "execution_count": null,
   "metadata": {},
   "outputs": [],
   "source": [
    "import numpy as np\n",
    "from collections import Counter\n",
    "\n",
    "# 定义标签列表\n",
    "labels = [' ', 'a', 'b', 'c', 'd', 'e', 'f', 'g', 'h', 'i', 'j', 'k', 'l', 'm', 'n', 'o', 'p', 'q', 'r', 's', 't', 'u', 'v', 'w', 'x', 'y', 'z', \"'\", '-']\n",
    "\n",
    "def ctc_decoder(predictions, blank_index):\n",
    "    # 初始化解码结果列表\n",
    "    decoded = []\n",
    "\n",
    "    # 遍历每个时间步\n",
    "    for t in range(predictions.shape[0]):\n",
    "        # 获取当前时间步的概率分布\n",
    "        prob_distribution = predictions[t]\n",
    "\n",
    "        # 通过 argmax 找到概率最大的标签索引\n",
    "        argmax_index = np.argmax(prob_distribution)\n",
    "\n",
    "        # 如果标签索引不是 blank_index，则将其添加到解码结果列表中\n",
    "        if argmax_index != blank_index:\n",
    "            decoded.append(argmax_index)\n",
    "\n",
    "        # 去除连续重复的标签\n",
    "        if len(decoded) >= 2 and decoded[-1] == decoded[-2]:\n",
    "            decoded.pop()\n",
    "\n",
    "    return decoded\n",
    "\n",
    "# 读取 DeepSpeech 特征文件\n",
    "with open('../asserts/training_data-HDTF400/split_video_25fps_deepspeech/RD_Radio1_000_corrected_deepspeech.txt', 'r') as f:\n",
    "    lines = f.readlines()\n",
    "\n",
    "# 遍历每一行，并进行 CTC 解码\n",
    "decoded_text = ''\n",
    "for line in lines:\n",
    "    # 将字符串转换为数字列表\n",
    "    nums = [float(x) for x in line.strip().split()]\n",
    "\n",
    "    # 将数字列表转换为概率分布\n",
    "    prob_distribution = np.array(nums)\n",
    "\n",
    "    # 进行 CTC 解码\n",
    "    decoded_result = ctc_decoder(prob_distribution.reshape((-1, len(labels))), len(labels) - 1)\n",
    "\n",
    "    # 将解码结果转换为文本\n",
    "    text = ''.join([labels[i] for i in decoded_result])\n",
    "\n",
    "    # 拼接解码结果\n",
    "    decoded_text += text\n",
    "\n",
    "# 打印拼接后的解码结果\n",
    "print(decoded_text)\n"
   ]
  },
  {
   "cell_type": "markdown",
   "metadata": {},
   "source": [
    "#### 用wav2vec挑选参考帧"
   ]
  },
  {
   "cell_type": "code",
   "execution_count": 1,
   "metadata": {},
   "outputs": [
    {
     "ename": "ModuleNotFoundError",
     "evalue": "No module named 'transformers'",
     "output_type": "error",
     "traceback": [
      "\u001b[0;31m---------------------------------------------------------------------------\u001b[0m",
      "\u001b[0;31mModuleNotFoundError\u001b[0m                       Traceback (most recent call last)",
      "Cell \u001b[0;32mIn[1], line 1\u001b[0m\n\u001b[0;32m----> 1\u001b[0m \u001b[39mfrom\u001b[39;00m \u001b[39mtransformers\u001b[39;00m \u001b[39mimport\u001b[39;00m Wav2Vec2Processor, Wav2Vec2ForCTC \n\u001b[1;32m      2\u001b[0m \u001b[39m# from datasets import load_dataset\u001b[39;00m\n\u001b[1;32m      3\u001b[0m \u001b[39mimport\u001b[39;00m \u001b[39mtorch\u001b[39;00m\n",
      "\u001b[0;31mModuleNotFoundError\u001b[0m: No module named 'transformers'"
     ]
    }
   ],
   "source": [
    "from transformers import Wav2Vec2Processor, Wav2Vec2ForCTC \n",
    "# from datasets import load_dataset\n",
    "import torch\n",
    "import soundfile as sf\n",
    "\n",
    "# load model and processor\n",
    "processor = Wav2Vec2Processor.from_pretrained(\"./wav2vec2-xls-r-300m-timit-phoneme\")\n",
    "model = Wav2Vec2ForCTC.from_pretrained(\"./wav2vec2-xls-r-300m-timit-phoneme\")\n",
    "\n",
    "# Read and process the input\n",
    "audio_input, sample_rate = sf.read(\"./template/英文tts.wav\")\n",
    "inputs = processor(audio_input, sampling_rate=16_000, return_tensors=\"pt\", padding=True)\n",
    "\n",
    "with torch.no_grad():\n",
    "    logits = model(inputs.input_values, attention_mask=inputs.attention_mask).logits\n",
    "\n",
    "# Decode id into string\n",
    "predicted_ids = torch.argmax(logits, axis=-1)      \n",
    "predicted_sentences = processor.batch_decode(predicted_ids)\n",
    "print(predicted_sentences)\n"
   ]
  },
  {
   "cell_type": "code",
   "execution_count": null,
   "metadata": {},
   "outputs": [],
   "source": []
  }
 ],
 "metadata": {
  "kernelspec": {
   "display_name": "base",
   "language": "python",
   "name": "python3"
  },
  "language_info": {
   "codemirror_mode": {
    "name": "ipython",
    "version": 3
   },
   "file_extension": ".py",
   "mimetype": "text/x-python",
   "name": "python",
   "nbconvert_exporter": "python",
   "pygments_lexer": "ipython3",
   "version": "3.8.17"
  },
  "orig_nbformat": 4
 },
 "nbformat": 4,
 "nbformat_minor": 2
}

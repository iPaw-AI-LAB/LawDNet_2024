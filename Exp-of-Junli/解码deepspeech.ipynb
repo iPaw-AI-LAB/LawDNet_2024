{
 "cells": [
  {
   "cell_type": "markdown",
   "metadata": {},
   "source": [
    "#  贪心算法 CTC decoder解码deepspeech"
   ]
  },
  {
   "cell_type": "code",
   "execution_count": null,
   "metadata": {},
   "outputs": [],
   "source": [
    "import numpy as np\n",
    "from collections import Counter\n",
    "\n",
    "# 定义标签列表\n",
    "labels = [' ', 'a', 'b', 'c', 'd', 'e', 'f', 'g', 'h', 'i', 'j', 'k', 'l', 'm', 'n', 'o', 'p', 'q', 'r', 's', 't', 'u', 'v', 'w', 'x', 'y', 'z', \"'\", '-']\n",
    "\n",
    "def ctc_decoder(predictions, blank_index):\n",
    "    # 初始化解码结果列表\n",
    "    decoded = []\n",
    "\n",
    "    # 遍历每个时间步\n",
    "    for t in range(predictions.shape[0]):\n",
    "        # 获取当前时间步的概率分布\n",
    "        prob_distribution = predictions[t]\n",
    "\n",
    "        # 通过 argmax 找到概率最大的标签索引\n",
    "        argmax_index = np.argmax(prob_distribution)\n",
    "\n",
    "        # 如果标签索引不是 blank_index，则将其添加到解码结果列表中\n",
    "        if argmax_index != blank_index:\n",
    "            decoded.append(argmax_index)\n",
    "\n",
    "        # 去除连续重复的标签\n",
    "        if len(decoded) >= 2 and decoded[-1] == decoded[-2]:\n",
    "            decoded.pop()\n",
    "\n",
    "    return decoded\n",
    "\n",
    "# 读取 DeepSpeech 特征文件\n",
    "with open('../asserts/training_data-HDTF400/split_video_25fps_deepspeech/RD_Radio1_000_corrected_deepspeech.txt', 'r') as f:\n",
    "    lines = f.readlines()\n",
    "\n",
    "# 遍历每一行，并进行 CTC 解码\n",
    "decoded_text = ''\n",
    "for line in lines:\n",
    "    # 将字符串转换为数字列表\n",
    "    nums = [float(x) for x in line.strip().split()]\n",
    "\n",
    "    # 将数字列表转换为概率分布\n",
    "    prob_distribution = np.array(nums)\n",
    "\n",
    "    # 进行 CTC 解码\n",
    "    decoded_result = ctc_decoder(prob_distribution.reshape((-1, len(labels))), len(labels) - 1)\n",
    "\n",
    "    # 将解码结果转换为文本\n",
    "    text = ''.join([labels[i] for i in decoded_result])\n",
    "\n",
    "    # 拼接解码结果\n",
    "    decoded_text += text\n",
    "\n",
    "# 打印拼接后的解码结果\n",
    "print(decoded_text)\n"
   ]
  }
 ],
 "metadata": {
  "language_info": {
   "name": "python"
  },
  "orig_nbformat": 4
 },
 "nbformat": 4,
 "nbformat_minor": 2
}
